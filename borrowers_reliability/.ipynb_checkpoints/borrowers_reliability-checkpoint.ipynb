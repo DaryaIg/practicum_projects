{
 "cells": [
  {
   "cell_type": "markdown",
   "metadata": {},
   "source": [
    "## Исследование надёжности заёмщиков\n",
    "\n",
    "В рамках разработки модели кредитного скоринга требуется исследовать надежность заемщиков и выяснить, влияет ли семейной положение, наличие детей на факт возврата кредита."
   ]
  },
  {
   "cell_type": "markdown",
   "metadata": {},
   "source": [
    "### Общая информация"
   ]
  },
  {
   "cell_type": "code",
   "execution_count": 1,
   "metadata": {},
   "outputs": [
    {
     "name": "stdout",
     "output_type": "stream",
     "text": [
      "<class 'pandas.core.frame.DataFrame'>\n",
      "RangeIndex: 21525 entries, 0 to 21524\n",
      "Data columns (total 12 columns):\n",
      "children            21525 non-null int64\n",
      "days_employed       19351 non-null float64\n",
      "dob_years           21525 non-null int64\n",
      "education           21525 non-null object\n",
      "education_id        21525 non-null int64\n",
      "family_status       21525 non-null object\n",
      "family_status_id    21525 non-null int64\n",
      "gender              21525 non-null object\n",
      "income_type         21525 non-null object\n",
      "debt                21525 non-null int64\n",
      "total_income        19351 non-null float64\n",
      "purpose             21525 non-null object\n",
      "dtypes: float64(2), int64(5), object(5)\n",
      "memory usage: 2.0+ MB\n"
     ]
    },
    {
     "data": {
      "text/html": [
       "<div>\n",
       "<style scoped>\n",
       "    .dataframe tbody tr th:only-of-type {\n",
       "        vertical-align: middle;\n",
       "    }\n",
       "\n",
       "    .dataframe tbody tr th {\n",
       "        vertical-align: top;\n",
       "    }\n",
       "\n",
       "    .dataframe thead th {\n",
       "        text-align: right;\n",
       "    }\n",
       "</style>\n",
       "<table border=\"1\" class=\"dataframe\">\n",
       "  <thead>\n",
       "    <tr style=\"text-align: right;\">\n",
       "      <th></th>\n",
       "      <th>children</th>\n",
       "      <th>days_employed</th>\n",
       "      <th>dob_years</th>\n",
       "      <th>education</th>\n",
       "      <th>education_id</th>\n",
       "      <th>family_status</th>\n",
       "      <th>family_status_id</th>\n",
       "      <th>gender</th>\n",
       "      <th>income_type</th>\n",
       "      <th>debt</th>\n",
       "      <th>total_income</th>\n",
       "      <th>purpose</th>\n",
       "    </tr>\n",
       "  </thead>\n",
       "  <tbody>\n",
       "    <tr>\n",
       "      <td>0</td>\n",
       "      <td>1</td>\n",
       "      <td>-8437.673028</td>\n",
       "      <td>42</td>\n",
       "      <td>высшее</td>\n",
       "      <td>0</td>\n",
       "      <td>женат / замужем</td>\n",
       "      <td>0</td>\n",
       "      <td>F</td>\n",
       "      <td>сотрудник</td>\n",
       "      <td>0</td>\n",
       "      <td>253875.639453</td>\n",
       "      <td>покупка жилья</td>\n",
       "    </tr>\n",
       "    <tr>\n",
       "      <td>1</td>\n",
       "      <td>1</td>\n",
       "      <td>-4024.803754</td>\n",
       "      <td>36</td>\n",
       "      <td>среднее</td>\n",
       "      <td>1</td>\n",
       "      <td>женат / замужем</td>\n",
       "      <td>0</td>\n",
       "      <td>F</td>\n",
       "      <td>сотрудник</td>\n",
       "      <td>0</td>\n",
       "      <td>112080.014102</td>\n",
       "      <td>приобретение автомобиля</td>\n",
       "    </tr>\n",
       "    <tr>\n",
       "      <td>2</td>\n",
       "      <td>0</td>\n",
       "      <td>-5623.422610</td>\n",
       "      <td>33</td>\n",
       "      <td>Среднее</td>\n",
       "      <td>1</td>\n",
       "      <td>женат / замужем</td>\n",
       "      <td>0</td>\n",
       "      <td>M</td>\n",
       "      <td>сотрудник</td>\n",
       "      <td>0</td>\n",
       "      <td>145885.952297</td>\n",
       "      <td>покупка жилья</td>\n",
       "    </tr>\n",
       "    <tr>\n",
       "      <td>3</td>\n",
       "      <td>3</td>\n",
       "      <td>-4124.747207</td>\n",
       "      <td>32</td>\n",
       "      <td>среднее</td>\n",
       "      <td>1</td>\n",
       "      <td>женат / замужем</td>\n",
       "      <td>0</td>\n",
       "      <td>M</td>\n",
       "      <td>сотрудник</td>\n",
       "      <td>0</td>\n",
       "      <td>267628.550329</td>\n",
       "      <td>дополнительное образование</td>\n",
       "    </tr>\n",
       "    <tr>\n",
       "      <td>4</td>\n",
       "      <td>0</td>\n",
       "      <td>340266.072047</td>\n",
       "      <td>53</td>\n",
       "      <td>среднее</td>\n",
       "      <td>1</td>\n",
       "      <td>гражданский брак</td>\n",
       "      <td>1</td>\n",
       "      <td>F</td>\n",
       "      <td>пенсионер</td>\n",
       "      <td>0</td>\n",
       "      <td>158616.077870</td>\n",
       "      <td>сыграть свадьбу</td>\n",
       "    </tr>\n",
       "  </tbody>\n",
       "</table>\n",
       "</div>"
      ],
      "text/plain": [
       "   children  days_employed  dob_years education  education_id  \\\n",
       "0         1   -8437.673028         42    высшее             0   \n",
       "1         1   -4024.803754         36   среднее             1   \n",
       "2         0   -5623.422610         33   Среднее             1   \n",
       "3         3   -4124.747207         32   среднее             1   \n",
       "4         0  340266.072047         53   среднее             1   \n",
       "\n",
       "      family_status  family_status_id gender income_type  debt   total_income  \\\n",
       "0   женат / замужем                 0      F   сотрудник     0  253875.639453   \n",
       "1   женат / замужем                 0      F   сотрудник     0  112080.014102   \n",
       "2   женат / замужем                 0      M   сотрудник     0  145885.952297   \n",
       "3   женат / замужем                 0      M   сотрудник     0  267628.550329   \n",
       "4  гражданский брак                 1      F   пенсионер     0  158616.077870   \n",
       "\n",
       "                      purpose  \n",
       "0               покупка жилья  \n",
       "1     приобретение автомобиля  \n",
       "2               покупка жилья  \n",
       "3  дополнительное образование  \n",
       "4             сыграть свадьбу  "
      ]
     },
     "execution_count": 1,
     "metadata": {},
     "output_type": "execute_result"
    }
   ],
   "source": [
    "import pandas as pd\n",
    "data = pd.read_csv('/datasets/data.csv')\n",
    "data.info()\n",
    "data.head(5)"
   ]
  },
  {
   "cell_type": "markdown",
   "metadata": {},
   "source": [
    "### Вывод"
   ]
  },
  {
   "cell_type": "markdown",
   "metadata": {},
   "source": [
    "Предоставленные данные имеют пропущенные значения, дубликаты и ошибочные типы данных. Они нуждаются в предобработке."
   ]
  },
  {
   "cell_type": "markdown",
   "metadata": {},
   "source": [
    "### Предобработка данных"
   ]
  },
  {
   "cell_type": "markdown",
   "metadata": {},
   "source": [
    "### Обработка пропусков"
   ]
  },
  {
   "cell_type": "code",
   "execution_count": 2,
   "metadata": {},
   "outputs": [
    {
     "name": "stdout",
     "output_type": "stream",
     "text": [
      "142594.39684740017 сотрудник\n",
      "118514.48641164352 пенсионер\n",
      "172357.95096577113 компаньон\n",
      "150447.9352830068 госслужащий\n",
      "131339.7516762103 безработный\n",
      "499163.1449470857 предприниматель\n",
      "98201.62531401133 студент\n",
      "53829.13072905995 в декрете\n",
      "Empty DataFrame\n",
      "Columns: [children, days_employed, dob_years, education, education_id, family_status, family_status_id, gender, income_type, debt, total_income, purpose]\n",
      "Index: []\n"
     ]
    }
   ],
   "source": [
    "for cat in data['income_type'].unique():\n",
    "    median = data.loc[data.loc[:,'income_type'] == cat]['total_income'].median()\n",
    "    #data.loc[data['income_type'] == cat, 'total_income'] = median\n",
    "    print(median, cat)\n",
    "    data['total_income'] = data['total_income'].fillna(data.groupby('income_type')['total_income'].transform('median'))\n",
    "\n",
    "print(data.loc[data['total_income'].isnull()])"
   ]
  },
  {
   "cell_type": "markdown",
   "metadata": {},
   "source": [
    "### Вывод"
   ]
  },
  {
   "cell_type": "markdown",
   "metadata": {},
   "source": [
    "Пропущенные значения есть в колонках days_employed, total_income. Для ответа на поставленные вопросы нужно определить и заполнить пропущенные значения в колонке total_income. \n",
    "Доля пропущенных значений в этой колонке составляет 10%.\n",
    "Пропущенные значения соответствуют пропущенным значениям в колонке days_employed. Можно сделать вывод, что не все клиенты предоставили данные о своих доходах.\n",
    "Данные других колонок при пропущенном значении total_income нужны для исследования, поэтому принято решение заполнить пропущенные значения, а не удалять полностью строку с пустым значением.\n",
    "Проверим наличие артефактов. Среднее значение колонки = 167422. Максимальное = 2265604, минимальное - 20667. Принимая во внимание большой разброс значений, отсутствующие значения заполним медианой. Для увеличения качества данных заполним их в разрезе категорий по типу дохода. \n",
    "После замены отсутствующих значений в колонке total_income нет пропусков."
   ]
  },
  {
   "cell_type": "markdown",
   "metadata": {},
   "source": [
    "### Замена типа данных"
   ]
  },
  {
   "cell_type": "code",
   "execution_count": 3,
   "metadata": {},
   "outputs": [
    {
     "name": "stdout",
     "output_type": "stream",
     "text": [
      "<class 'pandas.core.frame.DataFrame'>\n",
      "RangeIndex: 21525 entries, 0 to 21524\n",
      "Data columns (total 12 columns):\n",
      "children            21525 non-null int64\n",
      "days_employed       21525 non-null int64\n",
      "dob_years           21525 non-null int64\n",
      "education           21525 non-null object\n",
      "education_id        21525 non-null int64\n",
      "family_status       21525 non-null object\n",
      "family_status_id    21525 non-null int64\n",
      "gender              21525 non-null object\n",
      "income_type         21525 non-null object\n",
      "debt                21525 non-null int64\n",
      "total_income        21525 non-null int64\n",
      "purpose             21525 non-null object\n",
      "dtypes: int64(7), object(5)\n",
      "memory usage: 2.0+ MB\n"
     ]
    }
   ],
   "source": [
    "try:\n",
    "    data['days_employed'] = data['days_employed'].values.astype('int64')\n",
    "    data['total_income'] = data['total_income'].values.astype('int64')\n",
    "    data['children'] = data['children'].values.astype('int64')\n",
    "except:\n",
    "    print('Не удалось привести данные к типу int64')\n",
    "\n",
    "data['children'] = data['children'].replace(20, 2).replace(-1, 0)\n",
    "\n",
    "data.info()"
   ]
  },
  {
   "cell_type": "markdown",
   "metadata": {},
   "source": [
    "### Вывод"
   ]
  },
  {
   "cell_type": "markdown",
   "metadata": {},
   "source": [
    "Для обработки данных в разрезе предоставленных запросов нам не требуется высокая точность количественных переменных. Поэтому мы можем изменить тип данных в колонках days_employed и total_income на int64 для большей наглядности. Используем метод astype, потому что в методе to_numeric нельзя явно указать тип - int или float.\n",
    "\n",
    "При исследовании значений колонки children были выявлены явно ошибочные значения: -1, 20. Предположим, что значение 20 является результатом ошибочного нажатия нуля после двойки. А значение -1 могло придти из системы ввода данных как булево ложное значение признака наличия детей. Заменим соответственно, значения 20 на 2, -1 на 0."
   ]
  },
  {
   "cell_type": "markdown",
   "metadata": {},
   "source": [
    "### Обработка дубликатов"
   ]
  },
  {
   "cell_type": "code",
   "execution_count": 4,
   "metadata": {},
   "outputs": [
    {
     "name": "stdout",
     "output_type": "stream",
     "text": [
      "<class 'pandas.core.frame.DataFrame'>\n",
      "Int64Index: 21454 entries, 0 to 21524\n",
      "Data columns (total 12 columns):\n",
      "children            21454 non-null int64\n",
      "days_employed       21454 non-null int64\n",
      "dob_years           21454 non-null int64\n",
      "education           21454 non-null object\n",
      "education_id        21454 non-null int64\n",
      "family_status       21454 non-null object\n",
      "family_status_id    21454 non-null int64\n",
      "gender              21454 non-null object\n",
      "income_type         21454 non-null object\n",
      "debt                21454 non-null int64\n",
      "total_income        21454 non-null int64\n",
      "purpose             21454 non-null object\n",
      "dtypes: int64(7), object(5)\n",
      "memory usage: 2.1+ MB\n"
     ]
    }
   ],
   "source": [
    "data['education'] = data['education'].apply(str.lower)\n",
    "data['family_status'] = data['family_status'].apply(str.lower)\n",
    "data['gender'] = data['gender'].apply(str.lower)\n",
    "data['income_type'] = data['income_type'].apply(str.lower)\n",
    "data['purpose'] = data['purpose'].apply(str.lower)\n",
    "\n",
    "data = data.drop_duplicates()\n",
    "data.info()"
   ]
  },
  {
   "cell_type": "markdown",
   "metadata": {},
   "source": [
    "### Вывод"
   ]
  },
  {
   "cell_type": "markdown",
   "metadata": {},
   "source": [
    "Для поиска дубликтов строк сначала приведем строковые данные в нижний регистр. Проведем поиск дубликатов - найден 71 дубликат. Затем удалим полные дубликаты строк при помощи метода drop_duplicates, оставив только уникальные строки. Полные дубликаты строк могли появиться в связи с ошибками при загрузке данных. Для человека такая ошибка не характерна."
   ]
  },
  {
   "cell_type": "markdown",
   "metadata": {},
   "source": [
    "### Лемматизация"
   ]
  },
  {
   "cell_type": "code",
   "execution_count": 5,
   "metadata": {},
   "outputs": [
    {
     "data": {
      "text/html": [
       "<div>\n",
       "<style scoped>\n",
       "    .dataframe tbody tr th:only-of-type {\n",
       "        vertical-align: middle;\n",
       "    }\n",
       "\n",
       "    .dataframe tbody tr th {\n",
       "        vertical-align: top;\n",
       "    }\n",
       "\n",
       "    .dataframe thead th {\n",
       "        text-align: right;\n",
       "    }\n",
       "</style>\n",
       "<table border=\"1\" class=\"dataframe\">\n",
       "  <thead>\n",
       "    <tr style=\"text-align: right;\">\n",
       "      <th></th>\n",
       "      <th>children</th>\n",
       "      <th>days_employed</th>\n",
       "      <th>dob_years</th>\n",
       "      <th>education</th>\n",
       "      <th>education_id</th>\n",
       "      <th>family_status</th>\n",
       "      <th>family_status_id</th>\n",
       "      <th>gender</th>\n",
       "      <th>income_type</th>\n",
       "      <th>debt</th>\n",
       "      <th>total_income</th>\n",
       "      <th>purpose</th>\n",
       "      <th>purpose_categories</th>\n",
       "    </tr>\n",
       "  </thead>\n",
       "  <tbody>\n",
       "    <tr>\n",
       "      <td>0</td>\n",
       "      <td>1</td>\n",
       "      <td>-8437</td>\n",
       "      <td>42</td>\n",
       "      <td>высшее</td>\n",
       "      <td>0</td>\n",
       "      <td>женат / замужем</td>\n",
       "      <td>0</td>\n",
       "      <td>f</td>\n",
       "      <td>сотрудник</td>\n",
       "      <td>0</td>\n",
       "      <td>253875</td>\n",
       "      <td>покупка жилья</td>\n",
       "      <td>недвижимость</td>\n",
       "    </tr>\n",
       "    <tr>\n",
       "      <td>1</td>\n",
       "      <td>1</td>\n",
       "      <td>-4024</td>\n",
       "      <td>36</td>\n",
       "      <td>среднее</td>\n",
       "      <td>1</td>\n",
       "      <td>женат / замужем</td>\n",
       "      <td>0</td>\n",
       "      <td>f</td>\n",
       "      <td>сотрудник</td>\n",
       "      <td>0</td>\n",
       "      <td>112080</td>\n",
       "      <td>приобретение автомобиля</td>\n",
       "      <td>автомобиль</td>\n",
       "    </tr>\n",
       "    <tr>\n",
       "      <td>2</td>\n",
       "      <td>0</td>\n",
       "      <td>-5623</td>\n",
       "      <td>33</td>\n",
       "      <td>среднее</td>\n",
       "      <td>1</td>\n",
       "      <td>женат / замужем</td>\n",
       "      <td>0</td>\n",
       "      <td>m</td>\n",
       "      <td>сотрудник</td>\n",
       "      <td>0</td>\n",
       "      <td>145885</td>\n",
       "      <td>покупка жилья</td>\n",
       "      <td>недвижимость</td>\n",
       "    </tr>\n",
       "    <tr>\n",
       "      <td>3</td>\n",
       "      <td>3</td>\n",
       "      <td>-4124</td>\n",
       "      <td>32</td>\n",
       "      <td>среднее</td>\n",
       "      <td>1</td>\n",
       "      <td>женат / замужем</td>\n",
       "      <td>0</td>\n",
       "      <td>m</td>\n",
       "      <td>сотрудник</td>\n",
       "      <td>0</td>\n",
       "      <td>267628</td>\n",
       "      <td>дополнительное образование</td>\n",
       "      <td>образование</td>\n",
       "    </tr>\n",
       "    <tr>\n",
       "      <td>4</td>\n",
       "      <td>0</td>\n",
       "      <td>340266</td>\n",
       "      <td>53</td>\n",
       "      <td>среднее</td>\n",
       "      <td>1</td>\n",
       "      <td>гражданский брак</td>\n",
       "      <td>1</td>\n",
       "      <td>f</td>\n",
       "      <td>пенсионер</td>\n",
       "      <td>0</td>\n",
       "      <td>158616</td>\n",
       "      <td>сыграть свадьбу</td>\n",
       "      <td>свадьба</td>\n",
       "    </tr>\n",
       "    <tr>\n",
       "      <td>5</td>\n",
       "      <td>0</td>\n",
       "      <td>-926</td>\n",
       "      <td>27</td>\n",
       "      <td>высшее</td>\n",
       "      <td>0</td>\n",
       "      <td>гражданский брак</td>\n",
       "      <td>1</td>\n",
       "      <td>m</td>\n",
       "      <td>компаньон</td>\n",
       "      <td>0</td>\n",
       "      <td>255763</td>\n",
       "      <td>покупка жилья</td>\n",
       "      <td>недвижимость</td>\n",
       "    </tr>\n",
       "    <tr>\n",
       "      <td>6</td>\n",
       "      <td>0</td>\n",
       "      <td>-2879</td>\n",
       "      <td>43</td>\n",
       "      <td>высшее</td>\n",
       "      <td>0</td>\n",
       "      <td>женат / замужем</td>\n",
       "      <td>0</td>\n",
       "      <td>f</td>\n",
       "      <td>компаньон</td>\n",
       "      <td>0</td>\n",
       "      <td>240525</td>\n",
       "      <td>операции с жильем</td>\n",
       "      <td>недвижимость</td>\n",
       "    </tr>\n",
       "    <tr>\n",
       "      <td>7</td>\n",
       "      <td>0</td>\n",
       "      <td>-152</td>\n",
       "      <td>50</td>\n",
       "      <td>среднее</td>\n",
       "      <td>1</td>\n",
       "      <td>женат / замужем</td>\n",
       "      <td>0</td>\n",
       "      <td>m</td>\n",
       "      <td>сотрудник</td>\n",
       "      <td>0</td>\n",
       "      <td>135823</td>\n",
       "      <td>образование</td>\n",
       "      <td>образование</td>\n",
       "    </tr>\n",
       "    <tr>\n",
       "      <td>8</td>\n",
       "      <td>2</td>\n",
       "      <td>-6929</td>\n",
       "      <td>35</td>\n",
       "      <td>высшее</td>\n",
       "      <td>0</td>\n",
       "      <td>гражданский брак</td>\n",
       "      <td>1</td>\n",
       "      <td>f</td>\n",
       "      <td>сотрудник</td>\n",
       "      <td>0</td>\n",
       "      <td>95856</td>\n",
       "      <td>на проведение свадьбы</td>\n",
       "      <td>свадьба</td>\n",
       "    </tr>\n",
       "    <tr>\n",
       "      <td>9</td>\n",
       "      <td>0</td>\n",
       "      <td>-2188</td>\n",
       "      <td>41</td>\n",
       "      <td>среднее</td>\n",
       "      <td>1</td>\n",
       "      <td>женат / замужем</td>\n",
       "      <td>0</td>\n",
       "      <td>m</td>\n",
       "      <td>сотрудник</td>\n",
       "      <td>0</td>\n",
       "      <td>144425</td>\n",
       "      <td>покупка жилья для семьи</td>\n",
       "      <td>недвижимость</td>\n",
       "    </tr>\n",
       "  </tbody>\n",
       "</table>\n",
       "</div>"
      ],
      "text/plain": [
       "   children  days_employed  dob_years education  education_id  \\\n",
       "0         1          -8437         42    высшее             0   \n",
       "1         1          -4024         36   среднее             1   \n",
       "2         0          -5623         33   среднее             1   \n",
       "3         3          -4124         32   среднее             1   \n",
       "4         0         340266         53   среднее             1   \n",
       "5         0           -926         27    высшее             0   \n",
       "6         0          -2879         43    высшее             0   \n",
       "7         0           -152         50   среднее             1   \n",
       "8         2          -6929         35    высшее             0   \n",
       "9         0          -2188         41   среднее             1   \n",
       "\n",
       "      family_status  family_status_id gender income_type  debt  total_income  \\\n",
       "0   женат / замужем                 0      f   сотрудник     0        253875   \n",
       "1   женат / замужем                 0      f   сотрудник     0        112080   \n",
       "2   женат / замужем                 0      m   сотрудник     0        145885   \n",
       "3   женат / замужем                 0      m   сотрудник     0        267628   \n",
       "4  гражданский брак                 1      f   пенсионер     0        158616   \n",
       "5  гражданский брак                 1      m   компаньон     0        255763   \n",
       "6   женат / замужем                 0      f   компаньон     0        240525   \n",
       "7   женат / замужем                 0      m   сотрудник     0        135823   \n",
       "8  гражданский брак                 1      f   сотрудник     0         95856   \n",
       "9   женат / замужем                 0      m   сотрудник     0        144425   \n",
       "\n",
       "                      purpose purpose_categories  \n",
       "0               покупка жилья       недвижимость  \n",
       "1     приобретение автомобиля         автомобиль  \n",
       "2               покупка жилья       недвижимость  \n",
       "3  дополнительное образование        образование  \n",
       "4             сыграть свадьбу            свадьба  \n",
       "5               покупка жилья       недвижимость  \n",
       "6           операции с жильем       недвижимость  \n",
       "7                 образование        образование  \n",
       "8       на проведение свадьбы            свадьба  \n",
       "9     покупка жилья для семьи       недвижимость  "
      ]
     },
     "execution_count": 5,
     "metadata": {},
     "output_type": "execute_result"
    }
   ],
   "source": [
    "from pymystem3 import Mystem\n",
    "from collections import Counter\n",
    "m = Mystem()\n",
    "\n",
    "all_lemmas = []\n",
    "for string in data['purpose']:\n",
    "    all_lemmas += m.lemmatize(string)\n",
    "#print(Counter(all_lemmas))\n",
    "\n",
    "purpose_cats = ['недвижимость','автомобиль','образование','свадьба','ремонт']\n",
    "\n",
    "def get_purpose_cat(purpose):\n",
    "    lemmas = m.lemmatize(purpose)\n",
    "    if 'ремонт' in lemmas:\n",
    "        return 'ремонт'\n",
    "    elif 'жилье' in lemmas:\n",
    "        return 'недвижимость'\n",
    "    elif 'недвижимость' in lemmas:\n",
    "        return 'недвижимость'\n",
    "    elif 'автомобиль' in lemmas:\n",
    "        return 'автомобиль'\n",
    "    elif 'образование' in lemmas:\n",
    "        return 'образование'\n",
    "    elif 'свадьба' in lemmas:\n",
    "        return 'свадьба'\n",
    "    \n",
    "data['purpose_categories'] = data['purpose'].apply(get_purpose_cat)\n",
    "data.head(10)\n",
    "#data['purpose_categories'].unique()"
   ]
  },
  {
   "cell_type": "markdown",
   "metadata": {},
   "source": [
    "### Вывод"
   ]
  },
  {
   "cell_type": "markdown",
   "metadata": {},
   "source": [
    "Для того, чтобы выделить группы пользователей по целям кредита, нам нужно провести лемматизацию колонки purpose. Выведем уникальные найденные леммы. Цель кредита состоит из нескольких слов - прилагательные, глаголы, предлоги, существительные. Составим справочник категорий целей кредитов, отталкиваясь от лемм-существительных: у нас получилось пять категрий: недвижимость, автомобиль, образование, свадьба, ремонт. Разделим все записи по этим категориям и сохраним название категории в новую колонку purpose_cat. После этого проверим, все ли запеси были категоризированы, при помощи вывода уникальных значений колонки purpose_categories."
   ]
  },
  {
   "cell_type": "markdown",
   "metadata": {},
   "source": [
    "### Категоризация данных"
   ]
  },
  {
   "cell_type": "code",
   "execution_count": 6,
   "metadata": {},
   "outputs": [
    {
     "data": {
      "text/html": [
       "<div>\n",
       "<style scoped>\n",
       "    .dataframe tbody tr th:only-of-type {\n",
       "        vertical-align: middle;\n",
       "    }\n",
       "\n",
       "    .dataframe tbody tr th {\n",
       "        vertical-align: top;\n",
       "    }\n",
       "\n",
       "    .dataframe thead th {\n",
       "        text-align: right;\n",
       "    }\n",
       "</style>\n",
       "<table border=\"1\" class=\"dataframe\">\n",
       "  <thead>\n",
       "    <tr style=\"text-align: right;\">\n",
       "      <th></th>\n",
       "      <th>children</th>\n",
       "      <th>days_employed</th>\n",
       "      <th>dob_years</th>\n",
       "      <th>education</th>\n",
       "      <th>education_id</th>\n",
       "      <th>family_status</th>\n",
       "      <th>family_status_id</th>\n",
       "      <th>gender</th>\n",
       "      <th>income_type</th>\n",
       "      <th>debt</th>\n",
       "      <th>total_income</th>\n",
       "      <th>purpose</th>\n",
       "      <th>purpose_categories</th>\n",
       "      <th>children_count_cat</th>\n",
       "      <th>total_income_cat</th>\n",
       "    </tr>\n",
       "  </thead>\n",
       "  <tbody>\n",
       "    <tr>\n",
       "      <td>21515</td>\n",
       "      <td>1</td>\n",
       "      <td>-467</td>\n",
       "      <td>28</td>\n",
       "      <td>среднее</td>\n",
       "      <td>1</td>\n",
       "      <td>женат / замужем</td>\n",
       "      <td>0</td>\n",
       "      <td>f</td>\n",
       "      <td>сотрудник</td>\n",
       "      <td>1</td>\n",
       "      <td>109486</td>\n",
       "      <td>заняться образованием</td>\n",
       "      <td>образование</td>\n",
       "      <td>не многодетные</td>\n",
       "      <td>низкий доход</td>\n",
       "    </tr>\n",
       "    <tr>\n",
       "      <td>21516</td>\n",
       "      <td>0</td>\n",
       "      <td>-914</td>\n",
       "      <td>42</td>\n",
       "      <td>высшее</td>\n",
       "      <td>0</td>\n",
       "      <td>женат / замужем</td>\n",
       "      <td>0</td>\n",
       "      <td>f</td>\n",
       "      <td>компаньон</td>\n",
       "      <td>0</td>\n",
       "      <td>322807</td>\n",
       "      <td>покупка своего жилья</td>\n",
       "      <td>недвижимость</td>\n",
       "      <td>нет детей</td>\n",
       "      <td>высокий доход</td>\n",
       "    </tr>\n",
       "    <tr>\n",
       "      <td>21517</td>\n",
       "      <td>0</td>\n",
       "      <td>-404</td>\n",
       "      <td>42</td>\n",
       "      <td>высшее</td>\n",
       "      <td>0</td>\n",
       "      <td>гражданский брак</td>\n",
       "      <td>1</td>\n",
       "      <td>f</td>\n",
       "      <td>компаньон</td>\n",
       "      <td>0</td>\n",
       "      <td>178059</td>\n",
       "      <td>на покупку своего автомобиля</td>\n",
       "      <td>автомобиль</td>\n",
       "      <td>нет детей</td>\n",
       "      <td>высокий доход</td>\n",
       "    </tr>\n",
       "    <tr>\n",
       "      <td>21518</td>\n",
       "      <td>0</td>\n",
       "      <td>373995</td>\n",
       "      <td>59</td>\n",
       "      <td>среднее</td>\n",
       "      <td>1</td>\n",
       "      <td>женат / замужем</td>\n",
       "      <td>0</td>\n",
       "      <td>f</td>\n",
       "      <td>пенсионер</td>\n",
       "      <td>0</td>\n",
       "      <td>153864</td>\n",
       "      <td>сделка с автомобилем</td>\n",
       "      <td>автомобиль</td>\n",
       "      <td>нет детей</td>\n",
       "      <td>высокий доход</td>\n",
       "    </tr>\n",
       "    <tr>\n",
       "      <td>21519</td>\n",
       "      <td>1</td>\n",
       "      <td>-2351</td>\n",
       "      <td>37</td>\n",
       "      <td>ученая степень</td>\n",
       "      <td>4</td>\n",
       "      <td>в разводе</td>\n",
       "      <td>3</td>\n",
       "      <td>m</td>\n",
       "      <td>сотрудник</td>\n",
       "      <td>0</td>\n",
       "      <td>115949</td>\n",
       "      <td>покупка коммерческой недвижимости</td>\n",
       "      <td>недвижимость</td>\n",
       "      <td>не многодетные</td>\n",
       "      <td>низкий доход</td>\n",
       "    </tr>\n",
       "    <tr>\n",
       "      <td>21520</td>\n",
       "      <td>1</td>\n",
       "      <td>-4529</td>\n",
       "      <td>43</td>\n",
       "      <td>среднее</td>\n",
       "      <td>1</td>\n",
       "      <td>гражданский брак</td>\n",
       "      <td>1</td>\n",
       "      <td>f</td>\n",
       "      <td>компаньон</td>\n",
       "      <td>0</td>\n",
       "      <td>224791</td>\n",
       "      <td>операции с жильем</td>\n",
       "      <td>недвижимость</td>\n",
       "      <td>не многодетные</td>\n",
       "      <td>высокий доход</td>\n",
       "    </tr>\n",
       "    <tr>\n",
       "      <td>21521</td>\n",
       "      <td>0</td>\n",
       "      <td>343937</td>\n",
       "      <td>67</td>\n",
       "      <td>среднее</td>\n",
       "      <td>1</td>\n",
       "      <td>женат / замужем</td>\n",
       "      <td>0</td>\n",
       "      <td>f</td>\n",
       "      <td>пенсионер</td>\n",
       "      <td>0</td>\n",
       "      <td>155999</td>\n",
       "      <td>сделка с автомобилем</td>\n",
       "      <td>автомобиль</td>\n",
       "      <td>нет детей</td>\n",
       "      <td>высокий доход</td>\n",
       "    </tr>\n",
       "    <tr>\n",
       "      <td>21522</td>\n",
       "      <td>1</td>\n",
       "      <td>-2113</td>\n",
       "      <td>38</td>\n",
       "      <td>среднее</td>\n",
       "      <td>1</td>\n",
       "      <td>гражданский брак</td>\n",
       "      <td>1</td>\n",
       "      <td>m</td>\n",
       "      <td>сотрудник</td>\n",
       "      <td>1</td>\n",
       "      <td>89672</td>\n",
       "      <td>недвижимость</td>\n",
       "      <td>недвижимость</td>\n",
       "      <td>не многодетные</td>\n",
       "      <td>низкий доход</td>\n",
       "    </tr>\n",
       "    <tr>\n",
       "      <td>21523</td>\n",
       "      <td>3</td>\n",
       "      <td>-3112</td>\n",
       "      <td>38</td>\n",
       "      <td>среднее</td>\n",
       "      <td>1</td>\n",
       "      <td>женат / замужем</td>\n",
       "      <td>0</td>\n",
       "      <td>m</td>\n",
       "      <td>сотрудник</td>\n",
       "      <td>1</td>\n",
       "      <td>244093</td>\n",
       "      <td>на покупку своего автомобиля</td>\n",
       "      <td>автомобиль</td>\n",
       "      <td>не многодетные</td>\n",
       "      <td>высокий доход</td>\n",
       "    </tr>\n",
       "    <tr>\n",
       "      <td>21524</td>\n",
       "      <td>2</td>\n",
       "      <td>-1984</td>\n",
       "      <td>40</td>\n",
       "      <td>среднее</td>\n",
       "      <td>1</td>\n",
       "      <td>женат / замужем</td>\n",
       "      <td>0</td>\n",
       "      <td>f</td>\n",
       "      <td>сотрудник</td>\n",
       "      <td>0</td>\n",
       "      <td>82047</td>\n",
       "      <td>на покупку автомобиля</td>\n",
       "      <td>автомобиль</td>\n",
       "      <td>не многодетные</td>\n",
       "      <td>низкий доход</td>\n",
       "    </tr>\n",
       "  </tbody>\n",
       "</table>\n",
       "</div>"
      ],
      "text/plain": [
       "       children  days_employed  dob_years       education  education_id  \\\n",
       "21515         1           -467         28         среднее             1   \n",
       "21516         0           -914         42          высшее             0   \n",
       "21517         0           -404         42          высшее             0   \n",
       "21518         0         373995         59         среднее             1   \n",
       "21519         1          -2351         37  ученая степень             4   \n",
       "21520         1          -4529         43         среднее             1   \n",
       "21521         0         343937         67         среднее             1   \n",
       "21522         1          -2113         38         среднее             1   \n",
       "21523         3          -3112         38         среднее             1   \n",
       "21524         2          -1984         40         среднее             1   \n",
       "\n",
       "          family_status  family_status_id gender income_type  debt  \\\n",
       "21515   женат / замужем                 0      f   сотрудник     1   \n",
       "21516   женат / замужем                 0      f   компаньон     0   \n",
       "21517  гражданский брак                 1      f   компаньон     0   \n",
       "21518   женат / замужем                 0      f   пенсионер     0   \n",
       "21519         в разводе                 3      m   сотрудник     0   \n",
       "21520  гражданский брак                 1      f   компаньон     0   \n",
       "21521   женат / замужем                 0      f   пенсионер     0   \n",
       "21522  гражданский брак                 1      m   сотрудник     1   \n",
       "21523   женат / замужем                 0      m   сотрудник     1   \n",
       "21524   женат / замужем                 0      f   сотрудник     0   \n",
       "\n",
       "       total_income                            purpose purpose_categories  \\\n",
       "21515        109486              заняться образованием        образование   \n",
       "21516        322807               покупка своего жилья       недвижимость   \n",
       "21517        178059       на покупку своего автомобиля         автомобиль   \n",
       "21518        153864               сделка с автомобилем         автомобиль   \n",
       "21519        115949  покупка коммерческой недвижимости       недвижимость   \n",
       "21520        224791                  операции с жильем       недвижимость   \n",
       "21521        155999               сделка с автомобилем         автомобиль   \n",
       "21522         89672                       недвижимость       недвижимость   \n",
       "21523        244093       на покупку своего автомобиля         автомобиль   \n",
       "21524         82047              на покупку автомобиля         автомобиль   \n",
       "\n",
       "      children_count_cat total_income_cat  \n",
       "21515     не многодетные     низкий доход  \n",
       "21516          нет детей    высокий доход  \n",
       "21517          нет детей    высокий доход  \n",
       "21518          нет детей    высокий доход  \n",
       "21519     не многодетные     низкий доход  \n",
       "21520     не многодетные    высокий доход  \n",
       "21521          нет детей    высокий доход  \n",
       "21522     не многодетные     низкий доход  \n",
       "21523     не многодетные    высокий доход  \n",
       "21524     не многодетные     низкий доход  "
      ]
     },
     "execution_count": 6,
     "metadata": {},
     "output_type": "execute_result"
    }
   ],
   "source": [
    "def get_children_cat(count):\n",
    "    if count == 0:\n",
    "        return 'нет детей'\n",
    "    elif count < 4:\n",
    "        return 'не многодетные'\n",
    "    elif count >= 4:\n",
    "        return 'многодетные'\n",
    "    \n",
    "def get_income_cat(count):\n",
    "    if count <= 140000:\n",
    "        return 'низкий доход'\n",
    "    elif (count > 140000) & (count < 150000):\n",
    "        return 'средний доход'\n",
    "    else:\n",
    "        return 'высокий доход'\n",
    "    \n",
    "data['children_count_cat'] = data['children'].apply(get_children_cat)\n",
    "data['total_income_cat'] = data['total_income'].apply(get_income_cat)\n",
    "\n",
    "data.tail(10)"
   ]
  },
  {
   "cell_type": "markdown",
   "metadata": {},
   "source": [
    "### Вывод"
   ]
  },
  {
   "cell_type": "markdown",
   "metadata": {},
   "source": [
    "Для наглядности ответа на поставленные вопросы нам нужно разделить данные на категории. Категории по целям кредитов мы уже определили с помощью лемматизации.\n",
    "По наличию детей разделим записи на три группы: нет детей, немногоднетные, многодетные (4 ребенка и больше). \n",
    "По семейному положению данные уже разбиты на пять категорий - 'женат / замужем', 'гражданский брак', 'вдовец / вдова', 'в разводе',\n",
    " 'не женат / не замужем'. Воспользуемся существующими группами.\n",
    "По уровню дохода разделим данные на количественные категории категории: низкий доход, средний доход, высокий доход.\n",
    "\n",
    "Создадми функции при помощи которых добавим колонки с необходимыми категориями."
   ]
  },
  {
   "cell_type": "markdown",
   "metadata": {},
   "source": [
    "### Ответы на финальные вопросы"
   ]
  },
  {
   "cell_type": "markdown",
   "metadata": {},
   "source": [
    "- Есть ли зависимость между наличием детей и возвратом кредита в срок?"
   ]
  },
  {
   "cell_type": "code",
   "execution_count": 7,
   "metadata": {},
   "outputs": [
    {
     "name": "stdout",
     "output_type": "stream",
     "text": [
      "                    clients_count  debtors_count  debtors_percent\n",
      "children_count_cat                                               \n",
      "не многодетные               7266            673         9.262318\n",
      "многодетные                    50              4         8.000000\n",
      "нет детей                   14138           1064         7.525817\n"
     ]
    }
   ],
   "source": [
    "pivot_table = data.pivot_table('total_income', index='children_count_cat', columns='debt', aggfunc='count')\n",
    "pivot_table.set_axis(['clients_count','debtors_count'],axis='columns',inplace=True)\n",
    "pivot_table['clients_count'] = pivot_table['clients_count'] + pivot_table['debtors_count']\n",
    "pivot_table['debtors_percent'] = pivot_table['debtors_count'] * 100 / pivot_table['clients_count']\n",
    "\n",
    "print(pivot_table.sort_values(by = 'debtors_percent', ascending = False))"
   ]
  },
  {
   "cell_type": "markdown",
   "metadata": {},
   "source": [
    "### Вывод"
   ]
  },
  {
   "cell_type": "markdown",
   "metadata": {},
   "source": [
    "Для ответа на вопрос создадим новый датафрейм, в котором будут колонки: название группы клиентов, количество клиентов в данной группе, количество должников, процент должников от общего количества клиентов данной категории.\n",
    "\n",
    "В результате мы видим, что процент должников отличается между категориями всего лишь на один-два процента. Учитывая малочисленность группы многодетных, видно, что среди бездетных немного меньше должников чем среди людей с детьми. Кроме этого, мы видим, что многодетные семьи берут кредиты намного реже, чем семьи с меньшим количеством детей и совсем без детей."
   ]
  },
  {
   "cell_type": "markdown",
   "metadata": {},
   "source": [
    "- Есть ли зависимость между семейным положением и возвратом кредита в срок?"
   ]
  },
  {
   "cell_type": "code",
   "execution_count": 8,
   "metadata": {},
   "outputs": [
    {
     "name": "stdout",
     "output_type": "stream",
     "text": [
      "                       clients_count  debtors_count  debtors_percent\n",
      "family_status                                                       \n",
      "не женат / не замужем           2810            274         9.750890\n",
      "гражданский брак                4151            388         9.347145\n",
      "женат / замужем                12339            931         7.545182\n",
      "в разводе                       1195             85         7.112971\n",
      "вдовец / вдова                   959             63         6.569343\n"
     ]
    }
   ],
   "source": [
    "pivot_table = data.pivot_table('total_income', index='family_status', columns='debt', aggfunc='count')\n",
    "pivot_table.set_axis(['clients_count','debtors_count'],axis='columns',inplace=True)\n",
    "pivot_table['clients_count'] = pivot_table['clients_count'] + pivot_table['debtors_count']\n",
    "pivot_table['debtors_percent'] = pivot_table['debtors_count'] * 100 / pivot_table['clients_count']\n",
    "\n",
    "print(pivot_table.sort_values(by = 'debtors_percent', ascending = False))"
   ]
  },
  {
   "cell_type": "markdown",
   "metadata": {},
   "source": [
    "### Вывод"
   ]
  },
  {
   "cell_type": "markdown",
   "metadata": {},
   "source": [
    "Для поиска ответа на вопрос мы создали новый датафрейм и распредилили клиентов по категориям семейного положения. В результате мы видим, что семейное положение практически не влияет на количество должников. Разница в количестве должников между категориями не более трех процентов. Кроме этого, можно сказать что клиенты с семейным положением 'женат / замужем' склонны брать кредит значительно чаще остальных категорий."
   ]
  },
  {
   "cell_type": "markdown",
   "metadata": {},
   "source": [
    "- Есть ли зависимость между уровнем дохода и возвратом кредита в срок?"
   ]
  },
  {
   "cell_type": "code",
   "execution_count": 9,
   "metadata": {},
   "outputs": [
    {
     "name": "stdout",
     "output_type": "stream",
     "text": [
      "                  clients_count  debtors_count  debtors_percent\n",
      "total_income_cat                                               \n",
      "средний доход              2132            197         9.240150\n",
      "низкий доход               9491            781         8.228848\n",
      "высокий доход              9831            763         7.761164\n"
     ]
    }
   ],
   "source": [
    "pivot_table = data.pivot_table('total_income', index='total_income_cat', columns='debt', aggfunc='count')\n",
    "pivot_table.set_axis(['clients_count','debtors_count'],axis='columns',inplace=True)\n",
    "pivot_table['clients_count'] = pivot_table['clients_count'] + pivot_table['debtors_count']\n",
    "pivot_table['debtors_percent'] = pivot_table['debtors_count'] * 100 / pivot_table['clients_count']\n",
    "\n",
    "print(pivot_table.sort_values(by = 'debtors_percent', ascending = False))"
   ]
  },
  {
   "cell_type": "markdown",
   "metadata": {},
   "source": [
    "### Вывод"
   ]
  },
  {
   "cell_type": "markdown",
   "metadata": {},
   "source": [
    "Аналогично двум предыдущим примерм создадим сводную таблицу для анализа зависимости количества должников и уровня доходов. Видно, что среди людей с высоким доходом наименьшее количество должников, среди людей с низким доходом их чуть больше. Самый высокий процент должников среди людей со средним доходом. Можно сказать, что уровень дохода имеет влияние на возврат кредита в срок."
   ]
  },
  {
   "cell_type": "markdown",
   "metadata": {},
   "source": [
    "- Как разные цели кредита влияют на его возврат в срок?"
   ]
  },
  {
   "cell_type": "code",
   "execution_count": 10,
   "metadata": {},
   "outputs": [
    {
     "name": "stdout",
     "output_type": "stream",
     "text": [
      "                    clients_count  debtors_count  debtors_percent\n",
      "purpose_categories                                               \n",
      "автомобиль                   4306            403         9.359034\n",
      "образование                  4013            370         9.220035\n",
      "свадьба                      2324            186         8.003442\n",
      "недвижимость                10204            747         7.320659\n",
      "ремонт                        607             35         5.766063\n"
     ]
    }
   ],
   "source": [
    "pivot_table = data.pivot_table('total_income', index='purpose_categories', columns='debt', aggfunc='count')\n",
    "pivot_table.set_axis(['clients_count','debtors_count'],axis='columns',inplace=True)\n",
    "pivot_table['clients_count'] = pivot_table['clients_count'] + pivot_table['debtors_count']\n",
    "pivot_table['debtors_percent'] = pivot_table['debtors_count'] * 100 / pivot_table['clients_count']\n",
    "\n",
    "print(pivot_table.sort_values(by = 'debtors_percent', ascending = False))"
   ]
  },
  {
   "cell_type": "markdown",
   "metadata": {},
   "source": [
    "### Вывод"
   ]
  },
  {
   "cell_type": "markdown",
   "metadata": {},
   "source": [
    "Создав и просмотрев сводную таблицу по кличеству должников в разрезе целей кредита, можно сказать что цели имеют некоторое влияние на возврат кредита в срок. Самая безопасная цель - ремонт, а реже всего возвращают в срок кредиты, предназначенные для операций с автомобилями."
   ]
  },
  {
   "cell_type": "markdown",
   "metadata": {},
   "source": [
    "### Шаг 4. Общий вывод"
   ]
  },
  {
   "cell_type": "markdown",
   "metadata": {},
   "source": [
    "Мы выяснили, что должников меньше всего среди бездетных вдовцов / вдов с низким доходом, которые берут кредит на ремонт. С другой стороны, больше всего должников среди не женатых / не замужних с детьми, обладающих средним доходом и с целью кредита - операции с автомобилем."
   ]
  },
  {
   "cell_type": "code",
   "execution_count": null,
   "metadata": {},
   "outputs": [],
   "source": []
  }
 ],
 "metadata": {
  "kernelspec": {
   "display_name": "Python 3",
   "language": "python",
   "name": "python3"
  },
  "language_info": {
   "codemirror_mode": {
    "name": "ipython",
    "version": 3
   },
   "file_extension": ".py",
   "mimetype": "text/x-python",
   "name": "python",
   "nbconvert_exporter": "python",
   "pygments_lexer": "ipython3",
   "version": "3.8.8"
  },
  "toc": {
   "base_numbering": 1,
   "nav_menu": {},
   "number_sections": true,
   "sideBar": true,
   "skip_h1_title": false,
   "title_cell": "Table of Contents",
   "title_sidebar": "Contents",
   "toc_cell": false,
   "toc_position": {},
   "toc_section_display": true,
   "toc_window_display": false
  }
 },
 "nbformat": 4,
 "nbformat_minor": 2
}
