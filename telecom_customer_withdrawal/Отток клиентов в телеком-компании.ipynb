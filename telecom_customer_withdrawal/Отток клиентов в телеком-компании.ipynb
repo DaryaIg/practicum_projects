{
 "cells": [
  {
   "cell_type": "markdown",
   "metadata": {},
   "source": [
    "## Описание задачи"
   ]
  },
  {
   "cell_type": "markdown",
   "metadata": {},
   "source": [
    "Для телеком-компании нужно спрогнозировать отток клиентов. В случае если пользователь собирается уйти, ему могут быть предложены скидки. Для модели собраны данные о клиентах и их тарифах."
   ]
  },
  {
   "cell_type": "markdown",
   "metadata": {},
   "source": [
    "## План работ"
   ]
  },
  {
   "cell_type": "markdown",
   "metadata": {},
   "source": [
    "1. Исследовательский анализ данных.\n",
    "  - Изучить данные, обработать пропуски, привести типы данных, построить графики. Провести поиск выбивающихся значений. Сделать выводы о пользователях\n",
    "2. Подготока к машинному обучению.\n",
    "  - Определить, какие данные нужны для обучения, удалить лишнее. Объединить таблицы. Рассчитать дополнительные значения. Разбить данные на обучающую, тестовую части. Определить наличие дисбаланса, корелляцию признаков.\n",
    "  - Закодировать категориальные признаки, попробовать классификацию на нескольких моделях.\n",
    "  - При наличии дисбаланса, провести тесты с апсемплингом и даунсемплингом.\n",
    "  - Подобрать лучшую модель при помощи кросс-валидации.\n",
    "3. Провести финальное обучение модели, проверить при помощи тестовой выборки. "
   ]
  },
  {
   "cell_type": "markdown",
   "metadata": {},
   "source": [
    "## Исследовательский анализ данных"
   ]
  },
  {
   "cell_type": "code",
   "execution_count": 1,
   "metadata": {},
   "outputs": [],
   "source": [
    "import pandas as pd\n",
    "import numpy as np\n",
    "import plotly.express as px\n",
    "import matplotlib.pyplot as plt\n",
    "import seaborn as sns\n",
    "from functools import partial\n",
    "from IPython.display import display\n",
    "from sklearn.model_selection import GridSearchCV\n",
    "from sklearn.preprocessing import OrdinalEncoder\n",
    "from sklearn.ensemble import RandomForestClassifier\n",
    "from catboost import Pool,CatBoostClassifier\n",
    "from sklearn.linear_model import LogisticRegression\n",
    "from sklearn.model_selection import train_test_split\n",
    "from sklearn.metrics import accuracy_score, roc_auc_score, make_scorer"
   ]
  },
  {
   "cell_type": "code",
   "execution_count": 25,
   "metadata": {},
   "outputs": [],
   "source": [
    "df_contracts = pd.read_csv(\"datasets/final_provider/contract.csv\")\n",
    "df_personal = pd.read_csv(\"datasets/final_provider/personal.csv\")\n",
    "df_internet = pd.read_csv(\"datasets/final_provider/internet.csv\")\n",
    "df_phone = pd.read_csv(\"datasets/final_provider/phone.csv\")"
   ]
  },
  {
   "cell_type": "code",
   "execution_count": 26,
   "metadata": {},
   "outputs": [],
   "source": [
    "#Функция описывает датасет - колонки, типы, пример данных\n",
    "\n",
    "def show_df_info(df, df_name):\n",
    "    print(\"Начало описания датасета \\\"\"+df_name+\"\\\"-------------------------------------------------------------\")\n",
    "    display(df.info())\n",
    "    display(df.sample(5))\n",
    "    print(\"Конец описания датасета \\\"\"+df_name+\"\\\"--------------------------------------------------------------\")"
   ]
  },
  {
   "cell_type": "code",
   "execution_count": 27,
   "metadata": {},
   "outputs": [],
   "source": [
    "#Функция описывает средние значения, выбросы, строит гистограмму.\n",
    "\n",
    "def show_description(df, df_name):\n",
    "    print(\"Начало описания датасета \\\"\"+df_name+\"\\\"-------------------------------------------------------------\")\n",
    "    display(df.describe())\n",
    "    display(df.sample(5))\n",
    "    df.boxplot(vert=False, figsize = (15, 6))\n",
    "    df.hist(bins = 50, figsize = (15, 6))\n",
    "    print(\"Конец описания датасета \\\"\"+df_name+\"\\\"--------------------------------------------------------------\")"
   ]
  },
  {
   "cell_type": "code",
   "execution_count": 28,
   "metadata": {
    "scrolled": false
   },
   "outputs": [
    {
     "name": "stdout",
     "output_type": "stream",
     "text": [
      "Начало описания датасета \"Информация о договоре\"-------------------------------------------------------------\n",
      "<class 'pandas.core.frame.DataFrame'>\n",
      "RangeIndex: 7043 entries, 0 to 7042\n",
      "Data columns (total 8 columns):\n",
      "customerID          7043 non-null object\n",
      "BeginDate           7043 non-null object\n",
      "EndDate             7043 non-null object\n",
      "Type                7043 non-null object\n",
      "PaperlessBilling    7043 non-null object\n",
      "PaymentMethod       7043 non-null object\n",
      "MonthlyCharges      7043 non-null float64\n",
      "TotalCharges        7043 non-null object\n",
      "dtypes: float64(1), object(7)\n",
      "memory usage: 440.3+ KB\n"
     ]
    },
    {
     "data": {
      "text/plain": [
       "None"
      ]
     },
     "metadata": {},
     "output_type": "display_data"
    },
    {
     "data": {
      "text/html": [
       "<div>\n",
       "<style scoped>\n",
       "    .dataframe tbody tr th:only-of-type {\n",
       "        vertical-align: middle;\n",
       "    }\n",
       "\n",
       "    .dataframe tbody tr th {\n",
       "        vertical-align: top;\n",
       "    }\n",
       "\n",
       "    .dataframe thead th {\n",
       "        text-align: right;\n",
       "    }\n",
       "</style>\n",
       "<table border=\"1\" class=\"dataframe\">\n",
       "  <thead>\n",
       "    <tr style=\"text-align: right;\">\n",
       "      <th></th>\n",
       "      <th>customerID</th>\n",
       "      <th>BeginDate</th>\n",
       "      <th>EndDate</th>\n",
       "      <th>Type</th>\n",
       "      <th>PaperlessBilling</th>\n",
       "      <th>PaymentMethod</th>\n",
       "      <th>MonthlyCharges</th>\n",
       "      <th>TotalCharges</th>\n",
       "    </tr>\n",
       "  </thead>\n",
       "  <tbody>\n",
       "    <tr>\n",
       "      <td>4065</td>\n",
       "      <td>7239-HZZCX</td>\n",
       "      <td>2019-11-01</td>\n",
       "      <td>2019-12-01 00:00:00</td>\n",
       "      <td>Month-to-month</td>\n",
       "      <td>No</td>\n",
       "      <td>Mailed check</td>\n",
       "      <td>19.75</td>\n",
       "      <td>19.75</td>\n",
       "    </tr>\n",
       "    <tr>\n",
       "      <td>4338</td>\n",
       "      <td>9708-HPXWZ</td>\n",
       "      <td>2019-09-01</td>\n",
       "      <td>No</td>\n",
       "      <td>Month-to-month</td>\n",
       "      <td>No</td>\n",
       "      <td>Credit card (automatic)</td>\n",
       "      <td>45.40</td>\n",
       "      <td>214.75</td>\n",
       "    </tr>\n",
       "    <tr>\n",
       "      <td>2263</td>\n",
       "      <td>2506-CLAKW</td>\n",
       "      <td>2019-05-01</td>\n",
       "      <td>2019-11-01 00:00:00</td>\n",
       "      <td>Month-to-month</td>\n",
       "      <td>Yes</td>\n",
       "      <td>Bank transfer (automatic)</td>\n",
       "      <td>98.15</td>\n",
       "      <td>567.45</td>\n",
       "    </tr>\n",
       "    <tr>\n",
       "      <td>2029</td>\n",
       "      <td>6481-OGDOO</td>\n",
       "      <td>2014-03-01</td>\n",
       "      <td>2019-10-01 00:00:00</td>\n",
       "      <td>One year</td>\n",
       "      <td>Yes</td>\n",
       "      <td>Credit card (automatic)</td>\n",
       "      <td>90.60</td>\n",
       "      <td>6056.15</td>\n",
       "    </tr>\n",
       "    <tr>\n",
       "      <td>458</td>\n",
       "      <td>4237-CLSMM</td>\n",
       "      <td>2019-12-01</td>\n",
       "      <td>No</td>\n",
       "      <td>Month-to-month</td>\n",
       "      <td>No</td>\n",
       "      <td>Mailed check</td>\n",
       "      <td>20.00</td>\n",
       "      <td>38</td>\n",
       "    </tr>\n",
       "  </tbody>\n",
       "</table>\n",
       "</div>"
      ],
      "text/plain": [
       "      customerID   BeginDate              EndDate            Type  \\\n",
       "4065  7239-HZZCX  2019-11-01  2019-12-01 00:00:00  Month-to-month   \n",
       "4338  9708-HPXWZ  2019-09-01                   No  Month-to-month   \n",
       "2263  2506-CLAKW  2019-05-01  2019-11-01 00:00:00  Month-to-month   \n",
       "2029  6481-OGDOO  2014-03-01  2019-10-01 00:00:00        One year   \n",
       "458   4237-CLSMM  2019-12-01                   No  Month-to-month   \n",
       "\n",
       "     PaperlessBilling              PaymentMethod  MonthlyCharges TotalCharges  \n",
       "4065               No               Mailed check           19.75        19.75  \n",
       "4338               No    Credit card (automatic)           45.40       214.75  \n",
       "2263              Yes  Bank transfer (automatic)           98.15       567.45  \n",
       "2029              Yes    Credit card (automatic)           90.60      6056.15  \n",
       "458                No               Mailed check           20.00           38  "
      ]
     },
     "metadata": {},
     "output_type": "display_data"
    },
    {
     "name": "stdout",
     "output_type": "stream",
     "text": [
      "Конец описания датасета \"Информация о договоре\"--------------------------------------------------------------\n",
      "Начало описания датасета \"Персональные данные клиента\"-------------------------------------------------------------\n",
      "<class 'pandas.core.frame.DataFrame'>\n",
      "RangeIndex: 7043 entries, 0 to 7042\n",
      "Data columns (total 5 columns):\n",
      "customerID       7043 non-null object\n",
      "gender           7043 non-null object\n",
      "SeniorCitizen    7043 non-null int64\n",
      "Partner          7043 non-null object\n",
      "Dependents       7043 non-null object\n",
      "dtypes: int64(1), object(4)\n",
      "memory usage: 275.2+ KB\n"
     ]
    },
    {
     "data": {
      "text/plain": [
       "None"
      ]
     },
     "metadata": {},
     "output_type": "display_data"
    },
    {
     "data": {
      "text/html": [
       "<div>\n",
       "<style scoped>\n",
       "    .dataframe tbody tr th:only-of-type {\n",
       "        vertical-align: middle;\n",
       "    }\n",
       "\n",
       "    .dataframe tbody tr th {\n",
       "        vertical-align: top;\n",
       "    }\n",
       "\n",
       "    .dataframe thead th {\n",
       "        text-align: right;\n",
       "    }\n",
       "</style>\n",
       "<table border=\"1\" class=\"dataframe\">\n",
       "  <thead>\n",
       "    <tr style=\"text-align: right;\">\n",
       "      <th></th>\n",
       "      <th>customerID</th>\n",
       "      <th>gender</th>\n",
       "      <th>SeniorCitizen</th>\n",
       "      <th>Partner</th>\n",
       "      <th>Dependents</th>\n",
       "    </tr>\n",
       "  </thead>\n",
       "  <tbody>\n",
       "    <tr>\n",
       "      <td>5814</td>\n",
       "      <td>0787-LHDYT</td>\n",
       "      <td>Male</td>\n",
       "      <td>0</td>\n",
       "      <td>No</td>\n",
       "      <td>No</td>\n",
       "    </tr>\n",
       "    <tr>\n",
       "      <td>1608</td>\n",
       "      <td>2387-KDZQY</td>\n",
       "      <td>Male</td>\n",
       "      <td>0</td>\n",
       "      <td>No</td>\n",
       "      <td>No</td>\n",
       "    </tr>\n",
       "    <tr>\n",
       "      <td>3120</td>\n",
       "      <td>3148-AOIQT</td>\n",
       "      <td>Female</td>\n",
       "      <td>0</td>\n",
       "      <td>Yes</td>\n",
       "      <td>No</td>\n",
       "    </tr>\n",
       "    <tr>\n",
       "      <td>5416</td>\n",
       "      <td>8961-QDZZJ</td>\n",
       "      <td>Female</td>\n",
       "      <td>0</td>\n",
       "      <td>Yes</td>\n",
       "      <td>Yes</td>\n",
       "    </tr>\n",
       "    <tr>\n",
       "      <td>4647</td>\n",
       "      <td>7396-VJUZB</td>\n",
       "      <td>Male</td>\n",
       "      <td>0</td>\n",
       "      <td>Yes</td>\n",
       "      <td>Yes</td>\n",
       "    </tr>\n",
       "  </tbody>\n",
       "</table>\n",
       "</div>"
      ],
      "text/plain": [
       "      customerID  gender  SeniorCitizen Partner Dependents\n",
       "5814  0787-LHDYT    Male              0      No         No\n",
       "1608  2387-KDZQY    Male              0      No         No\n",
       "3120  3148-AOIQT  Female              0     Yes         No\n",
       "5416  8961-QDZZJ  Female              0     Yes        Yes\n",
       "4647  7396-VJUZB    Male              0     Yes        Yes"
      ]
     },
     "metadata": {},
     "output_type": "display_data"
    },
    {
     "name": "stdout",
     "output_type": "stream",
     "text": [
      "Конец описания датасета \"Персональные данные клиента\"--------------------------------------------------------------\n",
      "Начало описания датасета \"Информация об интернет-услугах\"-------------------------------------------------------------\n",
      "<class 'pandas.core.frame.DataFrame'>\n",
      "RangeIndex: 5517 entries, 0 to 5516\n",
      "Data columns (total 8 columns):\n",
      "customerID          5517 non-null object\n",
      "InternetService     5517 non-null object\n",
      "OnlineSecurity      5517 non-null object\n",
      "OnlineBackup        5517 non-null object\n",
      "DeviceProtection    5517 non-null object\n",
      "TechSupport         5517 non-null object\n",
      "StreamingTV         5517 non-null object\n",
      "StreamingMovies     5517 non-null object\n",
      "dtypes: object(8)\n",
      "memory usage: 344.9+ KB\n"
     ]
    },
    {
     "data": {
      "text/plain": [
       "None"
      ]
     },
     "metadata": {},
     "output_type": "display_data"
    },
    {
     "data": {
      "text/html": [
       "<div>\n",
       "<style scoped>\n",
       "    .dataframe tbody tr th:only-of-type {\n",
       "        vertical-align: middle;\n",
       "    }\n",
       "\n",
       "    .dataframe tbody tr th {\n",
       "        vertical-align: top;\n",
       "    }\n",
       "\n",
       "    .dataframe thead th {\n",
       "        text-align: right;\n",
       "    }\n",
       "</style>\n",
       "<table border=\"1\" class=\"dataframe\">\n",
       "  <thead>\n",
       "    <tr style=\"text-align: right;\">\n",
       "      <th></th>\n",
       "      <th>customerID</th>\n",
       "      <th>InternetService</th>\n",
       "      <th>OnlineSecurity</th>\n",
       "      <th>OnlineBackup</th>\n",
       "      <th>DeviceProtection</th>\n",
       "      <th>TechSupport</th>\n",
       "      <th>StreamingTV</th>\n",
       "      <th>StreamingMovies</th>\n",
       "    </tr>\n",
       "  </thead>\n",
       "  <tbody>\n",
       "    <tr>\n",
       "      <td>3452</td>\n",
       "      <td>4636-JGAAI</td>\n",
       "      <td>Fiber optic</td>\n",
       "      <td>No</td>\n",
       "      <td>Yes</td>\n",
       "      <td>No</td>\n",
       "      <td>No</td>\n",
       "      <td>No</td>\n",
       "      <td>Yes</td>\n",
       "    </tr>\n",
       "    <tr>\n",
       "      <td>1744</td>\n",
       "      <td>1302-UHBDD</td>\n",
       "      <td>Fiber optic</td>\n",
       "      <td>No</td>\n",
       "      <td>No</td>\n",
       "      <td>No</td>\n",
       "      <td>No</td>\n",
       "      <td>Yes</td>\n",
       "      <td>Yes</td>\n",
       "    </tr>\n",
       "    <tr>\n",
       "      <td>1324</td>\n",
       "      <td>1442-OKRJE</td>\n",
       "      <td>Fiber optic</td>\n",
       "      <td>Yes</td>\n",
       "      <td>Yes</td>\n",
       "      <td>Yes</td>\n",
       "      <td>No</td>\n",
       "      <td>Yes</td>\n",
       "      <td>Yes</td>\n",
       "    </tr>\n",
       "    <tr>\n",
       "      <td>3229</td>\n",
       "      <td>4632-XJMEX</td>\n",
       "      <td>DSL</td>\n",
       "      <td>Yes</td>\n",
       "      <td>Yes</td>\n",
       "      <td>No</td>\n",
       "      <td>Yes</td>\n",
       "      <td>No</td>\n",
       "      <td>No</td>\n",
       "    </tr>\n",
       "    <tr>\n",
       "      <td>1240</td>\n",
       "      <td>2660-EMUBI</td>\n",
       "      <td>Fiber optic</td>\n",
       "      <td>No</td>\n",
       "      <td>No</td>\n",
       "      <td>No</td>\n",
       "      <td>No</td>\n",
       "      <td>Yes</td>\n",
       "      <td>Yes</td>\n",
       "    </tr>\n",
       "  </tbody>\n",
       "</table>\n",
       "</div>"
      ],
      "text/plain": [
       "      customerID InternetService OnlineSecurity OnlineBackup DeviceProtection  \\\n",
       "3452  4636-JGAAI     Fiber optic             No          Yes               No   \n",
       "1744  1302-UHBDD     Fiber optic             No           No               No   \n",
       "1324  1442-OKRJE     Fiber optic            Yes          Yes              Yes   \n",
       "3229  4632-XJMEX             DSL            Yes          Yes               No   \n",
       "1240  2660-EMUBI     Fiber optic             No           No               No   \n",
       "\n",
       "     TechSupport StreamingTV StreamingMovies  \n",
       "3452          No          No             Yes  \n",
       "1744          No         Yes             Yes  \n",
       "1324          No         Yes             Yes  \n",
       "3229         Yes          No              No  \n",
       "1240          No         Yes             Yes  "
      ]
     },
     "metadata": {},
     "output_type": "display_data"
    },
    {
     "name": "stdout",
     "output_type": "stream",
     "text": [
      "Конец описания датасета \"Информация об интернет-услугах\"--------------------------------------------------------------\n",
      "Начало описания датасета \"Информация об услугах телефонии\"-------------------------------------------------------------\n",
      "<class 'pandas.core.frame.DataFrame'>\n",
      "RangeIndex: 6361 entries, 0 to 6360\n",
      "Data columns (total 2 columns):\n",
      "customerID       6361 non-null object\n",
      "MultipleLines    6361 non-null object\n",
      "dtypes: object(2)\n",
      "memory usage: 99.5+ KB\n"
     ]
    },
    {
     "data": {
      "text/plain": [
       "None"
      ]
     },
     "metadata": {},
     "output_type": "display_data"
    },
    {
     "data": {
      "text/html": [
       "<div>\n",
       "<style scoped>\n",
       "    .dataframe tbody tr th:only-of-type {\n",
       "        vertical-align: middle;\n",
       "    }\n",
       "\n",
       "    .dataframe tbody tr th {\n",
       "        vertical-align: top;\n",
       "    }\n",
       "\n",
       "    .dataframe thead th {\n",
       "        text-align: right;\n",
       "    }\n",
       "</style>\n",
       "<table border=\"1\" class=\"dataframe\">\n",
       "  <thead>\n",
       "    <tr style=\"text-align: right;\">\n",
       "      <th></th>\n",
       "      <th>customerID</th>\n",
       "      <th>MultipleLines</th>\n",
       "    </tr>\n",
       "  </thead>\n",
       "  <tbody>\n",
       "    <tr>\n",
       "      <td>4546</td>\n",
       "      <td>0052-DCKON</td>\n",
       "      <td>Yes</td>\n",
       "    </tr>\n",
       "    <tr>\n",
       "      <td>4110</td>\n",
       "      <td>6578-KRMAW</td>\n",
       "      <td>No</td>\n",
       "    </tr>\n",
       "    <tr>\n",
       "      <td>5308</td>\n",
       "      <td>9958-MEKUC</td>\n",
       "      <td>Yes</td>\n",
       "    </tr>\n",
       "    <tr>\n",
       "      <td>704</td>\n",
       "      <td>7314-OXENN</td>\n",
       "      <td>Yes</td>\n",
       "    </tr>\n",
       "    <tr>\n",
       "      <td>3200</td>\n",
       "      <td>8393-JMVMB</td>\n",
       "      <td>No</td>\n",
       "    </tr>\n",
       "  </tbody>\n",
       "</table>\n",
       "</div>"
      ],
      "text/plain": [
       "      customerID MultipleLines\n",
       "4546  0052-DCKON           Yes\n",
       "4110  6578-KRMAW            No\n",
       "5308  9958-MEKUC           Yes\n",
       "704   7314-OXENN           Yes\n",
       "3200  8393-JMVMB            No"
      ]
     },
     "metadata": {},
     "output_type": "display_data"
    },
    {
     "name": "stdout",
     "output_type": "stream",
     "text": [
      "Конец описания датасета \"Информация об услугах телефонии\"--------------------------------------------------------------\n"
     ]
    }
   ],
   "source": [
    "show_df_info(df_contracts, 'Информация о договоре')\n",
    "show_df_info(df_personal, 'Персональные данные клиента')\n",
    "show_df_info(df_internet, 'Информация об интернет-услугах')\n",
    "show_df_info(df_phone, 'Информация об услугах телефонии')"
   ]
  },
  {
   "cell_type": "markdown",
   "metadata": {},
   "source": [
    "В данных обнаружены колонки с типами, не соответствующими данным. Изменим их на оптимальные."
   ]
  },
  {
   "cell_type": "code",
   "execution_count": 29,
   "metadata": {},
   "outputs": [],
   "source": [
    "try:\n",
    "    df_contracts['TotalCharges'] = pd.to_numeric(df_contracts['TotalCharges'], errors='coerce')\n",
    "except:\n",
    "    print('Возникла ошибка при приведении типов данных! Проверьте корректность заполнения файлов.')"
   ]
  },
  {
   "cell_type": "code",
   "execution_count": 30,
   "metadata": {
    "scrolled": false
   },
   "outputs": [
    {
     "name": "stdout",
     "output_type": "stream",
     "text": [
      "Начало описания датасета \"Информация о договоре\"-------------------------------------------------------------\n"
     ]
    },
    {
     "data": {
      "text/html": [
       "<div>\n",
       "<style scoped>\n",
       "    .dataframe tbody tr th:only-of-type {\n",
       "        vertical-align: middle;\n",
       "    }\n",
       "\n",
       "    .dataframe tbody tr th {\n",
       "        vertical-align: top;\n",
       "    }\n",
       "\n",
       "    .dataframe thead th {\n",
       "        text-align: right;\n",
       "    }\n",
       "</style>\n",
       "<table border=\"1\" class=\"dataframe\">\n",
       "  <thead>\n",
       "    <tr style=\"text-align: right;\">\n",
       "      <th></th>\n",
       "      <th>MonthlyCharges</th>\n",
       "      <th>TotalCharges</th>\n",
       "    </tr>\n",
       "  </thead>\n",
       "  <tbody>\n",
       "    <tr>\n",
       "      <td>count</td>\n",
       "      <td>7043.000000</td>\n",
       "      <td>7032.000000</td>\n",
       "    </tr>\n",
       "    <tr>\n",
       "      <td>mean</td>\n",
       "      <td>64.761692</td>\n",
       "      <td>2283.300441</td>\n",
       "    </tr>\n",
       "    <tr>\n",
       "      <td>std</td>\n",
       "      <td>30.090047</td>\n",
       "      <td>2266.771362</td>\n",
       "    </tr>\n",
       "    <tr>\n",
       "      <td>min</td>\n",
       "      <td>18.250000</td>\n",
       "      <td>18.800000</td>\n",
       "    </tr>\n",
       "    <tr>\n",
       "      <td>25%</td>\n",
       "      <td>35.500000</td>\n",
       "      <td>401.450000</td>\n",
       "    </tr>\n",
       "    <tr>\n",
       "      <td>50%</td>\n",
       "      <td>70.350000</td>\n",
       "      <td>1397.475000</td>\n",
       "    </tr>\n",
       "    <tr>\n",
       "      <td>75%</td>\n",
       "      <td>89.850000</td>\n",
       "      <td>3794.737500</td>\n",
       "    </tr>\n",
       "    <tr>\n",
       "      <td>max</td>\n",
       "      <td>118.750000</td>\n",
       "      <td>8684.800000</td>\n",
       "    </tr>\n",
       "  </tbody>\n",
       "</table>\n",
       "</div>"
      ],
      "text/plain": [
       "       MonthlyCharges  TotalCharges\n",
       "count     7043.000000   7032.000000\n",
       "mean        64.761692   2283.300441\n",
       "std         30.090047   2266.771362\n",
       "min         18.250000     18.800000\n",
       "25%         35.500000    401.450000\n",
       "50%         70.350000   1397.475000\n",
       "75%         89.850000   3794.737500\n",
       "max        118.750000   8684.800000"
      ]
     },
     "metadata": {},
     "output_type": "display_data"
    },
    {
     "data": {
      "text/html": [
       "<div>\n",
       "<style scoped>\n",
       "    .dataframe tbody tr th:only-of-type {\n",
       "        vertical-align: middle;\n",
       "    }\n",
       "\n",
       "    .dataframe tbody tr th {\n",
       "        vertical-align: top;\n",
       "    }\n",
       "\n",
       "    .dataframe thead th {\n",
       "        text-align: right;\n",
       "    }\n",
       "</style>\n",
       "<table border=\"1\" class=\"dataframe\">\n",
       "  <thead>\n",
       "    <tr style=\"text-align: right;\">\n",
       "      <th></th>\n",
       "      <th>customerID</th>\n",
       "      <th>BeginDate</th>\n",
       "      <th>EndDate</th>\n",
       "      <th>Type</th>\n",
       "      <th>PaperlessBilling</th>\n",
       "      <th>PaymentMethod</th>\n",
       "      <th>MonthlyCharges</th>\n",
       "      <th>TotalCharges</th>\n",
       "    </tr>\n",
       "  </thead>\n",
       "  <tbody>\n",
       "    <tr>\n",
       "      <td>6133</td>\n",
       "      <td>9638-JIQYA</td>\n",
       "      <td>2019-12-01</td>\n",
       "      <td>No</td>\n",
       "      <td>Month-to-month</td>\n",
       "      <td>Yes</td>\n",
       "      <td>Credit card (automatic)</td>\n",
       "      <td>24.90</td>\n",
       "      <td>49.70</td>\n",
       "    </tr>\n",
       "    <tr>\n",
       "      <td>6962</td>\n",
       "      <td>0886-QGENL</td>\n",
       "      <td>2017-09-01</td>\n",
       "      <td>2019-12-01 00:00:00</td>\n",
       "      <td>Month-to-month</td>\n",
       "      <td>Yes</td>\n",
       "      <td>Electronic check</td>\n",
       "      <td>101.25</td>\n",
       "      <td>2754.45</td>\n",
       "    </tr>\n",
       "    <tr>\n",
       "      <td>3363</td>\n",
       "      <td>3474-BAFSJ</td>\n",
       "      <td>2015-05-01</td>\n",
       "      <td>No</td>\n",
       "      <td>Two year</td>\n",
       "      <td>Yes</td>\n",
       "      <td>Bank transfer (automatic)</td>\n",
       "      <td>57.50</td>\n",
       "      <td>3265.95</td>\n",
       "    </tr>\n",
       "    <tr>\n",
       "      <td>3752</td>\n",
       "      <td>0412-UCCNP</td>\n",
       "      <td>2015-07-01</td>\n",
       "      <td>No</td>\n",
       "      <td>Two year</td>\n",
       "      <td>Yes</td>\n",
       "      <td>Electronic check</td>\n",
       "      <td>59.20</td>\n",
       "      <td>3175.85</td>\n",
       "    </tr>\n",
       "    <tr>\n",
       "      <td>1136</td>\n",
       "      <td>6621-NRZAK</td>\n",
       "      <td>2014-11-01</td>\n",
       "      <td>No</td>\n",
       "      <td>Two year</td>\n",
       "      <td>No</td>\n",
       "      <td>Credit card (automatic)</td>\n",
       "      <td>20.00</td>\n",
       "      <td>1209.25</td>\n",
       "    </tr>\n",
       "  </tbody>\n",
       "</table>\n",
       "</div>"
      ],
      "text/plain": [
       "      customerID   BeginDate              EndDate            Type  \\\n",
       "6133  9638-JIQYA  2019-12-01                   No  Month-to-month   \n",
       "6962  0886-QGENL  2017-09-01  2019-12-01 00:00:00  Month-to-month   \n",
       "3363  3474-BAFSJ  2015-05-01                   No        Two year   \n",
       "3752  0412-UCCNP  2015-07-01                   No        Two year   \n",
       "1136  6621-NRZAK  2014-11-01                   No        Two year   \n",
       "\n",
       "     PaperlessBilling              PaymentMethod  MonthlyCharges  TotalCharges  \n",
       "6133              Yes    Credit card (automatic)           24.90         49.70  \n",
       "6962              Yes           Electronic check          101.25       2754.45  \n",
       "3363              Yes  Bank transfer (automatic)           57.50       3265.95  \n",
       "3752              Yes           Electronic check           59.20       3175.85  \n",
       "1136               No    Credit card (automatic)           20.00       1209.25  "
      ]
     },
     "metadata": {},
     "output_type": "display_data"
    },
    {
     "name": "stderr",
     "output_type": "stream",
     "text": [
      "/opt/conda/lib/python3.7/site-packages/numpy/core/_asarray.py:83: VisibleDeprecationWarning:\n",
      "\n",
      "Creating an ndarray from ragged nested sequences (which is a list-or-tuple of lists-or-tuples-or ndarrays with different lengths or shapes) is deprecated. If you meant to do this, you must specify 'dtype=object' when creating the ndarray\n",
      "\n"
     ]
    },
    {
     "name": "stdout",
     "output_type": "stream",
     "text": [
      "Конец описания датасета \"Информация о договоре\"--------------------------------------------------------------\n"
     ]
    },
    {
     "data": {
      "image/png": "[encoded data removed]",
      "text/plain": [
       "<Figure size 1080x432 with 1 Axes>"
      ]
     },
     "metadata": {
      "needs_background": "light"
     },
     "output_type": "display_data"
    },
    {
     "data": {
      "image/png": "[encoded data removed]",
      "text/plain": [
       "<Figure size 1080x432 with 2 Axes>"
      ]
     },
     "metadata": {
      "needs_background": "light"
     },
     "output_type": "display_data"
    }
   ],
   "source": [
    "show_description(df_contracts, 'Информация о договоре')"
   ]
  },
  {
   "cell_type": "markdown",
   "metadata": {},
   "source": [
    "Видим пустые значения в колонке TotalCharges. Выведем их:"
   ]
  },
  {
   "cell_type": "code",
   "execution_count": 31,
   "metadata": {},
   "outputs": [
    {
     "data": {
      "text/html": [
       "<div>\n",
       "<style scoped>\n",
       "    .dataframe tbody tr th:only-of-type {\n",
       "        vertical-align: middle;\n",
       "    }\n",
       "\n",
       "    .dataframe tbody tr th {\n",
       "        vertical-align: top;\n",
       "    }\n",
       "\n",
       "    .dataframe thead th {\n",
       "        text-align: right;\n",
       "    }\n",
       "</style>\n",
       "<table border=\"1\" class=\"dataframe\">\n",
       "  <thead>\n",
       "    <tr style=\"text-align: right;\">\n",
       "      <th></th>\n",
       "      <th>customerID</th>\n",
       "      <th>BeginDate</th>\n",
       "      <th>EndDate</th>\n",
       "      <th>Type</th>\n",
       "      <th>PaperlessBilling</th>\n",
       "      <th>PaymentMethod</th>\n",
       "      <th>MonthlyCharges</th>\n",
       "      <th>TotalCharges</th>\n",
       "    </tr>\n",
       "  </thead>\n",
       "  <tbody>\n",
       "    <tr>\n",
       "      <td>488</td>\n",
       "      <td>4472-LVYGI</td>\n",
       "      <td>2020-02-01</td>\n",
       "      <td>No</td>\n",
       "      <td>Two year</td>\n",
       "      <td>Yes</td>\n",
       "      <td>Bank transfer (automatic)</td>\n",
       "      <td>52.55</td>\n",
       "      <td>NaN</td>\n",
       "    </tr>\n",
       "    <tr>\n",
       "      <td>753</td>\n",
       "      <td>3115-CZMZD</td>\n",
       "      <td>2020-02-01</td>\n",
       "      <td>No</td>\n",
       "      <td>Two year</td>\n",
       "      <td>No</td>\n",
       "      <td>Mailed check</td>\n",
       "      <td>20.25</td>\n",
       "      <td>NaN</td>\n",
       "    </tr>\n",
       "    <tr>\n",
       "      <td>936</td>\n",
       "      <td>5709-LVOEQ</td>\n",
       "      <td>2020-02-01</td>\n",
       "      <td>No</td>\n",
       "      <td>Two year</td>\n",
       "      <td>No</td>\n",
       "      <td>Mailed check</td>\n",
       "      <td>80.85</td>\n",
       "      <td>NaN</td>\n",
       "    </tr>\n",
       "    <tr>\n",
       "      <td>1082</td>\n",
       "      <td>4367-NUYAO</td>\n",
       "      <td>2020-02-01</td>\n",
       "      <td>No</td>\n",
       "      <td>Two year</td>\n",
       "      <td>No</td>\n",
       "      <td>Mailed check</td>\n",
       "      <td>25.75</td>\n",
       "      <td>NaN</td>\n",
       "    </tr>\n",
       "    <tr>\n",
       "      <td>1340</td>\n",
       "      <td>1371-DWPAZ</td>\n",
       "      <td>2020-02-01</td>\n",
       "      <td>No</td>\n",
       "      <td>Two year</td>\n",
       "      <td>No</td>\n",
       "      <td>Credit card (automatic)</td>\n",
       "      <td>56.05</td>\n",
       "      <td>NaN</td>\n",
       "    </tr>\n",
       "    <tr>\n",
       "      <td>3331</td>\n",
       "      <td>7644-OMVMY</td>\n",
       "      <td>2020-02-01</td>\n",
       "      <td>No</td>\n",
       "      <td>Two year</td>\n",
       "      <td>No</td>\n",
       "      <td>Mailed check</td>\n",
       "      <td>19.85</td>\n",
       "      <td>NaN</td>\n",
       "    </tr>\n",
       "    <tr>\n",
       "      <td>3826</td>\n",
       "      <td>3213-VVOLG</td>\n",
       "      <td>2020-02-01</td>\n",
       "      <td>No</td>\n",
       "      <td>Two year</td>\n",
       "      <td>No</td>\n",
       "      <td>Mailed check</td>\n",
       "      <td>25.35</td>\n",
       "      <td>NaN</td>\n",
       "    </tr>\n",
       "    <tr>\n",
       "      <td>4380</td>\n",
       "      <td>2520-SGTTA</td>\n",
       "      <td>2020-02-01</td>\n",
       "      <td>No</td>\n",
       "      <td>Two year</td>\n",
       "      <td>No</td>\n",
       "      <td>Mailed check</td>\n",
       "      <td>20.00</td>\n",
       "      <td>NaN</td>\n",
       "    </tr>\n",
       "    <tr>\n",
       "      <td>5218</td>\n",
       "      <td>2923-ARZLG</td>\n",
       "      <td>2020-02-01</td>\n",
       "      <td>No</td>\n",
       "      <td>One year</td>\n",
       "      <td>Yes</td>\n",
       "      <td>Mailed check</td>\n",
       "      <td>19.70</td>\n",
       "      <td>NaN</td>\n",
       "    </tr>\n",
       "    <tr>\n",
       "      <td>6670</td>\n",
       "      <td>4075-WKNIU</td>\n",
       "      <td>2020-02-01</td>\n",
       "      <td>No</td>\n",
       "      <td>Two year</td>\n",
       "      <td>No</td>\n",
       "      <td>Mailed check</td>\n",
       "      <td>73.35</td>\n",
       "      <td>NaN</td>\n",
       "    </tr>\n",
       "    <tr>\n",
       "      <td>6754</td>\n",
       "      <td>2775-SEFEE</td>\n",
       "      <td>2020-02-01</td>\n",
       "      <td>No</td>\n",
       "      <td>Two year</td>\n",
       "      <td>Yes</td>\n",
       "      <td>Bank transfer (automatic)</td>\n",
       "      <td>61.90</td>\n",
       "      <td>NaN</td>\n",
       "    </tr>\n",
       "  </tbody>\n",
       "</table>\n",
       "</div>"
      ],
      "text/plain": [
       "      customerID   BeginDate EndDate      Type PaperlessBilling  \\\n",
       "488   4472-LVYGI  2020-02-01      No  Two year              Yes   \n",
       "753   3115-CZMZD  2020-02-01      No  Two year               No   \n",
       "936   5709-LVOEQ  2020-02-01      No  Two year               No   \n",
       "1082  4367-NUYAO  2020-02-01      No  Two year               No   \n",
       "1340  1371-DWPAZ  2020-02-01      No  Two year               No   \n",
       "3331  7644-OMVMY  2020-02-01      No  Two year               No   \n",
       "3826  3213-VVOLG  2020-02-01      No  Two year               No   \n",
       "4380  2520-SGTTA  2020-02-01      No  Two year               No   \n",
       "5218  2923-ARZLG  2020-02-01      No  One year              Yes   \n",
       "6670  4075-WKNIU  2020-02-01      No  Two year               No   \n",
       "6754  2775-SEFEE  2020-02-01      No  Two year              Yes   \n",
       "\n",
       "                  PaymentMethod  MonthlyCharges  TotalCharges  \n",
       "488   Bank transfer (automatic)           52.55           NaN  \n",
       "753                Mailed check           20.25           NaN  \n",
       "936                Mailed check           80.85           NaN  \n",
       "1082               Mailed check           25.75           NaN  \n",
       "1340    Credit card (automatic)           56.05           NaN  \n",
       "3331               Mailed check           19.85           NaN  \n",
       "3826               Mailed check           25.35           NaN  \n",
       "4380               Mailed check           20.00           NaN  \n",
       "5218               Mailed check           19.70           NaN  \n",
       "6670               Mailed check           73.35           NaN  \n",
       "6754  Bank transfer (automatic)           61.90           NaN  "
      ]
     },
     "metadata": {},
     "output_type": "display_data"
    }
   ],
   "source": [
    "display(df_contracts[df_contracts['TotalCharges'].isnull()])"
   ]
  },
  {
   "cell_type": "markdown",
   "metadata": {},
   "source": [
    "Видно, что значения TotalCharges отсутствуют у клиентов, зарегистрированных датой среза. Данные о клиентах не полные и их количество небольшое, их лучше удалить."
   ]
  },
  {
   "cell_type": "code",
   "execution_count": 32,
   "metadata": {},
   "outputs": [],
   "source": [
    "df_contracts = df_contracts[df_contracts['TotalCharges'].notnull()]"
   ]
  },
  {
   "cell_type": "markdown",
   "metadata": {},
   "source": [
    "Посмотрим на баланс классов в целевом признаке (уход клиента)"
   ]
  },
  {
   "cell_type": "code",
   "execution_count": 33,
   "metadata": {},
   "outputs": [
    {
     "name": "stdout",
     "output_type": "stream",
     "text": [
      "Пользователи которые не покинули нас: 0%\n",
      "Пользователи которые покинули нас: 100%\n"
     ]
    }
   ],
   "source": [
    "print(\"Пользователи которые не покинули нас: {:.0%}\".format(df_contracts[df_contracts['EndDate'].isnull()]['customerID'].count()/df_contracts.shape[0]))\n",
    "print(\"Пользователи которые покинули нас: {:.0%}\".format(df_contracts[df_contracts['EndDate'].notnull()]['customerID'].count()/df_contracts.shape[0]))"
   ]
  },
  {
   "cell_type": "markdown",
   "metadata": {},
   "source": [
    "Видим, что распределение категорий клиентов неравномерное. Нужно будет учесть это при подготовке модели к машинному обучению. За весь срок от нас ушли 27% клиентов от общего количества, это очень большая цифра."
   ]
  },
  {
   "cell_type": "markdown",
   "metadata": {},
   "source": [
    "Посмотрим на распределение ухода клиентов по датам."
   ]
  },
  {
   "cell_type": "code",
   "execution_count": 34,
   "metadata": {},
   "outputs": [
    {
     "data": {
      "text/plain": [
       "EndDate\n",
       "2019-10-01 00:00:00     458\n",
       "2019-11-01 00:00:00     485\n",
       "2019-12-01 00:00:00     466\n",
       "2020-01-01 00:00:00     460\n",
       "No                     5163\n",
       "Name: customerID, dtype: int64"
      ]
     },
     "metadata": {},
     "output_type": "display_data"
    }
   ],
   "source": [
    "display(df_contracts[df_contracts['EndDate'].notnull()].groupby('EndDate')['customerID'].count())"
   ]
  },
  {
   "cell_type": "markdown",
   "metadata": {},
   "source": [
    "Видим, что за весь срок клиенты уходили только в 4 даты, причем равномерным количеством чуть меньше 500 человек. Рекомендация бизнесу: изучить, что происходило накануне даты ухода. Возможно, происходили какие-то события которые повляли на одновременный уход такого большого количества клиентов."
   ]
  },
  {
   "cell_type": "markdown",
   "metadata": {},
   "source": [
    "Посмотрим на предпочтения пользователей по периодичности платежей. Из графика видно, что большинство пользователей предпочитают вносить оплату ежемесячно."
   ]
  },
  {
   "cell_type": "code",
   "execution_count": 35,
   "metadata": {
    "scrolled": false
   },
   "outputs": [
    {
     "data": {
      "application/vnd.plotly.v1+json": {
       "config": {
        "plotlyServerURL": "https://plot.ly"
       },
       "data": [
        {
         "alignmentgroup": "True",
         "hoverlabel": {
          "namelength": 0
         },
         "hovertemplate": "Периодичность платежа=%{x}<br>Количество пользователей=%{y}",
         "legendgroup": "",
         "marker": {
          "color": "#636efa"
         },
         "name": "",
         "offsetgroup": "",
         "orientation": "v",
         "showlegend": false,
         "textposition": "auto",
         "type": "bar",
         "x": [
          "Month-to-month",
          "One year",
          "Two year"
         ],
         "xaxis": "x",
         "y": [
          3875,
          1472,
          1685
         ],
         "yaxis": "y"
        }
       ],
       "layout": {
        "barmode": "relative",
        "height": 600,
        "legend": {
         "tracegroupgap": 0
        },
        "template": {
         "data": {
          "bar": [
           {
            "error_x": {
             "color": "#2a3f5f"
            },
            "error_y": {
             "color": "#2a3f5f"
            },
            "marker": {
             "line": {
              "color": "#E5ECF6",
              "width": 0.5
             }
            },
            "type": "bar"
           }
          ],
          "barpolar": [
           {
            "marker": {
             "line": {
              "color": "#E5ECF6",
              "width": 0.5
             }
            },
            "type": "barpolar"
           }
          ],
          "carpet": [
           {
            "aaxis": {
             "endlinecolor": "#2a3f5f",
             "gridcolor": "white",
             "linecolor": "white",
             "minorgridcolor": "white",
             "startlinecolor": "#2a3f5f"
            },
            "baxis": {
             "endlinecolor": "#2a3f5f",
             "gridcolor": "white",
             "linecolor": "white",
             "minorgridcolor": "white",
             "startlinecolor": "#2a3f5f"
            },
            "type": "carpet"
           }
          ],
          "choropleth": [
           {
            "colorbar": {
             "outlinewidth": 0,
             "ticks": ""
            },
            "type": "choropleth"
           }
          ],
          "contour": [
           {
            "colorbar": {
             "outlinewidth": 0,
             "ticks": ""
            },
            "colorscale": [
             [
              0,
              "#0d0887"
             ],
             [
              0.1111111111111111,
              "#46039f"
             ],
             [
              0.2222222222222222,
              "#7201a8"
             ],
             [
              0.3333333333333333,
              "#9c179e"
             ],
             [
              0.4444444444444444,
              "#bd3786"
             ],
             [
              0.5555555555555556,
              "#d8576b"
             ],
             [
              0.6666666666666666,
              "#ed7953"
             ],
             [
              0.7777777777777778,
              "#fb9f3a"
             ],
             [
              0.8888888888888888,
              "#fdca26"
             ],
             [
              1,
              "#f0f921"
             ]
            ],
            "type": "contour"
           }
          ],
          "contourcarpet": [
           {
            "colorbar": {
             "outlinewidth": 0,
             "ticks": ""
            },
            "type": "contourcarpet"
           }
          ],
          "heatmap": [
           {
            "colorbar": {
             "outlinewidth": 0,
             "ticks": ""
            },
            "colorscale": [
             [
              0,
              "#0d0887"
             ],
             [
              0.1111111111111111,
              "#46039f"
             ],
             [
              0.2222222222222222,
              "#7201a8"
             ],
             [
              0.3333333333333333,
              "#9c179e"
             ],
             [
              0.4444444444444444,
              "#bd3786"
             ],
             [
              0.5555555555555556,
              "#d8576b"
             ],
             [
              0.6666666666666666,
              "#ed7953"
             ],
             [
              0.7777777777777778,
              "#fb9f3a"
             ],
             [
              0.8888888888888888,
              "#fdca26"
             ],
             [
              1,
              "#f0f921"
             ]
            ],
            "type": "heatmap"
           }
          ],
          "heatmapgl": [
           {
            "colorbar": {
             "outlinewidth": 0,
             "ticks": ""
            },
            "colorscale": [
             [
              0,
              "#0d0887"
             ],
             [
              0.1111111111111111,
              "#46039f"
             ],
             [
              0.2222222222222222,
              "#7201a8"
             ],
             [
              0.3333333333333333,
              "#9c179e"
             ],
             [
              0.4444444444444444,
              "#bd3786"
             ],
             [
              0.5555555555555556,
              "#d8576b"
             ],
             [
              0.6666666666666666,
              "#ed7953"
             ],
             [
              0.7777777777777778,
              "#fb9f3a"
             ],
             [
              0.8888888888888888,
              "#fdca26"
             ],
             [
              1,
              "#f0f921"
             ]
            ],
            "type": "heatmapgl"
           }
          ],
          "histogram": [
           {
            "marker": {
             "colorbar": {
              "outlinewidth": 0,
              "ticks": ""
             }
            },
            "type": "histogram"
           }
          ],
          "histogram2d": [
           {
            "colorbar": {
             "outlinewidth": 0,
             "ticks": ""
            },
            "colorscale": [
             [
              0,
              "#0d0887"
             ],
             [
              0.1111111111111111,
              "#46039f"
             ],
             [
              0.2222222222222222,
              "#7201a8"
             ],
             [
              0.3333333333333333,
              "#9c179e"
             ],
             [
              0.4444444444444444,
              "#bd3786"
             ],
             [
              0.5555555555555556,
              "#d8576b"
             ],
             [
              0.6666666666666666,
              "#ed7953"
             ],
             [
              0.7777777777777778,
              "#fb9f3a"
             ],
             [
              0.8888888888888888,
              "#fdca26"
             ],
             [
              1,
              "#f0f921"
             ]
            ],
            "type": "histogram2d"
           }
          ],
          "histogram2dcontour": [
           {
            "colorbar": {
             "outlinewidth": 0,
             "ticks": ""
            },
            "colorscale": [
             [
              0,
              "#0d0887"
             ],
             [
              0.1111111111111111,
              "#46039f"
             ],
             [
              0.2222222222222222,
              "#7201a8"
             ],
             [
              0.3333333333333333,
              "#9c179e"
             ],
             [
              0.4444444444444444,
              "#bd3786"
             ],
             [
              0.5555555555555556,
              "#d8576b"
             ],
             [
              0.6666666666666666,
              "#ed7953"
             ],
             [
              0.7777777777777778,
              "#fb9f3a"
             ],
             [
              0.8888888888888888,
              "#fdca26"
             ],
             [
              1,
              "#f0f921"
             ]
            ],
            "type": "histogram2dcontour"
           }
          ],
          "mesh3d": [
           {
            "colorbar": {
             "outlinewidth": 0,
             "ticks": ""
            },
            "type": "mesh3d"
           }
          ],
          "parcoords": [
           {
            "line": {
             "colorbar": {
              "outlinewidth": 0,
              "ticks": ""
             }
            },
            "type": "parcoords"
           }
          ],
          "scatter": [
           {
            "marker": {
             "colorbar": {
              "outlinewidth": 0,
              "ticks": ""
             }
            },
            "type": "scatter"
           }
          ],
          "scatter3d": [
           {
            "line": {
             "colorbar": {
              "outlinewidth": 0,
              "ticks": ""
             }
            },
            "marker": {
             "colorbar": {
              "outlinewidth": 0,
              "ticks": ""
             }
            },
            "type": "scatter3d"
           }
          ],
          "scattercarpet": [
           {
            "marker": {
             "colorbar": {
              "outlinewidth": 0,
              "ticks": ""
             }
            },
            "type": "scattercarpet"
           }
          ],
          "scattergeo": [
           {
            "marker": {
             "colorbar": {
              "outlinewidth": 0,
              "ticks": ""
             }
            },
            "type": "scattergeo"
           }
          ],
          "scattergl": [
           {
            "marker": {
             "colorbar": {
              "outlinewidth": 0,
              "ticks": ""
             }
            },
            "type": "scattergl"
           }
          ],
          "scattermapbox": [
           {
            "marker": {
             "colorbar": {
              "outlinewidth": 0,
              "ticks": ""
             }
            },
            "type": "scattermapbox"
           }
          ],
          "scatterpolar": [
           {
            "marker": {
             "colorbar": {
              "outlinewidth": 0,
              "ticks": ""
             }
            },
            "type": "scatterpolar"
           }
          ],
          "scatterpolargl": [
           {
            "marker": {
             "colorbar": {
              "outlinewidth": 0,
              "ticks": ""
             }
            },
            "type": "scatterpolargl"
           }
          ],
          "scatterternary": [
           {
            "marker": {
             "colorbar": {
              "outlinewidth": 0,
              "ticks": ""
             }
            },
            "type": "scatterternary"
           }
          ],
          "surface": [
           {
            "colorbar": {
             "outlinewidth": 0,
             "ticks": ""
            },
            "colorscale": [
             [
              0,
              "#0d0887"
             ],
             [
              0.1111111111111111,
              "#46039f"
             ],
             [
              0.2222222222222222,
              "#7201a8"
             ],
             [
              0.3333333333333333,
              "#9c179e"
             ],
             [
              0.4444444444444444,
              "#bd3786"
             ],
             [
              0.5555555555555556,
              "#d8576b"
             ],
             [
              0.6666666666666666,
              "#ed7953"
             ],
             [
              0.7777777777777778,
              "#fb9f3a"
             ],
             [
              0.8888888888888888,
              "#fdca26"
             ],
             [
              1,
              "#f0f921"
             ]
            ],
            "type": "surface"
           }
          ],
          "table": [
           {
            "cells": {
             "fill": {
              "color": "#EBF0F8"
             },
             "line": {
              "color": "white"
             }
            },
            "header": {
             "fill": {
              "color": "#C8D4E3"
             },
             "line": {
              "color": "white"
             }
            },
            "type": "table"
           }
          ]
         },
         "layout": {
          "annotationdefaults": {
           "arrowcolor": "#2a3f5f",
           "arrowhead": 0,
           "arrowwidth": 1
          },
          "colorscale": {
           "diverging": [
            [
             0,
             "#8e0152"
            ],
            [
             0.1,
             "#c51b7d"
            ],
            [
             0.2,
             "#de77ae"
            ],
            [
             0.3,
             "#f1b6da"
            ],
            [
             0.4,
             "#fde0ef"
            ],
            [
             0.5,
             "#f7f7f7"
            ],
            [
             0.6,
             "#e6f5d0"
            ],
            [
             0.7,
             "#b8e186"
            ],
            [
             0.8,
             "#7fbc41"
            ],
            [
             0.9,
             "#4d9221"
            ],
            [
             1,
             "#276419"
            ]
           ],
           "sequential": [
            [
             0,
             "#0d0887"
            ],
            [
             0.1111111111111111,
             "#46039f"
            ],
            [
             0.2222222222222222,
             "#7201a8"
            ],
            [
             0.3333333333333333,
             "#9c179e"
            ],
            [
             0.4444444444444444,
             "#bd3786"
            ],
            [
             0.5555555555555556,
             "#d8576b"
            ],
            [
             0.6666666666666666,
             "#ed7953"
            ],
            [
             0.7777777777777778,
             "#fb9f3a"
            ],
            [
             0.8888888888888888,
             "#fdca26"
            ],
            [
             1,
             "#f0f921"
            ]
           ],
           "sequentialminus": [
            [
             0,
             "#0d0887"
            ],
            [
             0.1111111111111111,
             "#46039f"
            ],
            [
             0.2222222222222222,
             "#7201a8"
            ],
            [
             0.3333333333333333,
             "#9c179e"
            ],
            [
             0.4444444444444444,
             "#bd3786"
            ],
            [
             0.5555555555555556,
             "#d8576b"
            ],
            [
             0.6666666666666666,
             "#ed7953"
            ],
            [
             0.7777777777777778,
             "#fb9f3a"
            ],
            [
             0.8888888888888888,
             "#fdca26"
            ],
            [
             1,
             "#f0f921"
            ]
           ]
          },
          "colorway": [
           "#636efa",
           "#EF553B",
           "#00cc96",
           "#ab63fa",
           "#FFA15A",
           "#19d3f3",
           "#FF6692",
           "#B6E880",
           "#FF97FF",
           "#FECB52"
          ],
          "font": {
           "color": "#2a3f5f"
          },
          "geo": {
           "bgcolor": "white",
           "lakecolor": "white",
           "landcolor": "#E5ECF6",
           "showlakes": true,
           "showland": true,
           "subunitcolor": "white"
          },
          "hoverlabel": {
           "align": "left"
          },
          "hovermode": "closest",
          "mapbox": {
           "style": "light"
          },
          "paper_bgcolor": "white",
          "plot_bgcolor": "#E5ECF6",
          "polar": {
           "angularaxis": {
            "gridcolor": "white",
            "linecolor": "white",
            "ticks": ""
           },
           "bgcolor": "#E5ECF6",
           "radialaxis": {
            "gridcolor": "white",
            "linecolor": "white",
            "ticks": ""
           }
          },
          "scene": {
           "xaxis": {
            "backgroundcolor": "#E5ECF6",
            "gridcolor": "white",
            "gridwidth": 2,
            "linecolor": "white",
            "showbackground": true,
            "ticks": "",
            "zerolinecolor": "white"
           },
           "yaxis": {
            "backgroundcolor": "#E5ECF6",
            "gridcolor": "white",
            "gridwidth": 2,
            "linecolor": "white",
            "showbackground": true,
            "ticks": "",
            "zerolinecolor": "white"
           },
           "zaxis": {
            "backgroundcolor": "#E5ECF6",
            "gridcolor": "white",
            "gridwidth": 2,
            "linecolor": "white",
            "showbackground": true,
            "ticks": "",
            "zerolinecolor": "white"
           }
          },
          "shapedefaults": {
           "line": {
            "color": "#2a3f5f"
           }
          },
          "ternary": {
           "aaxis": {
            "gridcolor": "white",
            "linecolor": "white",
            "ticks": ""
           },
           "baxis": {
            "gridcolor": "white",
            "linecolor": "white",
            "ticks": ""
           },
           "bgcolor": "#E5ECF6",
           "caxis": {
            "gridcolor": "white",
            "linecolor": "white",
            "ticks": ""
           }
          },
          "title": {
           "x": 0.05
          },
          "xaxis": {
           "automargin": true,
           "gridcolor": "white",
           "linecolor": "white",
           "ticks": "",
           "zerolinecolor": "white",
           "zerolinewidth": 2
          },
          "yaxis": {
           "automargin": true,
           "gridcolor": "white",
           "linecolor": "white",
           "ticks": "",
           "zerolinecolor": "white",
           "zerolinewidth": 2
          }
         }
        },
        "title": {
         "text": "Периодичность платежей"
        },
        "xaxis": {
         "anchor": "y",
         "domain": [
          0,
          0.98
         ],
         "title": {
          "text": "Периодичность платежа"
         }
        },
        "yaxis": {
         "anchor": "x",
         "domain": [
          0,
          1
         ],
         "title": {
          "text": "Количество пользователей"
         }
        }
       }
      },
      "text/html": [
       "<div>\n",
       "        \n",
       "        \n",
       "            <div id=\"8d81c86d-d626-4b70-8843-b046116bfbd9\" class=\"plotly-graph-div\" style=\"height:600px; width:100%;\"></div>\n",
       "            <script type=\"text/javascript\">\n",
       "                require([\"plotly\"], function(Plotly) {\n",
       "                    window.PLOTLYENV=window.PLOTLYENV || {};\n",
       "                    \n",
       "                if (document.getElementById(\"8d81c86d-d626-4b70-8843-b046116bfbd9\")) {\n",
       "                    Plotly.newPlot(\n",
       "                        '8d81c86d-d626-4b70-8843-b046116bfbd9',\n",
       "                        [{\"alignmentgroup\": \"True\", \"hoverlabel\": {\"namelength\": 0}, \"hovertemplate\": \"\\u041f\\u0435\\u0440\\u0438\\u043e\\u0434\\u0438\\u0447\\u043d\\u043e\\u0441\\u0442\\u044c \\u043f\\u043b\\u0430\\u0442\\u0435\\u0436\\u0430=%{x}<br>\\u041a\\u043e\\u043b\\u0438\\u0447\\u0435\\u0441\\u0442\\u0432\\u043e \\u043f\\u043e\\u043b\\u044c\\u0437\\u043e\\u0432\\u0430\\u0442\\u0435\\u043b\\u0435\\u0439=%{y}\", \"legendgroup\": \"\", \"marker\": {\"color\": \"#636efa\"}, \"name\": \"\", \"offsetgroup\": \"\", \"orientation\": \"v\", \"showlegend\": false, \"textposition\": \"auto\", \"type\": \"bar\", \"x\": [\"Month-to-month\", \"One year\", \"Two year\"], \"xaxis\": \"x\", \"y\": [3875, 1472, 1685], \"yaxis\": \"y\"}],\n",
       "                        {\"barmode\": \"relative\", \"height\": 600, \"legend\": {\"tracegroupgap\": 0}, \"template\": {\"data\": {\"bar\": [{\"error_x\": {\"color\": \"#2a3f5f\"}, \"error_y\": {\"color\": \"#2a3f5f\"}, \"marker\": {\"line\": {\"color\": \"#E5ECF6\", \"width\": 0.5}}, \"type\": \"bar\"}], \"barpolar\": [{\"marker\": {\"line\": {\"color\": \"#E5ECF6\", \"width\": 0.5}}, \"type\": \"barpolar\"}], \"carpet\": [{\"aaxis\": {\"endlinecolor\": \"#2a3f5f\", \"gridcolor\": \"white\", \"linecolor\": \"white\", \"minorgridcolor\": \"white\", \"startlinecolor\": \"#2a3f5f\"}, \"baxis\": {\"endlinecolor\": \"#2a3f5f\", \"gridcolor\": \"white\", \"linecolor\": \"white\", \"minorgridcolor\": \"white\", \"startlinecolor\": \"#2a3f5f\"}, \"type\": \"carpet\"}], \"choropleth\": [{\"colorbar\": {\"outlinewidth\": 0, \"ticks\": \"\"}, \"type\": \"choropleth\"}], \"contour\": [{\"colorbar\": {\"outlinewidth\": 0, \"ticks\": \"\"}, \"colorscale\": [[0.0, \"#0d0887\"], [0.1111111111111111, \"#46039f\"], [0.2222222222222222, \"#7201a8\"], [0.3333333333333333, \"#9c179e\"], [0.4444444444444444, \"#bd3786\"], [0.5555555555555556, \"#d8576b\"], [0.6666666666666666, \"#ed7953\"], [0.7777777777777778, \"#fb9f3a\"], [0.8888888888888888, \"#fdca26\"], [1.0, \"#f0f921\"]], \"type\": \"contour\"}], \"contourcarpet\": [{\"colorbar\": {\"outlinewidth\": 0, \"ticks\": \"\"}, \"type\": \"contourcarpet\"}], \"heatmap\": [{\"colorbar\": {\"outlinewidth\": 0, \"ticks\": \"\"}, \"colorscale\": [[0.0, \"#0d0887\"], [0.1111111111111111, \"#46039f\"], [0.2222222222222222, \"#7201a8\"], [0.3333333333333333, \"#9c179e\"], [0.4444444444444444, \"#bd3786\"], [0.5555555555555556, \"#d8576b\"], [0.6666666666666666, \"#ed7953\"], [0.7777777777777778, \"#fb9f3a\"], [0.8888888888888888, \"#fdca26\"], [1.0, \"#f0f921\"]], \"type\": \"heatmap\"}], \"heatmapgl\": [{\"colorbar\": {\"outlinewidth\": 0, \"ticks\": \"\"}, \"colorscale\": [[0.0, \"#0d0887\"], [0.1111111111111111, \"#46039f\"], [0.2222222222222222, \"#7201a8\"], [0.3333333333333333, \"#9c179e\"], [0.4444444444444444, \"#bd3786\"], [0.5555555555555556, \"#d8576b\"], [0.6666666666666666, \"#ed7953\"], [0.7777777777777778, \"#fb9f3a\"], [0.8888888888888888, \"#fdca26\"], [1.0, \"#f0f921\"]], \"type\": \"heatmapgl\"}], \"histogram\": [{\"marker\": {\"colorbar\": {\"outlinewidth\": 0, \"ticks\": \"\"}}, \"type\": \"histogram\"}], \"histogram2d\": [{\"colorbar\": {\"outlinewidth\": 0, \"ticks\": \"\"}, \"colorscale\": [[0.0, \"#0d0887\"], [0.1111111111111111, \"#46039f\"], [0.2222222222222222, \"#7201a8\"], [0.3333333333333333, \"#9c179e\"], [0.4444444444444444, \"#bd3786\"], [0.5555555555555556, \"#d8576b\"], [0.6666666666666666, \"#ed7953\"], [0.7777777777777778, \"#fb9f3a\"], [0.8888888888888888, \"#fdca26\"], [1.0, \"#f0f921\"]], \"type\": \"histogram2d\"}], \"histogram2dcontour\": [{\"colorbar\": {\"outlinewidth\": 0, \"ticks\": \"\"}, \"colorscale\": [[0.0, \"#0d0887\"], [0.1111111111111111, \"#46039f\"], [0.2222222222222222, \"#7201a8\"], [0.3333333333333333, \"#9c179e\"], [0.4444444444444444, \"#bd3786\"], [0.5555555555555556, \"#d8576b\"], [0.6666666666666666, \"#ed7953\"], [0.7777777777777778, \"#fb9f3a\"], [0.8888888888888888, \"#fdca26\"], [1.0, \"#f0f921\"]], \"type\": \"histogram2dcontour\"}], \"mesh3d\": [{\"colorbar\": {\"outlinewidth\": 0, \"ticks\": \"\"}, \"type\": \"mesh3d\"}], \"parcoords\": [{\"line\": {\"colorbar\": {\"outlinewidth\": 0, \"ticks\": \"\"}}, \"type\": \"parcoords\"}], \"scatter\": [{\"marker\": {\"colorbar\": {\"outlinewidth\": 0, \"ticks\": \"\"}}, \"type\": \"scatter\"}], \"scatter3d\": [{\"line\": {\"colorbar\": {\"outlinewidth\": 0, \"ticks\": \"\"}}, \"marker\": {\"colorbar\": {\"outlinewidth\": 0, \"ticks\": \"\"}}, \"type\": \"scatter3d\"}], \"scattercarpet\": [{\"marker\": {\"colorbar\": {\"outlinewidth\": 0, \"ticks\": \"\"}}, \"type\": \"scattercarpet\"}], \"scattergeo\": [{\"marker\": {\"colorbar\": {\"outlinewidth\": 0, \"ticks\": \"\"}}, \"type\": \"scattergeo\"}], \"scattergl\": [{\"marker\": {\"colorbar\": {\"outlinewidth\": 0, \"ticks\": \"\"}}, \"type\": \"scattergl\"}], \"scattermapbox\": [{\"marker\": {\"colorbar\": {\"outlinewidth\": 0, \"ticks\": \"\"}}, \"type\": \"scattermapbox\"}], \"scatterpolar\": [{\"marker\": {\"colorbar\": {\"outlinewidth\": 0, \"ticks\": \"\"}}, \"type\": \"scatterpolar\"}], \"scatterpolargl\": [{\"marker\": {\"colorbar\": {\"outlinewidth\": 0, \"ticks\": \"\"}}, \"type\": \"scatterpolargl\"}], \"scatterternary\": [{\"marker\": {\"colorbar\": {\"outlinewidth\": 0, \"ticks\": \"\"}}, \"type\": \"scatterternary\"}], \"surface\": [{\"colorbar\": {\"outlinewidth\": 0, \"ticks\": \"\"}, \"colorscale\": [[0.0, \"#0d0887\"], [0.1111111111111111, \"#46039f\"], [0.2222222222222222, \"#7201a8\"], [0.3333333333333333, \"#9c179e\"], [0.4444444444444444, \"#bd3786\"], [0.5555555555555556, \"#d8576b\"], [0.6666666666666666, \"#ed7953\"], [0.7777777777777778, \"#fb9f3a\"], [0.8888888888888888, \"#fdca26\"], [1.0, \"#f0f921\"]], \"type\": \"surface\"}], \"table\": [{\"cells\": {\"fill\": {\"color\": \"#EBF0F8\"}, \"line\": {\"color\": \"white\"}}, \"header\": {\"fill\": {\"color\": \"#C8D4E3\"}, \"line\": {\"color\": \"white\"}}, \"type\": \"table\"}]}, \"layout\": {\"annotationdefaults\": {\"arrowcolor\": \"#2a3f5f\", \"arrowhead\": 0, \"arrowwidth\": 1}, \"colorscale\": {\"diverging\": [[0, \"#8e0152\"], [0.1, \"#c51b7d\"], [0.2, \"#de77ae\"], [0.3, \"#f1b6da\"], [0.4, \"#fde0ef\"], [0.5, \"#f7f7f7\"], [0.6, \"#e6f5d0\"], [0.7, \"#b8e186\"], [0.8, \"#7fbc41\"], [0.9, \"#4d9221\"], [1, \"#276419\"]], \"sequential\": [[0.0, \"#0d0887\"], [0.1111111111111111, \"#46039f\"], [0.2222222222222222, \"#7201a8\"], [0.3333333333333333, \"#9c179e\"], [0.4444444444444444, \"#bd3786\"], [0.5555555555555556, \"#d8576b\"], [0.6666666666666666, \"#ed7953\"], [0.7777777777777778, \"#fb9f3a\"], [0.8888888888888888, \"#fdca26\"], [1.0, \"#f0f921\"]], \"sequentialminus\": [[0.0, \"#0d0887\"], [0.1111111111111111, \"#46039f\"], [0.2222222222222222, \"#7201a8\"], [0.3333333333333333, \"#9c179e\"], [0.4444444444444444, \"#bd3786\"], [0.5555555555555556, \"#d8576b\"], [0.6666666666666666, \"#ed7953\"], [0.7777777777777778, \"#fb9f3a\"], [0.8888888888888888, \"#fdca26\"], [1.0, \"#f0f921\"]]}, \"colorway\": [\"#636efa\", \"#EF553B\", \"#00cc96\", \"#ab63fa\", \"#FFA15A\", \"#19d3f3\", \"#FF6692\", \"#B6E880\", \"#FF97FF\", \"#FECB52\"], \"font\": {\"color\": \"#2a3f5f\"}, \"geo\": {\"bgcolor\": \"white\", \"lakecolor\": \"white\", \"landcolor\": \"#E5ECF6\", \"showlakes\": true, \"showland\": true, \"subunitcolor\": \"white\"}, \"hoverlabel\": {\"align\": \"left\"}, \"hovermode\": \"closest\", \"mapbox\": {\"style\": \"light\"}, \"paper_bgcolor\": \"white\", \"plot_bgcolor\": \"#E5ECF6\", \"polar\": {\"angularaxis\": {\"gridcolor\": \"white\", \"linecolor\": \"white\", \"ticks\": \"\"}, \"bgcolor\": \"#E5ECF6\", \"radialaxis\": {\"gridcolor\": \"white\", \"linecolor\": \"white\", \"ticks\": \"\"}}, \"scene\": {\"xaxis\": {\"backgroundcolor\": \"#E5ECF6\", \"gridcolor\": \"white\", \"gridwidth\": 2, \"linecolor\": \"white\", \"showbackground\": true, \"ticks\": \"\", \"zerolinecolor\": \"white\"}, \"yaxis\": {\"backgroundcolor\": \"#E5ECF6\", \"gridcolor\": \"white\", \"gridwidth\": 2, \"linecolor\": \"white\", \"showbackground\": true, \"ticks\": \"\", \"zerolinecolor\": \"white\"}, \"zaxis\": {\"backgroundcolor\": \"#E5ECF6\", \"gridcolor\": \"white\", \"gridwidth\": 2, \"linecolor\": \"white\", \"showbackground\": true, \"ticks\": \"\", \"zerolinecolor\": \"white\"}}, \"shapedefaults\": {\"line\": {\"color\": \"#2a3f5f\"}}, \"ternary\": {\"aaxis\": {\"gridcolor\": \"white\", \"linecolor\": \"white\", \"ticks\": \"\"}, \"baxis\": {\"gridcolor\": \"white\", \"linecolor\": \"white\", \"ticks\": \"\"}, \"bgcolor\": \"#E5ECF6\", \"caxis\": {\"gridcolor\": \"white\", \"linecolor\": \"white\", \"ticks\": \"\"}}, \"title\": {\"x\": 0.05}, \"xaxis\": {\"automargin\": true, \"gridcolor\": \"white\", \"linecolor\": \"white\", \"ticks\": \"\", \"zerolinecolor\": \"white\", \"zerolinewidth\": 2}, \"yaxis\": {\"automargin\": true, \"gridcolor\": \"white\", \"linecolor\": \"white\", \"ticks\": \"\", \"zerolinecolor\": \"white\", \"zerolinewidth\": 2}}}, \"title\": {\"text\": \"\\u041f\\u0435\\u0440\\u0438\\u043e\\u0434\\u0438\\u0447\\u043d\\u043e\\u0441\\u0442\\u044c \\u043f\\u043b\\u0430\\u0442\\u0435\\u0436\\u0435\\u0439\"}, \"xaxis\": {\"anchor\": \"y\", \"domain\": [0.0, 0.98], \"title\": {\"text\": \"\\u041f\\u0435\\u0440\\u0438\\u043e\\u0434\\u0438\\u0447\\u043d\\u043e\\u0441\\u0442\\u044c \\u043f\\u043b\\u0430\\u0442\\u0435\\u0436\\u0430\"}}, \"yaxis\": {\"anchor\": \"x\", \"domain\": [0.0, 1.0], \"title\": {\"text\": \"\\u041a\\u043e\\u043b\\u0438\\u0447\\u0435\\u0441\\u0442\\u0432\\u043e \\u043f\\u043e\\u043b\\u044c\\u0437\\u043e\\u0432\\u0430\\u0442\\u0435\\u043b\\u0435\\u0439\"}}},\n",
       "                        {\"responsive\": true}\n",
       "                    ).then(function(){\n",
       "                            \n",
       "var gd = document.getElementById('8d81c86d-d626-4b70-8843-b046116bfbd9');\n",
       "var x = new MutationObserver(function (mutations, observer) {{\n",
       "        var display = window.getComputedStyle(gd).display;\n",
       "        if (!display || display === 'none') {{\n",
       "            console.log([gd, 'removed!']);\n",
       "            Plotly.purge(gd);\n",
       "            observer.disconnect();\n",
       "        }}\n",
       "}});\n",
       "\n",
       "// Listen for the removal of the full notebook cells\n",
       "var notebookContainer = gd.closest('#notebook-container');\n",
       "if (notebookContainer) {{\n",
       "    x.observe(notebookContainer, {childList: true});\n",
       "}}\n",
       "\n",
       "// Listen for the clearing of the current output cell\n",
       "var outputEl = gd.closest('.output');\n",
       "if (outputEl) {{\n",
       "    x.observe(outputEl, {childList: true});\n",
       "}}\n",
       "\n",
       "                        })\n",
       "                };\n",
       "                });\n",
       "            </script>\n",
       "        </div>"
      ]
     },
     "metadata": {},
     "output_type": "display_data"
    }
   ],
   "source": [
    "px.bar(df_contracts.pivot_table(values=\"customerID\", index=\"Type\", aggfunc=\"count\").reset_index(), x=\"Type\", y=\"customerID\", title=\"Периодичность платежей\", labels={'customerID':'Количество пользователей', 'Type':'Периодичность платежа'})"
   ]
  },
  {
   "cell_type": "markdown",
   "metadata": {},
   "source": [
    "### Вывод"
   ]
  },
  {
   "cell_type": "markdown",
   "metadata": {},
   "source": [
    "Для анализа нам было предоставлены данные о контрактах пользователей (7043 строк). Мы изучили эти данные, нашли пропуски, обработали типы данных. Был обнаружен дисбаланс в классах целевого признака - это важно для обучения модели. В поведении пользователей была выявлена аномалия - клиенты уходили только в определенные четыре даты (2019-10-01, 2019-11-01, 2019-12-01, 2020-01-01). Рекомендация для бизнеса: изучить события накануне этих дат, что могло привести к массовому уходу клиентов."
   ]
  },
  {
   "cell_type": "markdown",
   "metadata": {},
   "source": [
    "## Подготовка данных к обучению"
   ]
  },
  {
   "cell_type": "markdown",
   "metadata": {},
   "source": [
    "Объединим даннные контрактов с данными по телефонии и интернету, а так же с личными данными пользователей."
   ]
  },
  {
   "cell_type": "code",
   "execution_count": 36,
   "metadata": {},
   "outputs": [],
   "source": [
    "df_full = df_contracts.set_index('customerID').join(df_phone.set_index('customerID'),\n",
    "                                     how='left').join(df_internet.set_index('customerID'),\n",
    "                                                      how='left').join(df_personal.set_index('customerID'),\n",
    "                                                                       how='left').reset_index()"
   ]
  },
  {
   "cell_type": "markdown",
   "metadata": {},
   "source": [
    "Удалим признаки, явно не влияющие на уход клиента. Добавим колонку - срок жизни контракта. Для этого заменим пустые строки даты ухода клиентов датой сбора данных. Целевой признак ухода клиента выразим в категориях 0 и 1 (0 - клиент ушел, 1 - клиент остался). На основе признака `MultipleLines` вычислим, пользуется ли клиент телефонией, на основе признака `InternetService` - пользуетя ли клиент услугами интернета. Колонка `SeniorCitizen` в данном датасете представлена как порядковое значение, хотя является категориальным. Вместо признака начала контракта введем признак год начала контракта.\n",
    "Пропуски заполним новой категорией - \"not used\""
   ]
  },
  {
   "cell_type": "code",
   "execution_count": 37,
   "metadata": {},
   "outputs": [
    {
     "name": "stdout",
     "output_type": "stream",
     "text": [
      "<class 'pandas.core.frame.DataFrame'>\n",
      "RangeIndex: 7032 entries, 0 to 7031\n",
      "Data columns (total 20 columns):\n",
      "Type                7032 non-null object\n",
      "PaperlessBilling    7032 non-null object\n",
      "PaymentMethod       7032 non-null object\n",
      "MonthlyCharges      7032 non-null float64\n",
      "TotalCharges        7032 non-null float64\n",
      "MultipleLines       7032 non-null object\n",
      "InternetService     7032 non-null object\n",
      "OnlineSecurity      7032 non-null object\n",
      "OnlineBackup        7032 non-null object\n",
      "DeviceProtection    7032 non-null object\n",
      "TechSupport         7032 non-null object\n",
      "StreamingTV         7032 non-null object\n",
      "StreamingMovies     7032 non-null object\n",
      "gender              7032 non-null object\n",
      "IsClient            7032 non-null int64\n",
      "ConractLength       7032 non-null int64\n",
      "PhoneUser           7032 non-null object\n",
      "InternetUser        7032 non-null object\n",
      "IsSeniorCitizen     7032 non-null object\n",
      "YearStart           7032 non-null int64\n",
      "dtypes: float64(2), int64(3), object(15)\n",
      "memory usage: 1.1+ MB\n"
     ]
    },
    {
     "data": {
      "text/html": [
       "<div>\n",
       "<style scoped>\n",
       "    .dataframe tbody tr th:only-of-type {\n",
       "        vertical-align: middle;\n",
       "    }\n",
       "\n",
       "    .dataframe tbody tr th {\n",
       "        vertical-align: top;\n",
       "    }\n",
       "\n",
       "    .dataframe thead th {\n",
       "        text-align: right;\n",
       "    }\n",
       "</style>\n",
       "<table border=\"1\" class=\"dataframe\">\n",
       "  <thead>\n",
       "    <tr style=\"text-align: right;\">\n",
       "      <th></th>\n",
       "      <th>Type</th>\n",
       "      <th>PaperlessBilling</th>\n",
       "      <th>PaymentMethod</th>\n",
       "      <th>MonthlyCharges</th>\n",
       "      <th>TotalCharges</th>\n",
       "      <th>MultipleLines</th>\n",
       "      <th>InternetService</th>\n",
       "      <th>OnlineSecurity</th>\n",
       "      <th>OnlineBackup</th>\n",
       "      <th>DeviceProtection</th>\n",
       "      <th>TechSupport</th>\n",
       "      <th>StreamingTV</th>\n",
       "      <th>StreamingMovies</th>\n",
       "      <th>gender</th>\n",
       "      <th>IsClient</th>\n",
       "      <th>ConractLength</th>\n",
       "      <th>PhoneUser</th>\n",
       "      <th>InternetUser</th>\n",
       "      <th>IsSeniorCitizen</th>\n",
       "      <th>YearStart</th>\n",
       "    </tr>\n",
       "  </thead>\n",
       "  <tbody>\n",
       "    <tr>\n",
       "      <td>0</td>\n",
       "      <td>Month-to-month</td>\n",
       "      <td>Yes</td>\n",
       "      <td>Electronic check</td>\n",
       "      <td>29.85</td>\n",
       "      <td>29.85</td>\n",
       "      <td>Not used</td>\n",
       "      <td>DSL</td>\n",
       "      <td>No</td>\n",
       "      <td>Yes</td>\n",
       "      <td>No</td>\n",
       "      <td>No</td>\n",
       "      <td>No</td>\n",
       "      <td>No</td>\n",
       "      <td>Female</td>\n",
       "      <td>1</td>\n",
       "      <td>31</td>\n",
       "      <td>No</td>\n",
       "      <td>Yes</td>\n",
       "      <td>Yes</td>\n",
       "      <td>2020</td>\n",
       "    </tr>\n",
       "    <tr>\n",
       "      <td>1</td>\n",
       "      <td>One year</td>\n",
       "      <td>No</td>\n",
       "      <td>Mailed check</td>\n",
       "      <td>56.95</td>\n",
       "      <td>1889.50</td>\n",
       "      <td>No</td>\n",
       "      <td>DSL</td>\n",
       "      <td>Yes</td>\n",
       "      <td>No</td>\n",
       "      <td>Yes</td>\n",
       "      <td>No</td>\n",
       "      <td>No</td>\n",
       "      <td>No</td>\n",
       "      <td>Male</td>\n",
       "      <td>1</td>\n",
       "      <td>1036</td>\n",
       "      <td>Yes</td>\n",
       "      <td>Yes</td>\n",
       "      <td>Yes</td>\n",
       "      <td>2017</td>\n",
       "    </tr>\n",
       "    <tr>\n",
       "      <td>2</td>\n",
       "      <td>Month-to-month</td>\n",
       "      <td>Yes</td>\n",
       "      <td>Mailed check</td>\n",
       "      <td>53.85</td>\n",
       "      <td>108.15</td>\n",
       "      <td>No</td>\n",
       "      <td>DSL</td>\n",
       "      <td>Yes</td>\n",
       "      <td>Yes</td>\n",
       "      <td>No</td>\n",
       "      <td>No</td>\n",
       "      <td>No</td>\n",
       "      <td>No</td>\n",
       "      <td>Male</td>\n",
       "      <td>0</td>\n",
       "      <td>61</td>\n",
       "      <td>Yes</td>\n",
       "      <td>Yes</td>\n",
       "      <td>Yes</td>\n",
       "      <td>2019</td>\n",
       "    </tr>\n",
       "    <tr>\n",
       "      <td>3</td>\n",
       "      <td>One year</td>\n",
       "      <td>No</td>\n",
       "      <td>Bank transfer (automatic)</td>\n",
       "      <td>42.30</td>\n",
       "      <td>1840.75</td>\n",
       "      <td>Not used</td>\n",
       "      <td>DSL</td>\n",
       "      <td>Yes</td>\n",
       "      <td>No</td>\n",
       "      <td>Yes</td>\n",
       "      <td>Yes</td>\n",
       "      <td>No</td>\n",
       "      <td>No</td>\n",
       "      <td>Male</td>\n",
       "      <td>1</td>\n",
       "      <td>1371</td>\n",
       "      <td>No</td>\n",
       "      <td>Yes</td>\n",
       "      <td>Yes</td>\n",
       "      <td>2016</td>\n",
       "    </tr>\n",
       "    <tr>\n",
       "      <td>4</td>\n",
       "      <td>Month-to-month</td>\n",
       "      <td>Yes</td>\n",
       "      <td>Electronic check</td>\n",
       "      <td>70.70</td>\n",
       "      <td>151.65</td>\n",
       "      <td>No</td>\n",
       "      <td>Fiber optic</td>\n",
       "      <td>No</td>\n",
       "      <td>No</td>\n",
       "      <td>No</td>\n",
       "      <td>No</td>\n",
       "      <td>No</td>\n",
       "      <td>No</td>\n",
       "      <td>Female</td>\n",
       "      <td>0</td>\n",
       "      <td>61</td>\n",
       "      <td>Yes</td>\n",
       "      <td>Yes</td>\n",
       "      <td>Yes</td>\n",
       "      <td>2019</td>\n",
       "    </tr>\n",
       "    <tr>\n",
       "      <td>...</td>\n",
       "      <td>...</td>\n",
       "      <td>...</td>\n",
       "      <td>...</td>\n",
       "      <td>...</td>\n",
       "      <td>...</td>\n",
       "      <td>...</td>\n",
       "      <td>...</td>\n",
       "      <td>...</td>\n",
       "      <td>...</td>\n",
       "      <td>...</td>\n",
       "      <td>...</td>\n",
       "      <td>...</td>\n",
       "      <td>...</td>\n",
       "      <td>...</td>\n",
       "      <td>...</td>\n",
       "      <td>...</td>\n",
       "      <td>...</td>\n",
       "      <td>...</td>\n",
       "      <td>...</td>\n",
       "      <td>...</td>\n",
       "    </tr>\n",
       "    <tr>\n",
       "      <td>7027</td>\n",
       "      <td>One year</td>\n",
       "      <td>Yes</td>\n",
       "      <td>Mailed check</td>\n",
       "      <td>84.80</td>\n",
       "      <td>1990.50</td>\n",
       "      <td>Yes</td>\n",
       "      <td>DSL</td>\n",
       "      <td>Yes</td>\n",
       "      <td>No</td>\n",
       "      <td>Yes</td>\n",
       "      <td>Yes</td>\n",
       "      <td>Yes</td>\n",
       "      <td>Yes</td>\n",
       "      <td>Male</td>\n",
       "      <td>1</td>\n",
       "      <td>730</td>\n",
       "      <td>Yes</td>\n",
       "      <td>Yes</td>\n",
       "      <td>Yes</td>\n",
       "      <td>2018</td>\n",
       "    </tr>\n",
       "    <tr>\n",
       "      <td>7028</td>\n",
       "      <td>One year</td>\n",
       "      <td>Yes</td>\n",
       "      <td>Credit card (automatic)</td>\n",
       "      <td>103.20</td>\n",
       "      <td>7362.90</td>\n",
       "      <td>Yes</td>\n",
       "      <td>Fiber optic</td>\n",
       "      <td>No</td>\n",
       "      <td>Yes</td>\n",
       "      <td>Yes</td>\n",
       "      <td>No</td>\n",
       "      <td>Yes</td>\n",
       "      <td>Yes</td>\n",
       "      <td>Female</td>\n",
       "      <td>1</td>\n",
       "      <td>2191</td>\n",
       "      <td>Yes</td>\n",
       "      <td>Yes</td>\n",
       "      <td>Yes</td>\n",
       "      <td>2014</td>\n",
       "    </tr>\n",
       "    <tr>\n",
       "      <td>7029</td>\n",
       "      <td>Month-to-month</td>\n",
       "      <td>Yes</td>\n",
       "      <td>Electronic check</td>\n",
       "      <td>29.60</td>\n",
       "      <td>346.45</td>\n",
       "      <td>Not used</td>\n",
       "      <td>DSL</td>\n",
       "      <td>Yes</td>\n",
       "      <td>No</td>\n",
       "      <td>No</td>\n",
       "      <td>No</td>\n",
       "      <td>No</td>\n",
       "      <td>No</td>\n",
       "      <td>Female</td>\n",
       "      <td>1</td>\n",
       "      <td>337</td>\n",
       "      <td>No</td>\n",
       "      <td>Yes</td>\n",
       "      <td>Yes</td>\n",
       "      <td>2019</td>\n",
       "    </tr>\n",
       "    <tr>\n",
       "      <td>7030</td>\n",
       "      <td>Month-to-month</td>\n",
       "      <td>Yes</td>\n",
       "      <td>Mailed check</td>\n",
       "      <td>74.40</td>\n",
       "      <td>306.60</td>\n",
       "      <td>Yes</td>\n",
       "      <td>Fiber optic</td>\n",
       "      <td>No</td>\n",
       "      <td>No</td>\n",
       "      <td>No</td>\n",
       "      <td>No</td>\n",
       "      <td>No</td>\n",
       "      <td>No</td>\n",
       "      <td>Male</td>\n",
       "      <td>0</td>\n",
       "      <td>123</td>\n",
       "      <td>Yes</td>\n",
       "      <td>Yes</td>\n",
       "      <td>Yes</td>\n",
       "      <td>2019</td>\n",
       "    </tr>\n",
       "    <tr>\n",
       "      <td>7031</td>\n",
       "      <td>Two year</td>\n",
       "      <td>Yes</td>\n",
       "      <td>Bank transfer (automatic)</td>\n",
       "      <td>105.65</td>\n",
       "      <td>6844.50</td>\n",
       "      <td>No</td>\n",
       "      <td>Fiber optic</td>\n",
       "      <td>Yes</td>\n",
       "      <td>No</td>\n",
       "      <td>Yes</td>\n",
       "      <td>Yes</td>\n",
       "      <td>Yes</td>\n",
       "      <td>Yes</td>\n",
       "      <td>Male</td>\n",
       "      <td>1</td>\n",
       "      <td>2010</td>\n",
       "      <td>Yes</td>\n",
       "      <td>Yes</td>\n",
       "      <td>Yes</td>\n",
       "      <td>2014</td>\n",
       "    </tr>\n",
       "  </tbody>\n",
       "</table>\n",
       "<p>7032 rows × 20 columns</p>\n",
       "</div>"
      ],
      "text/plain": [
       "                Type PaperlessBilling              PaymentMethod  \\\n",
       "0     Month-to-month              Yes           Electronic check   \n",
       "1           One year               No               Mailed check   \n",
       "2     Month-to-month              Yes               Mailed check   \n",
       "3           One year               No  Bank transfer (automatic)   \n",
       "4     Month-to-month              Yes           Electronic check   \n",
       "...              ...              ...                        ...   \n",
       "7027        One year              Yes               Mailed check   \n",
       "7028        One year              Yes    Credit card (automatic)   \n",
       "7029  Month-to-month              Yes           Electronic check   \n",
       "7030  Month-to-month              Yes               Mailed check   \n",
       "7031        Two year              Yes  Bank transfer (automatic)   \n",
       "\n",
       "      MonthlyCharges  TotalCharges MultipleLines InternetService  \\\n",
       "0              29.85         29.85      Not used             DSL   \n",
       "1              56.95       1889.50            No             DSL   \n",
       "2              53.85        108.15            No             DSL   \n",
       "3              42.30       1840.75      Not used             DSL   \n",
       "4              70.70        151.65            No     Fiber optic   \n",
       "...              ...           ...           ...             ...   \n",
       "7027           84.80       1990.50           Yes             DSL   \n",
       "7028          103.20       7362.90           Yes     Fiber optic   \n",
       "7029           29.60        346.45      Not used             DSL   \n",
       "7030           74.40        306.60           Yes     Fiber optic   \n",
       "7031          105.65       6844.50            No     Fiber optic   \n",
       "\n",
       "     OnlineSecurity OnlineBackup DeviceProtection TechSupport StreamingTV  \\\n",
       "0                No          Yes               No          No          No   \n",
       "1               Yes           No              Yes          No          No   \n",
       "2               Yes          Yes               No          No          No   \n",
       "3               Yes           No              Yes         Yes          No   \n",
       "4                No           No               No          No          No   \n",
       "...             ...          ...              ...         ...         ...   \n",
       "7027            Yes           No              Yes         Yes         Yes   \n",
       "7028             No          Yes              Yes          No         Yes   \n",
       "7029            Yes           No               No          No          No   \n",
       "7030             No           No               No          No          No   \n",
       "7031            Yes           No              Yes         Yes         Yes   \n",
       "\n",
       "     StreamingMovies  gender  IsClient  ConractLength PhoneUser InternetUser  \\\n",
       "0                 No  Female         1             31        No          Yes   \n",
       "1                 No    Male         1           1036       Yes          Yes   \n",
       "2                 No    Male         0             61       Yes          Yes   \n",
       "3                 No    Male         1           1371        No          Yes   \n",
       "4                 No  Female         0             61       Yes          Yes   \n",
       "...              ...     ...       ...            ...       ...          ...   \n",
       "7027             Yes    Male         1            730       Yes          Yes   \n",
       "7028             Yes  Female         1           2191       Yes          Yes   \n",
       "7029              No  Female         1            337        No          Yes   \n",
       "7030              No    Male         0            123       Yes          Yes   \n",
       "7031             Yes    Male         1           2010       Yes          Yes   \n",
       "\n",
       "     IsSeniorCitizen  YearStart  \n",
       "0                Yes       2020  \n",
       "1                Yes       2017  \n",
       "2                Yes       2019  \n",
       "3                Yes       2016  \n",
       "4                Yes       2019  \n",
       "...              ...        ...  \n",
       "7027             Yes       2018  \n",
       "7028             Yes       2014  \n",
       "7029             Yes       2019  \n",
       "7030             Yes       2019  \n",
       "7031             Yes       2014  \n",
       "\n",
       "[7032 rows x 20 columns]"
      ]
     },
     "execution_count": 37,
     "metadata": {},
     "output_type": "execute_result"
    }
   ],
   "source": [
    "try:\n",
    "    df_full['IsClient'] =  df_full['EndDate'].apply(lambda x: 1 if x=='No' else 0)\n",
    "except:\n",
    "    print('Проверьте наличие колонки EndDate')\n",
    "\n",
    "try:\n",
    "    to_datetime_fmt = partial(pd.to_datetime, format='%Y-%m-%d')\n",
    "    df_full['BeginDate'] = df_full['BeginDate'].apply(to_datetime_fmt)\n",
    "    to_datetime_fmt = partial(pd.to_datetime, format='%Y-%m-%d %H:%M:%S')\n",
    "    df_full['EndDate'] = np.where(df_full['EndDate'] == 'No', '2020-02-01 00:00:00', df_full['EndDate'])\n",
    "    df_full['EndDate'] = df_full['EndDate'].apply(to_datetime_fmt)\n",
    "except:\n",
    "    print('Вы уже меняли тип данных')\n",
    "\n",
    "\n",
    "df_full['ConractLength'] = (df_full['EndDate'] - df_full['BeginDate']).dt.days\n",
    "df_full['PhoneUser'] = df_full['MultipleLines'].apply(lambda x: 'No' if pd.isnull(x) else 'Yes')\n",
    "df_full['InternetUser'] = df_full['InternetService'].apply(lambda x: 'No' if pd.isnull(x) else 'Yes')\n",
    "df_full['IsSeniorCitizen'] =  df_full['SeniorCitizen'].apply(lambda x: 'No' if pd.isnull(x) else 'Yes')\n",
    "df_full['YearStart'] = pd.DatetimeIndex(df_full['BeginDate']).year \n",
    "\n",
    "try:\n",
    "    df_full.drop('Partner', axis=1, inplace=True)\n",
    "    df_full.drop('Dependents', axis=1, inplace=True)\n",
    "    df_full.drop('customerID', axis=1, inplace=True)\n",
    "    df_full.drop('BeginDate', axis=1, inplace=True)\n",
    "    df_full.drop('EndDate', axis=1, inplace=True)\n",
    "    df_full.drop('SeniorCitizen', axis=1, inplace=True)\n",
    "except:\n",
    "    print(\"Колонки не найдены\")\n",
    "\n",
    "df_full.fillna(\"Not used\", inplace=True)    \n",
    "    \n",
    "df_full.info()    \n",
    "df_full#.sample(5)"
   ]
  },
  {
   "cell_type": "markdown",
   "metadata": {},
   "source": [
    "Проверим признаки на наличие мультиколлинеарности"
   ]
  },
  {
   "cell_type": "code",
   "execution_count": 38,
   "metadata": {},
   "outputs": [
    {
     "data": {
      "image/png": "[encoded data removed]",
      "text/plain": [
       "<Figure size 648x432 with 2 Axes>"
      ]
     },
     "metadata": {
      "needs_background": "light"
     },
     "output_type": "display_data"
    }
   ],
   "source": [
    "plt.figure(figsize = (9, 6))\n",
    "ax = sns.heatmap(df_full.corr(), annot=True)"
   ]
  },
  {
   "cell_type": "code",
   "execution_count": 39,
   "metadata": {},
   "outputs": [
    {
     "data": {
      "text/html": [
       "<div>\n",
       "<style scoped>\n",
       "    .dataframe tbody tr th:only-of-type {\n",
       "        vertical-align: middle;\n",
       "    }\n",
       "\n",
       "    .dataframe tbody tr th {\n",
       "        vertical-align: top;\n",
       "    }\n",
       "\n",
       "    .dataframe thead th {\n",
       "        text-align: right;\n",
       "    }\n",
       "</style>\n",
       "<table border=\"1\" class=\"dataframe\">\n",
       "  <thead>\n",
       "    <tr style=\"text-align: right;\">\n",
       "      <th></th>\n",
       "      <th>level_0</th>\n",
       "      <th>level_1</th>\n",
       "      <th>0</th>\n",
       "    </tr>\n",
       "  </thead>\n",
       "  <tbody>\n",
       "    <tr>\n",
       "      <td>0</td>\n",
       "      <td>TotalCharges</td>\n",
       "      <td>ConractLength</td>\n",
       "      <td>0.825811</td>\n",
       "    </tr>\n",
       "    <tr>\n",
       "      <td>1</td>\n",
       "      <td>TotalCharges</td>\n",
       "      <td>YearStart</td>\n",
       "      <td>-0.819304</td>\n",
       "    </tr>\n",
       "    <tr>\n",
       "      <td>2</td>\n",
       "      <td>ConractLength</td>\n",
       "      <td>TotalCharges</td>\n",
       "      <td>0.825811</td>\n",
       "    </tr>\n",
       "    <tr>\n",
       "      <td>3</td>\n",
       "      <td>ConractLength</td>\n",
       "      <td>YearStart</td>\n",
       "      <td>-0.987425</td>\n",
       "    </tr>\n",
       "    <tr>\n",
       "      <td>4</td>\n",
       "      <td>YearStart</td>\n",
       "      <td>TotalCharges</td>\n",
       "      <td>-0.819304</td>\n",
       "    </tr>\n",
       "    <tr>\n",
       "      <td>5</td>\n",
       "      <td>YearStart</td>\n",
       "      <td>ConractLength</td>\n",
       "      <td>-0.987425</td>\n",
       "    </tr>\n",
       "  </tbody>\n",
       "</table>\n",
       "</div>"
      ],
      "text/plain": [
       "         level_0        level_1         0\n",
       "0   TotalCharges  ConractLength  0.825811\n",
       "1   TotalCharges      YearStart -0.819304\n",
       "2  ConractLength   TotalCharges  0.825811\n",
       "3  ConractLength      YearStart -0.987425\n",
       "4      YearStart   TotalCharges -0.819304\n",
       "5      YearStart  ConractLength -0.987425"
      ]
     },
     "execution_count": 39,
     "metadata": {},
     "output_type": "execute_result"
    }
   ],
   "source": [
    "corr = df_full.loc[:, (~df_full.columns.isin(['IsClient']))].corr()\n",
    "corr = corr.stack()\n",
    "columns = corr[((corr > 0.8) | (corr < -0.8)) & (corr!=1)].reset_index()\n",
    "\n",
    "columns"
   ]
  },
  {
   "cell_type": "markdown",
   "metadata": {},
   "source": [
    "Выявлена высока корелляция между признаками `TotalCharges` и `YearStart`, `ConractLength`. Удалим `YearStart`, `TotalCharges`"
   ]
  },
  {
   "cell_type": "code",
   "execution_count": 17,
   "metadata": {},
   "outputs": [],
   "source": [
    "try:\n",
    "    df_full.drop('YearStart', axis=1, inplace=True)\n",
    "    df_full.drop('TotalCharges', axis=1, inplace=True)\n",
    "except:\n",
    "    print(\"Колонки не найдены\")"
   ]
  },
  {
   "cell_type": "markdown",
   "metadata": {},
   "source": [
    "### Кодирование категориальных признаков"
   ]
  },
  {
   "cell_type": "markdown",
   "metadata": {},
   "source": [
    "Закодируем категориальные признаки методами OHE и ordinal."
   ]
  },
  {
   "cell_type": "code",
   "execution_count": 18,
   "metadata": {},
   "outputs": [
    {
     "data": {
      "text/html": [
       "<div>\n",
       "<style scoped>\n",
       "    .dataframe tbody tr th:only-of-type {\n",
       "        vertical-align: middle;\n",
       "    }\n",
       "\n",
       "    .dataframe tbody tr th {\n",
       "        vertical-align: top;\n",
       "    }\n",
       "\n",
       "    .dataframe thead th {\n",
       "        text-align: right;\n",
       "    }\n",
       "</style>\n",
       "<table border=\"1\" class=\"dataframe\">\n",
       "  <thead>\n",
       "    <tr style=\"text-align: right;\">\n",
       "      <th></th>\n",
       "      <th>MonthlyCharges</th>\n",
       "      <th>IsClient</th>\n",
       "      <th>ConractLength</th>\n",
       "      <th>Type_One year</th>\n",
       "      <th>Type_Two year</th>\n",
       "      <th>PaperlessBilling_Yes</th>\n",
       "      <th>PaymentMethod_Credit card (automatic)</th>\n",
       "      <th>PaymentMethod_Electronic check</th>\n",
       "      <th>PaymentMethod_Mailed check</th>\n",
       "      <th>MultipleLines_Not used</th>\n",
       "      <th>...</th>\n",
       "      <th>DeviceProtection_Yes</th>\n",
       "      <th>TechSupport_Not used</th>\n",
       "      <th>TechSupport_Yes</th>\n",
       "      <th>StreamingTV_Not used</th>\n",
       "      <th>StreamingTV_Yes</th>\n",
       "      <th>StreamingMovies_Not used</th>\n",
       "      <th>StreamingMovies_Yes</th>\n",
       "      <th>gender_Male</th>\n",
       "      <th>PhoneUser_Yes</th>\n",
       "      <th>InternetUser_Yes</th>\n",
       "    </tr>\n",
       "  </thead>\n",
       "  <tbody>\n",
       "    <tr>\n",
       "      <th>0</th>\n",
       "      <td>29.85</td>\n",
       "      <td>1</td>\n",
       "      <td>31</td>\n",
       "      <td>0</td>\n",
       "      <td>0</td>\n",
       "      <td>1</td>\n",
       "      <td>0</td>\n",
       "      <td>1</td>\n",
       "      <td>0</td>\n",
       "      <td>1</td>\n",
       "      <td>...</td>\n",
       "      <td>0</td>\n",
       "      <td>0</td>\n",
       "      <td>0</td>\n",
       "      <td>0</td>\n",
       "      <td>0</td>\n",
       "      <td>0</td>\n",
       "      <td>0</td>\n",
       "      <td>0</td>\n",
       "      <td>0</td>\n",
       "      <td>1</td>\n",
       "    </tr>\n",
       "    <tr>\n",
       "      <th>1</th>\n",
       "      <td>56.95</td>\n",
       "      <td>1</td>\n",
       "      <td>1036</td>\n",
       "      <td>1</td>\n",
       "      <td>0</td>\n",
       "      <td>0</td>\n",
       "      <td>0</td>\n",
       "      <td>0</td>\n",
       "      <td>1</td>\n",
       "      <td>0</td>\n",
       "      <td>...</td>\n",
       "      <td>1</td>\n",
       "      <td>0</td>\n",
       "      <td>0</td>\n",
       "      <td>0</td>\n",
       "      <td>0</td>\n",
       "      <td>0</td>\n",
       "      <td>0</td>\n",
       "      <td>1</td>\n",
       "      <td>1</td>\n",
       "      <td>1</td>\n",
       "    </tr>\n",
       "    <tr>\n",
       "      <th>2</th>\n",
       "      <td>53.85</td>\n",
       "      <td>0</td>\n",
       "      <td>61</td>\n",
       "      <td>0</td>\n",
       "      <td>0</td>\n",
       "      <td>1</td>\n",
       "      <td>0</td>\n",
       "      <td>0</td>\n",
       "      <td>1</td>\n",
       "      <td>0</td>\n",
       "      <td>...</td>\n",
       "      <td>0</td>\n",
       "      <td>0</td>\n",
       "      <td>0</td>\n",
       "      <td>0</td>\n",
       "      <td>0</td>\n",
       "      <td>0</td>\n",
       "      <td>0</td>\n",
       "      <td>1</td>\n",
       "      <td>1</td>\n",
       "      <td>1</td>\n",
       "    </tr>\n",
       "    <tr>\n",
       "      <th>3</th>\n",
       "      <td>42.30</td>\n",
       "      <td>1</td>\n",
       "      <td>1371</td>\n",
       "      <td>1</td>\n",
       "      <td>0</td>\n",
       "      <td>0</td>\n",
       "      <td>0</td>\n",
       "      <td>0</td>\n",
       "      <td>0</td>\n",
       "      <td>1</td>\n",
       "      <td>...</td>\n",
       "      <td>1</td>\n",
       "      <td>0</td>\n",
       "      <td>1</td>\n",
       "      <td>0</td>\n",
       "      <td>0</td>\n",
       "      <td>0</td>\n",
       "      <td>0</td>\n",
       "      <td>1</td>\n",
       "      <td>0</td>\n",
       "      <td>1</td>\n",
       "    </tr>\n",
       "    <tr>\n",
       "      <th>4</th>\n",
       "      <td>70.70</td>\n",
       "      <td>0</td>\n",
       "      <td>61</td>\n",
       "      <td>0</td>\n",
       "      <td>0</td>\n",
       "      <td>1</td>\n",
       "      <td>0</td>\n",
       "      <td>1</td>\n",
       "      <td>0</td>\n",
       "      <td>0</td>\n",
       "      <td>...</td>\n",
       "      <td>0</td>\n",
       "      <td>0</td>\n",
       "      <td>0</td>\n",
       "      <td>0</td>\n",
       "      <td>0</td>\n",
       "      <td>0</td>\n",
       "      <td>0</td>\n",
       "      <td>0</td>\n",
       "      <td>1</td>\n",
       "      <td>1</td>\n",
       "    </tr>\n",
       "  </tbody>\n",
       "</table>\n",
       "<p>5 rows × 28 columns</p>\n",
       "</div>"
      ],
      "text/plain": [
       "   MonthlyCharges  IsClient  ConractLength  Type_One year  Type_Two year  \\\n",
       "0           29.85         1             31              0              0   \n",
       "1           56.95         1           1036              1              0   \n",
       "2           53.85         0             61              0              0   \n",
       "3           42.30         1           1371              1              0   \n",
       "4           70.70         0             61              0              0   \n",
       "\n",
       "   PaperlessBilling_Yes  PaymentMethod_Credit card (automatic)  \\\n",
       "0                     1                                      0   \n",
       "1                     0                                      0   \n",
       "2                     1                                      0   \n",
       "3                     0                                      0   \n",
       "4                     1                                      0   \n",
       "\n",
       "   PaymentMethod_Electronic check  PaymentMethod_Mailed check  \\\n",
       "0                               1                           0   \n",
       "1                               0                           1   \n",
       "2                               0                           1   \n",
       "3                               0                           0   \n",
       "4                               1                           0   \n",
       "\n",
       "   MultipleLines_Not used  ...  DeviceProtection_Yes  TechSupport_Not used  \\\n",
       "0                       1  ...                     0                     0   \n",
       "1                       0  ...                     1                     0   \n",
       "2                       0  ...                     0                     0   \n",
       "3                       1  ...                     1                     0   \n",
       "4                       0  ...                     0                     0   \n",
       "\n",
       "   TechSupport_Yes  StreamingTV_Not used  StreamingTV_Yes  \\\n",
       "0                0                     0                0   \n",
       "1                0                     0                0   \n",
       "2                0                     0                0   \n",
       "3                1                     0                0   \n",
       "4                0                     0                0   \n",
       "\n",
       "   StreamingMovies_Not used  StreamingMovies_Yes  gender_Male  PhoneUser_Yes  \\\n",
       "0                         0                    0            0              0   \n",
       "1                         0                    0            1              1   \n",
       "2                         0                    0            1              1   \n",
       "3                         0                    0            1              0   \n",
       "4                         0                    0            0              1   \n",
       "\n",
       "   InternetUser_Yes  \n",
       "0                 1  \n",
       "1                 1  \n",
       "2                 1  \n",
       "3                 1  \n",
       "4                 1  \n",
       "\n",
       "[5 rows x 28 columns]"
      ]
     },
     "execution_count": 18,
     "metadata": {},
     "output_type": "execute_result"
    }
   ],
   "source": [
    "df_ohe = pd.get_dummies(df_full, drop_first=True)\n",
    "df_ohe.head()"
   ]
  },
  {
   "cell_type": "code",
   "execution_count": 19,
   "metadata": {},
   "outputs": [],
   "source": [
    "train_ohe, valid_ohe = train_test_split(df_ohe, test_size=0.4, random_state=12345, stratify=df_ohe['IsClient'])\n",
    "valid_ohe, test_ohe = train_test_split(valid_ohe, test_size=0.5, random_state=12345, stratify=valid_ohe['IsClient'])\n",
    "\n",
    "train_features_ohe = train_ohe.drop('IsClient', axis=1)\n",
    "train_target_ohe = train_ohe['IsClient']\n",
    "valid_features_ohe = valid_ohe.drop('IsClient', axis=1)\n",
    "valid_target_ohe = valid_ohe['IsClient']"
   ]
  },
  {
   "cell_type": "code",
   "execution_count": 20,
   "metadata": {},
   "outputs": [],
   "source": [
    "cat_features = ['Type','PaperlessBilling','PaymentMethod','MultipleLines','InternetService','OnlineSecurity','OnlineBackup',\n",
    "                'DeviceProtection','TechSupport','StreamingTV','StreamingMovies','gender','PhoneUser','InternetUser',\n",
    "                'IsSeniorCitizen']\n",
    "encoder = OrdinalEncoder()\n",
    "df_ord=df_full.copy()\n",
    "df_ord[cat_features] = encoder.fit_transform(df_ord[cat_features])"
   ]
  },
  {
   "cell_type": "code",
   "execution_count": 21,
   "metadata": {},
   "outputs": [],
   "source": [
    "train_ord, valid_ord = train_test_split(df_ord, test_size=0.4, random_state=12345, stratify=df_ord['IsClient'])\n",
    "valid_ord, test_ord = train_test_split(valid_ord, test_size=0.5, random_state=12345, stratify=valid_ord['IsClient'])\n",
    "\n",
    "train_features_ord = train_ord.drop('IsClient', axis=1)\n",
    "train_target_ord = train_ord['IsClient']\n",
    "valid_features_ord = valid_ord.drop('IsClient', axis=1)\n",
    "valid_target_ord = valid_ord['IsClient']"
   ]
  },
  {
   "cell_type": "code",
   "execution_count": 22,
   "metadata": {},
   "outputs": [],
   "source": [
    "#Разделим на датасеты данные без обработки\n",
    "train_full, valid_full = train_test_split(df_full, test_size=0.4, random_state=12345, stratify=df_full['IsClient'])\n",
    "valid_full, test_full = train_test_split(valid_full, test_size=0.5, random_state=12345, stratify=valid_full['IsClient'])\n",
    "\n",
    "train_features_full = train_full.drop('IsClient', axis=1)\n",
    "train_target_full = train_full['IsClient']\n",
    "valid_features_full = valid_full.drop('IsClient', axis=1)\n",
    "valid_target_full = valid_full['IsClient']\n",
    "test_features_full = test_full.drop('IsClient', axis=1)\n",
    "test_target_full = test_full['IsClient']"
   ]
  },
  {
   "cell_type": "markdown",
   "metadata": {},
   "source": [
    "### Выбор лучшей модели"
   ]
  },
  {
   "cell_type": "code",
   "execution_count": 23,
   "metadata": {},
   "outputs": [],
   "source": [
    "#Функция обучения и проверки модели\n",
    "def get_metrics(model, train_features, train_target, valid_features, valid_target):\n",
    "    model.fit(train_features, train_target)\n",
    "    predictions = model.predict(valid_features)\n",
    "    probabilities_valid = model.predict_proba(valid_features)\n",
    "    probabilities_one_valid = probabilities_valid[:, 1]\n",
    "    accuracy = accuracy_score(valid_target, predictions)\n",
    "    roc_auc = roc_auc_score(valid_target, probabilities_one_valid)\n",
    "    return (accuracy, roc_auc)"
   ]
  },
  {
   "cell_type": "code",
   "execution_count": 24,
   "metadata": {},
   "outputs": [
    {
     "name": "stdout",
     "output_type": "stream",
     "text": [
      "Логистическая регрессия. OHE обработка. Accuracy:  0.8079658605974396\n",
      "Логистическая регрессия. OHE обработка. AUC-ROC:  0.8550747730381792\n",
      "Случайный лес. Ordinal обработка. Accuracy:  0.8093883357041252\n",
      "Случайный лес. Ordinal обработка. AUC-ROC:  0.8486040293495833\n",
      "Случайный лес. OHE обработка. Accuracy:  0.8108108108108109\n",
      "Случайный лес. OHE обработка. AUC-ROC:  0.8447345375782448\n"
     ]
    }
   ],
   "source": [
    "lr_model = LogisticRegression(solver = 'liblinear', random_state = 12345)\n",
    "metrics_lr_ohe = get_metrics(lr_model, train_features_ohe, train_target_ohe, valid_features_ohe, valid_target_ohe)\n",
    "print(\"Логистическая регрессия. OHE обработка. Accuracy: \", metrics_lr_ohe[0])\n",
    "print(\"Логистическая регрессия. OHE обработка. AUC-ROC: \", metrics_lr_ohe[1])\n",
    "\n",
    "rand_forest_model = RandomForestClassifier(random_state=12345)\n",
    "metrics_rf_ord = get_metrics(rand_forest_model, train_features_ord, train_target_ord, valid_features_ord, valid_target_ord)\n",
    "print(\"Случайный лес. Ordinal обработка. Accuracy: \", metrics_rf_ord[0])\n",
    "print(\"Случайный лес. Ordinal обработка. AUC-ROC: \", metrics_rf_ord[1])\n",
    "\n",
    "metrics_rf_ohe = get_metrics(rand_forest_model, train_features_ohe, train_target_ohe, valid_features_ohe, valid_target_ohe)\n",
    "print(\"Случайный лес. OHE обработка. Accuracy: \", metrics_rf_ohe[0])\n",
    "print(\"Случайный лес. OHE обработка. AUC-ROC: \", metrics_rf_ohe[1])"
   ]
  },
  {
   "cell_type": "code",
   "execution_count": 25,
   "metadata": {},
   "outputs": [
    {
     "name": "stdout",
     "output_type": "stream",
     "text": [
      "CatBoostClassifier. Accuracy:  0.8677098150782361\n",
      "CatBoostClassifier. AUC-ROC:  0.9179077021929279\n"
     ]
    }
   ],
   "source": [
    "model = CatBoostClassifier(loss_function='Logloss',eval_metric='AUC', learning_rate=0.1)\n",
    "\n",
    "train_pool = Pool(train_features_full, train_target_full, cat_features)\n",
    "test_pool = Pool(valid_features_full, valid_target_full, cat_features) \n",
    "\n",
    "model.fit(train_pool,\n",
    "          verbose=False)\n",
    "\n",
    "pred_proba = model.predict_proba(test_pool)[:, 1]\n",
    "preds_class = model.predict(test_pool)\n",
    "\n",
    "metrics_cb = []\n",
    "metrics_cb.append(accuracy_score(valid_target_full, preds_class))\n",
    "metrics_cb.append(roc_auc_score(valid_target_full, pred_proba))\n",
    "\n",
    "print(\"CatBoostClassifier. Accuracy: \", metrics_cb[0])\n",
    "print(\"CatBoostClassifier. AUC-ROC: \", metrics_cb[1])"
   ]
  },
  {
   "cell_type": "markdown",
   "metadata": {},
   "source": [
    "Рассмотрим важность признаков для catboost. Удалим наименее используемые."
   ]
  },
  {
   "cell_type": "code",
   "execution_count": 26,
   "metadata": {},
   "outputs": [
    {
     "data": {
      "text/plain": [
       "Text(0.5, 1.0, 'Важность признаков CatBoost')"
      ]
     },
     "execution_count": 26,
     "metadata": {},
     "output_type": "execute_result"
    },
    {
     "data": {
      "image/png": "[encoded data removed]",
      "text/plain": [
       "<Figure size 576x504 with 1 Axes>"
      ]
     },
     "metadata": {
      "needs_background": "light"
     },
     "output_type": "display_data"
    }
   ],
   "source": [
    "plt.figure(figsize = (8, 7))\n",
    "sns.barplot(y=valid_features_full.columns, x=model.feature_importances_, orient='h')\n",
    "plt.title('Важность признаков CatBoost')"
   ]
  },
  {
   "cell_type": "markdown",
   "metadata": {},
   "source": [
    "Удалим наименее важные признаки"
   ]
  },
  {
   "cell_type": "code",
   "execution_count": 27,
   "metadata": {},
   "outputs": [],
   "source": [
    "try:\n",
    "    train_features_full.drop(labels=['StreamingTV', 'IsSeniorCitizen', 'InternetUser',\n",
    "                                     'PhoneUser','gender'], axis=1, inplace=True)\n",
    "    valid_features_full.drop(labels=['StreamingTV', 'IsSeniorCitizen', 'InternetUser',\n",
    "                                     'PhoneUser','gender'], axis=1, inplace=True)\n",
    "    test_features_full.drop(labels=['StreamingTV', 'IsSeniorCitizen', 'InternetUser',\n",
    "                                     'PhoneUser','gender'], axis=1, inplace=True)\n",
    "except:\n",
    "    print(\"Колонки не найдены\")"
   ]
  },
  {
   "cell_type": "markdown",
   "metadata": {},
   "source": [
    "Сравним полученные параметры."
   ]
  },
  {
   "cell_type": "code",
   "execution_count": 28,
   "metadata": {},
   "outputs": [
    {
     "data": {
      "text/html": [
       "<div>\n",
       "<style scoped>\n",
       "    .dataframe tbody tr th:only-of-type {\n",
       "        vertical-align: middle;\n",
       "    }\n",
       "\n",
       "    .dataframe tbody tr th {\n",
       "        vertical-align: top;\n",
       "    }\n",
       "\n",
       "    .dataframe thead th {\n",
       "        text-align: right;\n",
       "    }\n",
       "</style>\n",
       "<table border=\"1\" class=\"dataframe\">\n",
       "  <thead>\n",
       "    <tr style=\"text-align: right;\">\n",
       "      <th></th>\n",
       "      <th>Метрика</th>\n",
       "      <th>Логистическая регрессия. OHE</th>\n",
       "      <th>Случайный лес. Ordinal</th>\n",
       "      <th>Случайный лес. OHE</th>\n",
       "      <th>CatBoostClassifier</th>\n",
       "    </tr>\n",
       "  </thead>\n",
       "  <tbody>\n",
       "    <tr>\n",
       "      <th>0</th>\n",
       "      <td>Accuracy</td>\n",
       "      <td>0.8079658605974396</td>\n",
       "      <td>0.8093883357041252</td>\n",
       "      <td>0.8108108108108109</td>\n",
       "      <td>0.8677098150782361</td>\n",
       "    </tr>\n",
       "    <tr>\n",
       "      <th>1</th>\n",
       "      <td>AUC-ROC</td>\n",
       "      <td>0.8550747730381792</td>\n",
       "      <td>0.8486040293495833</td>\n",
       "      <td>0.8447345375782448</td>\n",
       "      <td>0.9179077021929279</td>\n",
       "    </tr>\n",
       "  </tbody>\n",
       "</table>\n",
       "</div>"
      ],
      "text/plain": [
       "    Метрика Логистическая регрессия. OHE Случайный лес. Ordinal  \\\n",
       "0  Accuracy           0.8079658605974396     0.8093883357041252   \n",
       "1   AUC-ROC           0.8550747730381792     0.8486040293495833   \n",
       "\n",
       "   Случайный лес. OHE  CatBoostClassifier  \n",
       "0  0.8108108108108109  0.8677098150782361  \n",
       "1  0.8447345375782448  0.9179077021929279  "
      ]
     },
     "execution_count": 28,
     "metadata": {},
     "output_type": "execute_result"
    }
   ],
   "source": [
    "transpose = np.array([['Accuracy','AUC-ROC'], metrics_lr_ohe, metrics_rf_ord, metrics_rf_ohe, metrics_cb]).T.tolist()\n",
    "models_compare = pd.DataFrame(transpose, columns=['Метрика','Логистическая регрессия. OHE', 'Случайный лес. Ordinal', \n",
    "                                                       'Случайный лес. OHE', 'CatBoostClassifier'])\n",
    "models_compare"
   ]
  },
  {
   "cell_type": "markdown",
   "metadata": {},
   "source": [
    "Видим, что лучшие результаты нам дает CatBoostClassifier, на втором месте - логистическая регрессия."
   ]
  },
  {
   "cell_type": "markdown",
   "metadata": {},
   "source": [
    "### Подбор гиперпараметров моделей"
   ]
  },
  {
   "cell_type": "markdown",
   "metadata": {},
   "source": [
    "Для подбора гиперпараметров и тестов используем две лучшие модели - Логистическую регрессию и CatBoostClassifier"
   ]
  },
  {
   "cell_type": "code",
   "execution_count": 29,
   "metadata": {},
   "outputs": [],
   "source": [
    "roc_auc_scorer = make_scorer(roc_auc_score, greater_is_better=True, needs_threshold=True)"
   ]
  },
  {
   "cell_type": "code",
   "execution_count": 30,
   "metadata": {},
   "outputs": [
    {
     "name": "stdout",
     "output_type": "stream",
     "text": [
      "Лучшие параметры для логистической регрессии:  {'C': 0.6951927961775606, 'penalty': 'l1'}\n",
      "Логистическая регрессия. AUC-ROC:  0.8439296155018543\n",
      "Wall time: 4.52 s\n"
     ]
    }
   ],
   "source": [
    "%%time\n",
    "lr_model = LogisticRegression(solver = 'liblinear')\n",
    "grid={\"C\":np.logspace(-3,3,20), \"penalty\":[\"l1\",\"l2\"]}\n",
    "logreg_cv=GridSearchCV(lr_model,grid,scoring=roc_auc_scorer,cv=5)\n",
    "logreg_cv.fit(train_features_ohe, train_target_ohe)\n",
    "\n",
    "print(\"Лучшие параметры для логистической регрессии: \",logreg_cv.best_params_)\n",
    "print(\"Логистическая регрессия. AUC-ROC: \",logreg_cv.best_score_)"
   ]
  },
  {
   "cell_type": "code",
   "execution_count": 31,
   "metadata": {},
   "outputs": [
    {
     "name": "stdout",
     "output_type": "stream",
     "text": [
      "0:\ttotal: 2.16ms\tremaining: 430ms\n",
      "1:\ttotal: 4.48ms\tremaining: 443ms\n",
      "2:\ttotal: 6.53ms\tremaining: 429ms\n",
      "3:\ttotal: 8.71ms\tremaining: 427ms\n",
      "4:\ttotal: 10.6ms\tremaining: 415ms\n",
      "5:\ttotal: 12.6ms\tremaining: 406ms\n",
      "6:\ttotal: 14.5ms\tremaining: 400ms\n",
      "7:\ttotal: 16.7ms\tremaining: 402ms\n",
      "8:\ttotal: 18.9ms\tremaining: 401ms\n",
      "9:\ttotal: 21.1ms\tremaining: 400ms\n",
      "10:\ttotal: 23.2ms\tremaining: 399ms\n",
      "11:\ttotal: 25.3ms\tremaining: 396ms\n",
      "12:\ttotal: 27.1ms\tremaining: 389ms\n",
      "13:\ttotal: 29ms\tremaining: 385ms\n",
      "14:\ttotal: 31.3ms\tremaining: 387ms\n",
      "15:\ttotal: 33.2ms\tremaining: 382ms\n",
      "16:\ttotal: 35.5ms\tremaining: 382ms\n",
      "17:\ttotal: 37.5ms\tremaining: 379ms\n",
      "18:\ttotal: 39.7ms\tremaining: 379ms\n",
      "19:\ttotal: 42ms\tremaining: 378ms\n",
      "20:\ttotal: 44.2ms\tremaining: 377ms\n",
      "21:\ttotal: 46.2ms\tremaining: 374ms\n",
      "22:\ttotal: 48.4ms\tremaining: 373ms\n",
      "23:\ttotal: 50.6ms\tremaining: 371ms\n",
      "24:\ttotal: 52.7ms\tremaining: 369ms\n",
      "25:\ttotal: 54.9ms\tremaining: 367ms\n",
      "26:\ttotal: 57.1ms\tremaining: 366ms\n",
      "27:\ttotal: 59ms\tremaining: 362ms\n",
      "28:\ttotal: 60.8ms\tremaining: 359ms\n",
      "29:\ttotal: 62.8ms\tremaining: 356ms\n",
      "30:\ttotal: 65ms\tremaining: 354ms\n",
      "31:\ttotal: 66.8ms\tremaining: 351ms\n",
      "32:\ttotal: 68.8ms\tremaining: 348ms\n",
      "33:\ttotal: 70.7ms\tremaining: 345ms\n",
      "34:\ttotal: 72.8ms\tremaining: 343ms\n",
      "35:\ttotal: 74.9ms\tremaining: 341ms\n",
      "36:\ttotal: 77ms\tremaining: 339ms\n",
      "37:\ttotal: 79.2ms\tremaining: 338ms\n",
      "38:\ttotal: 81.1ms\tremaining: 335ms\n",
      "39:\ttotal: 83.4ms\tremaining: 333ms\n",
      "40:\ttotal: 85.5ms\tremaining: 332ms\n",
      "41:\ttotal: 87.6ms\tremaining: 330ms\n",
      "42:\ttotal: 89.9ms\tremaining: 328ms\n",
      "43:\ttotal: 92.2ms\tremaining: 327ms\n",
      "44:\ttotal: 94.2ms\tremaining: 325ms\n",
      "45:\ttotal: 96.3ms\tremaining: 322ms\n",
      "46:\ttotal: 98.5ms\tremaining: 321ms\n",
      "47:\ttotal: 101ms\tremaining: 319ms\n",
      "48:\ttotal: 103ms\tremaining: 317ms\n",
      "49:\ttotal: 105ms\tremaining: 315ms\n",
      "50:\ttotal: 107ms\tremaining: 313ms\n",
      "51:\ttotal: 109ms\tremaining: 311ms\n",
      "52:\ttotal: 111ms\tremaining: 308ms\n",
      "53:\ttotal: 113ms\tremaining: 305ms\n",
      "54:\ttotal: 115ms\tremaining: 303ms\n",
      "55:\ttotal: 117ms\tremaining: 301ms\n",
      "56:\ttotal: 119ms\tremaining: 299ms\n",
      "57:\ttotal: 121ms\tremaining: 297ms\n",
      "58:\ttotal: 124ms\tremaining: 296ms\n",
      "59:\ttotal: 126ms\tremaining: 294ms\n",
      "60:\ttotal: 128ms\tremaining: 291ms\n",
      "61:\ttotal: 130ms\tremaining: 289ms\n",
      "62:\ttotal: 132ms\tremaining: 287ms\n",
      "63:\ttotal: 134ms\tremaining: 285ms\n",
      "64:\ttotal: 136ms\tremaining: 283ms\n",
      "65:\ttotal: 138ms\tremaining: 281ms\n",
      "66:\ttotal: 141ms\tremaining: 279ms\n",
      "67:\ttotal: 142ms\tremaining: 276ms\n",
      "68:\ttotal: 144ms\tremaining: 273ms\n",
      "69:\ttotal: 146ms\tremaining: 271ms\n",
      "70:\ttotal: 148ms\tremaining: 269ms\n",
      "71:\ttotal: 150ms\tremaining: 267ms\n",
      "72:\ttotal: 152ms\tremaining: 265ms\n",
      "73:\ttotal: 155ms\tremaining: 263ms\n",
      "74:\ttotal: 156ms\tremaining: 261ms\n",
      "75:\ttotal: 159ms\tremaining: 259ms\n",
      "76:\ttotal: 161ms\tremaining: 257ms\n",
      "77:\ttotal: 163ms\tremaining: 255ms\n",
      "78:\ttotal: 165ms\tremaining: 252ms\n",
      "79:\ttotal: 167ms\tremaining: 251ms\n",
      "80:\ttotal: 169ms\tremaining: 249ms\n",
      "81:\ttotal: 171ms\tremaining: 247ms\n",
      "82:\ttotal: 174ms\tremaining: 245ms\n",
      "83:\ttotal: 176ms\tremaining: 243ms\n",
      "84:\ttotal: 178ms\tremaining: 241ms\n",
      "85:\ttotal: 180ms\tremaining: 239ms\n",
      "86:\ttotal: 183ms\tremaining: 237ms\n",
      "87:\ttotal: 185ms\tremaining: 235ms\n",
      "88:\ttotal: 187ms\tremaining: 233ms\n",
      "89:\ttotal: 189ms\tremaining: 231ms\n",
      "90:\ttotal: 190ms\tremaining: 228ms\n",
      "91:\ttotal: 192ms\tremaining: 226ms\n",
      "92:\ttotal: 194ms\tremaining: 223ms\n",
      "93:\ttotal: 196ms\tremaining: 221ms\n",
      "94:\ttotal: 198ms\tremaining: 219ms\n",
      "95:\ttotal: 200ms\tremaining: 216ms\n",
      "96:\ttotal: 202ms\tremaining: 214ms\n",
      "97:\ttotal: 203ms\tremaining: 212ms\n",
      "98:\ttotal: 205ms\tremaining: 209ms\n",
      "99:\ttotal: 207ms\tremaining: 207ms\n",
      "100:\ttotal: 209ms\tremaining: 205ms\n",
      "101:\ttotal: 211ms\tremaining: 202ms\n",
      "102:\ttotal: 213ms\tremaining: 200ms\n",
      "103:\ttotal: 215ms\tremaining: 198ms\n",
      "104:\ttotal: 216ms\tremaining: 196ms\n",
      "105:\ttotal: 218ms\tremaining: 193ms\n",
      "106:\ttotal: 220ms\tremaining: 191ms\n",
      "107:\ttotal: 222ms\tremaining: 189ms\n",
      "108:\ttotal: 223ms\tremaining: 186ms\n",
      "109:\ttotal: 225ms\tremaining: 184ms\n",
      "110:\ttotal: 227ms\tremaining: 182ms\n",
      "111:\ttotal: 229ms\tremaining: 180ms\n",
      "112:\ttotal: 231ms\tremaining: 178ms\n",
      "113:\ttotal: 233ms\tremaining: 175ms\n",
      "114:\ttotal: 235ms\tremaining: 173ms\n",
      "115:\ttotal: 237ms\tremaining: 171ms\n",
      "116:\ttotal: 239ms\tremaining: 170ms\n",
      "117:\ttotal: 241ms\tremaining: 168ms\n",
      "118:\ttotal: 243ms\tremaining: 166ms\n",
      "119:\ttotal: 245ms\tremaining: 164ms\n",
      "120:\ttotal: 247ms\tremaining: 162ms\n",
      "121:\ttotal: 250ms\tremaining: 160ms\n",
      "122:\ttotal: 252ms\tremaining: 158ms\n",
      "123:\ttotal: 254ms\tremaining: 156ms\n",
      "124:\ttotal: 256ms\tremaining: 154ms\n",
      "125:\ttotal: 258ms\tremaining: 152ms\n",
      "126:\ttotal: 260ms\tremaining: 149ms\n",
      "127:\ttotal: 262ms\tremaining: 147ms\n",
      "128:\ttotal: 264ms\tremaining: 145ms\n",
      "129:\ttotal: 265ms\tremaining: 143ms\n",
      "130:\ttotal: 268ms\tremaining: 141ms\n",
      "131:\ttotal: 270ms\tremaining: 139ms\n",
      "132:\ttotal: 272ms\tremaining: 137ms\n",
      "133:\ttotal: 274ms\tremaining: 135ms\n",
      "134:\ttotal: 276ms\tremaining: 133ms\n",
      "135:\ttotal: 278ms\tremaining: 131ms\n",
      "136:\ttotal: 281ms\tremaining: 129ms\n",
      "137:\ttotal: 283ms\tremaining: 127ms\n",
      "138:\ttotal: 284ms\tremaining: 125ms\n",
      "139:\ttotal: 286ms\tremaining: 123ms\n",
      "140:\ttotal: 288ms\tremaining: 121ms\n",
      "141:\ttotal: 290ms\tremaining: 119ms\n",
      "142:\ttotal: 293ms\tremaining: 117ms\n",
      "143:\ttotal: 294ms\tremaining: 115ms\n",
      "144:\ttotal: 296ms\tremaining: 112ms\n",
      "145:\ttotal: 299ms\tremaining: 110ms\n",
      "146:\ttotal: 300ms\tremaining: 108ms\n",
      "147:\ttotal: 302ms\tremaining: 106ms\n",
      "148:\ttotal: 304ms\tremaining: 104ms\n",
      "149:\ttotal: 306ms\tremaining: 102ms\n",
      "150:\ttotal: 308ms\tremaining: 99.9ms\n",
      "151:\ttotal: 310ms\tremaining: 97.8ms\n",
      "152:\ttotal: 312ms\tremaining: 95.7ms\n",
      "153:\ttotal: 313ms\tremaining: 93.6ms\n",
      "154:\ttotal: 315ms\tremaining: 91.4ms\n",
      "155:\ttotal: 317ms\tremaining: 89.4ms\n",
      "156:\ttotal: 319ms\tremaining: 87.3ms\n",
      "157:\ttotal: 321ms\tremaining: 85.3ms\n",
      "158:\ttotal: 323ms\tremaining: 83.2ms\n",
      "159:\ttotal: 325ms\tremaining: 81.1ms\n",
      "160:\ttotal: 326ms\tremaining: 79ms\n",
      "161:\ttotal: 328ms\tremaining: 77ms\n",
      "162:\ttotal: 330ms\tremaining: 74.9ms\n",
      "163:\ttotal: 332ms\tremaining: 72.9ms\n",
      "164:\ttotal: 334ms\tremaining: 70.8ms\n",
      "165:\ttotal: 336ms\tremaining: 68.8ms\n",
      "166:\ttotal: 338ms\tremaining: 66.7ms\n",
      "167:\ttotal: 340ms\tremaining: 64.7ms\n",
      "168:\ttotal: 342ms\tremaining: 62.7ms\n",
      "169:\ttotal: 344ms\tremaining: 60.6ms\n",
      "170:\ttotal: 346ms\tremaining: 58.7ms\n",
      "171:\ttotal: 348ms\tremaining: 56.7ms\n",
      "172:\ttotal: 350ms\tremaining: 54.6ms\n",
      "173:\ttotal: 352ms\tremaining: 52.6ms\n",
      "174:\ttotal: 354ms\tremaining: 50.6ms\n",
      "175:\ttotal: 356ms\tremaining: 48.5ms\n",
      "176:\ttotal: 358ms\tremaining: 46.5ms\n",
      "177:\ttotal: 359ms\tremaining: 44.4ms\n",
      "178:\ttotal: 361ms\tremaining: 42.4ms\n",
      "179:\ttotal: 364ms\tremaining: 40.4ms\n",
      "180:\ttotal: 366ms\tremaining: 38.4ms\n",
      "181:\ttotal: 367ms\tremaining: 36.3ms\n",
      "182:\ttotal: 370ms\tremaining: 34.3ms\n",
      "183:\ttotal: 371ms\tremaining: 32.3ms\n",
      "184:\ttotal: 373ms\tremaining: 30.3ms\n",
      "185:\ttotal: 375ms\tremaining: 28.3ms\n",
      "186:\ttotal: 377ms\tremaining: 26.2ms\n",
      "187:\ttotal: 379ms\tremaining: 24.2ms\n",
      "188:\ttotal: 381ms\tremaining: 22.2ms\n",
      "189:\ttotal: 383ms\tremaining: 20.1ms\n",
      "190:\ttotal: 385ms\tremaining: 18.1ms\n",
      "191:\ttotal: 387ms\tremaining: 16.1ms\n",
      "192:\ttotal: 389ms\tremaining: 14.1ms\n",
      "193:\ttotal: 391ms\tremaining: 12.1ms\n",
      "194:\ttotal: 393ms\tremaining: 10.1ms\n",
      "195:\ttotal: 395ms\tremaining: 8.05ms\n",
      "196:\ttotal: 396ms\tremaining: 6.03ms\n",
      "197:\ttotal: 398ms\tremaining: 4.02ms\n",
      "198:\ttotal: 400ms\tremaining: 2.01ms\n",
      "199:\ttotal: 402ms\tremaining: 0us\n",
      "CatBoostClassifier. AUC-ROC:  0.9193358478981427\n",
      "CatBoostClassifier. Лучшие параметры:  {'depth': 4, 'iterations': 200, 'l2_leaf_reg': 0.2, 'learning_rate': 0.25, 'loss_function': 'Logloss'}\n",
      "Wall time: 8min 14s\n"
     ]
    }
   ],
   "source": [
    "%%time\n",
    "from sklearn.preprocessing import LabelEncoder\n",
    "model = CatBoostClassifier(eval_metric='AUC')\n",
    "\n",
    "grid = {'iterations': [100, 150, 200],\n",
    "        'learning_rate': [0.01, 0.05, 0.1, 0.15, 0.2, 0.25, 0.5],\n",
    "        'depth': [4, 6, 10],\n",
    "        'l2_leaf_reg': [0.2, 0.5, 1, 3],\n",
    "        'loss_function': ['Logloss', 'CrossEntropy']}\n",
    "\n",
    "Grid_CBC = GridSearchCV(estimator=model, param_grid = grid, cv = 5, scoring=roc_auc_scorer, n_jobs=-1)\n",
    "X_train_enc = train_features_full.apply(LabelEncoder().fit_transform)\n",
    "Grid_CBC.fit(X_train_enc, train_target_full)\n",
    "print(\"CatBoostClassifier. AUC-ROC: \",Grid_CBC.best_score_)\n",
    "print(\"CatBoostClassifier. Лучшие параметры: \",Grid_CBC.best_params_)"
   ]
  },
  {
   "cell_type": "markdown",
   "metadata": {},
   "source": [
    "При подборе гиперпараметров модель CatBoostClassifier показывает лучшее значение метрик. Выберем ее для финального тестирования."
   ]
  },
  {
   "cell_type": "markdown",
   "metadata": {},
   "source": [
    "## Финальное тестирование модели с лучшими гиперпараметрами"
   ]
  },
  {
   "cell_type": "code",
   "execution_count": 34,
   "metadata": {},
   "outputs": [
    {
     "name": "stdout",
     "output_type": "stream",
     "text": [
      "CatBoostClassifier. Accuracy:  0.8699360341151386\n",
      "CatBoostClassifier. AUC-ROC:  0.9176972734002516\n"
     ]
    }
   ],
   "source": [
    "cat_features = ['Type','PaperlessBilling','PaymentMethod','MultipleLines','InternetService','OnlineSecurity','OnlineBackup',\n",
    "                'DeviceProtection','TechSupport','StreamingMovies']\n",
    "model = CatBoostClassifier(loss_function='Logloss',eval_metric='AUC', learning_rate=0.25, depth=4, iterations=200, l2_leaf_reg=0.2)\n",
    "train_pool = Pool(train_features_full, train_target_full, cat_features)\n",
    "test_pool = Pool(test_features_full, test_target_full, cat_features) \n",
    "\n",
    "model.fit(train_pool,\n",
    "          verbose=False)\n",
    "\n",
    "pred_proba = model.predict_proba(test_pool)[:, 1]\n",
    "preds_class = model.predict(test_pool)\n",
    "\n",
    "print(\"CatBoostClassifier. Accuracy: \", accuracy_score(test_target_full, preds_class))\n",
    "print(\"CatBoostClassifier. AUC-ROC: \", roc_auc_score(test_target_full, pred_proba))"
   ]
  },
  {
   "cell_type": "markdown",
   "metadata": {},
   "source": [
    "## Вывод"
   ]
  },
  {
   "cell_type": "markdown",
   "metadata": {},
   "source": [
    "Мы выбрали лучшую модель - CatBoostClassifier. Эта модель дала нам метрику AUC-ROC = 0.91.  Она обучается дольше, но дает значительно лучший результат метрик. В случае, если у бизнеса нет времени ждать долго, а данных для обучения будет значительно больше, для обучения можно взять логистическую регрессию."
   ]
  },
  {
   "cell_type": "code",
   "execution_count": null,
   "metadata": {},
   "outputs": [],
   "source": []
  }
 ],
 "metadata": {
  "ExecuteTimeLog": [
   {
    "duration": 136,
    "start_time": "2021-07-26T11:22:32.949Z"
   },
   {
    "duration": 131,
    "start_time": "2021-07-26T11:22:46.579Z"
   },
   {
    "duration": 770,
    "start_time": "2021-07-26T11:22:50.411Z"
   },
   {
    "duration": 3,
    "start_time": "2021-07-26T11:22:51.382Z"
   },
   {
    "duration": 60,
    "start_time": "2021-07-26T11:24:04.518Z"
   },
   {
    "duration": 27,
    "start_time": "2021-07-26T11:24:13.990Z"
   },
   {
    "duration": 966,
    "start_time": "2021-07-27T09:16:40.912Z"
   },
   {
    "duration": 873,
    "start_time": "2021-07-27T09:16:45.980Z"
   },
   {
    "duration": 12,
    "start_time": "2021-07-27T09:16:52.066Z"
   },
   {
    "duration": 45,
    "start_time": "2021-07-27T09:17:18.776Z"
   },
   {
    "duration": 109,
    "start_time": "2021-07-27T09:43:42.873Z"
   },
   {
    "duration": 14,
    "start_time": "2021-07-27T09:44:50.835Z"
   },
   {
    "duration": 517,
    "start_time": "2021-07-27T09:44:58.031Z"
   },
   {
    "duration": 25,
    "start_time": "2021-07-27T09:45:10.279Z"
   },
   {
    "duration": 4,
    "start_time": "2021-07-27T09:46:59.564Z"
   },
   {
    "duration": 4,
    "start_time": "2021-07-27T09:48:20.394Z"
   },
   {
    "duration": 4,
    "start_time": "2021-07-27T09:48:33.278Z"
   },
   {
    "duration": 4,
    "start_time": "2021-07-27T09:48:34.510Z"
   },
   {
    "duration": 5,
    "start_time": "2021-07-27T09:48:36.094Z"
   },
   {
    "duration": 5,
    "start_time": "2021-07-27T09:48:36.854Z"
   },
   {
    "duration": 4,
    "start_time": "2021-07-27T09:48:46.582Z"
   },
   {
    "duration": 19,
    "start_time": "2021-07-27T09:50:22.135Z"
   },
   {
    "duration": 4,
    "start_time": "2021-07-27T09:50:36.606Z"
   },
   {
    "duration": 31,
    "start_time": "2021-07-27T09:50:37.582Z"
   },
   {
    "duration": 4,
    "start_time": "2021-07-27T09:50:55.734Z"
   },
   {
    "duration": 28,
    "start_time": "2021-07-27T09:50:56.734Z"
   },
   {
    "duration": 5,
    "start_time": "2021-07-27T09:51:28.775Z"
   },
   {
    "duration": 28,
    "start_time": "2021-07-27T09:51:30.254Z"
   },
   {
    "duration": 5,
    "start_time": "2021-07-27T09:54:12.950Z"
   },
   {
    "duration": 4,
    "start_time": "2021-07-27T09:54:24.742Z"
   },
   {
    "duration": 44,
    "start_time": "2021-07-27T09:54:28.910Z"
   },
   {
    "duration": 6,
    "start_time": "2021-07-27T09:55:01.798Z"
   },
   {
    "duration": 5,
    "start_time": "2021-07-27T09:55:05.534Z"
   },
   {
    "duration": 403,
    "start_time": "2021-07-27T09:55:07.031Z"
   },
   {
    "duration": 5,
    "start_time": "2021-07-27T09:56:09.725Z"
   },
   {
    "duration": 497,
    "start_time": "2021-07-27T09:56:14.094Z"
   },
   {
    "duration": 7,
    "start_time": "2021-07-27T09:56:24.366Z"
   },
   {
    "duration": 536,
    "start_time": "2021-07-27T09:56:26.478Z"
   },
   {
    "duration": 6,
    "start_time": "2021-07-27T09:56:43.941Z"
   },
   {
    "duration": 476,
    "start_time": "2021-07-27T09:56:47.094Z"
   },
   {
    "duration": 6,
    "start_time": "2021-07-27T09:56:55.302Z"
   },
   {
    "duration": 328,
    "start_time": "2021-07-27T09:56:57.685Z"
   },
   {
    "duration": 5,
    "start_time": "2021-07-27T09:57:02.757Z"
   },
   {
    "duration": 379,
    "start_time": "2021-07-27T09:57:05.398Z"
   },
   {
    "duration": 35,
    "start_time": "2021-07-27T09:58:06.102Z"
   },
   {
    "duration": 137,
    "start_time": "2021-07-27T10:01:33.172Z"
   },
   {
    "duration": 4,
    "start_time": "2021-07-27T10:01:52.685Z"
   },
   {
    "duration": 110,
    "start_time": "2021-07-27T10:01:53.269Z"
   },
   {
    "duration": 6,
    "start_time": "2021-07-27T10:01:53.829Z"
   },
   {
    "duration": 5,
    "start_time": "2021-07-27T10:01:54.685Z"
   },
   {
    "duration": 29,
    "start_time": "2021-07-27T10:02:58.773Z"
   },
   {
    "duration": 42,
    "start_time": "2021-07-27T10:03:38.214Z"
   },
   {
    "duration": 74,
    "start_time": "2021-07-27T10:06:15.261Z"
   },
   {
    "duration": 5,
    "start_time": "2021-07-27T10:06:40.084Z"
   },
   {
    "duration": 76,
    "start_time": "2021-07-27T10:06:46.318Z"
   },
   {
    "duration": 8,
    "start_time": "2021-07-27T10:06:57.740Z"
   },
   {
    "duration": 6,
    "start_time": "2021-07-27T10:07:02.942Z"
   },
   {
    "duration": 84,
    "start_time": "2021-07-27T10:07:03.541Z"
   },
   {
    "duration": 7,
    "start_time": "2021-07-27T10:07:23.949Z"
   },
   {
    "duration": 121,
    "start_time": "2021-07-27T10:07:25.085Z"
   },
   {
    "duration": 4,
    "start_time": "2021-07-27T10:07:44.093Z"
   },
   {
    "duration": 86,
    "start_time": "2021-07-27T10:07:44.958Z"
   },
   {
    "duration": 5,
    "start_time": "2021-07-27T10:07:56.375Z"
   },
   {
    "duration": 5,
    "start_time": "2021-07-27T10:08:02.060Z"
   },
   {
    "duration": 86,
    "start_time": "2021-07-27T10:08:03.909Z"
   },
   {
    "duration": 5,
    "start_time": "2021-07-27T10:08:23.477Z"
   },
   {
    "duration": 5,
    "start_time": "2021-07-27T10:08:24.892Z"
   },
   {
    "duration": 5,
    "start_time": "2021-07-27T10:08:25.509Z"
   },
   {
    "duration": 115,
    "start_time": "2021-07-27T10:08:27.781Z"
   },
   {
    "duration": 5,
    "start_time": "2021-07-27T10:08:42.413Z"
   },
   {
    "duration": 5,
    "start_time": "2021-07-27T10:08:43.861Z"
   },
   {
    "duration": 86,
    "start_time": "2021-07-27T10:08:44.765Z"
   },
   {
    "duration": 9,
    "start_time": "2021-07-27T10:21:02.683Z"
   },
   {
    "duration": 13,
    "start_time": "2021-07-27T10:21:11.019Z"
   },
   {
    "duration": 490,
    "start_time": "2021-07-27T10:21:36.099Z"
   },
   {
    "duration": 17,
    "start_time": "2021-07-27T10:23:56.256Z"
   },
   {
    "duration": 16,
    "start_time": "2021-07-27T10:24:08.234Z"
   },
   {
    "duration": 16,
    "start_time": "2021-07-27T10:24:48.299Z"
   },
   {
    "duration": 16,
    "start_time": "2021-07-27T10:25:03.170Z"
   },
   {
    "duration": 17,
    "start_time": "2021-07-27T10:25:08.699Z"
   },
   {
    "duration": 19,
    "start_time": "2021-07-27T10:25:29.570Z"
   },
   {
    "duration": 15,
    "start_time": "2021-07-27T10:30:51.314Z"
   },
   {
    "duration": 35,
    "start_time": "2021-07-27T10:33:56.905Z"
   },
   {
    "duration": 21,
    "start_time": "2021-07-27T10:34:06.273Z"
   },
   {
    "duration": 47,
    "start_time": "2021-07-27T10:50:53.912Z"
   },
   {
    "duration": 107,
    "start_time": "2021-07-27T10:51:25.168Z"
   },
   {
    "duration": 38,
    "start_time": "2021-07-27T10:51:29.808Z"
   },
   {
    "duration": 10,
    "start_time": "2021-07-27T11:02:33.727Z"
   },
   {
    "duration": 388,
    "start_time": "2021-07-27T11:03:21.590Z"
   },
   {
    "duration": 3,
    "start_time": "2021-07-27T11:06:18.838Z"
   },
   {
    "duration": 3,
    "start_time": "2021-07-27T11:07:57.429Z"
   },
   {
    "duration": 5,
    "start_time": "2021-07-27T11:12:59.613Z"
   },
   {
    "duration": 1326,
    "start_time": "2021-07-27T11:13:05.405Z"
   },
   {
    "duration": 5,
    "start_time": "2021-07-27T11:13:13.453Z"
   },
   {
    "duration": 1270,
    "start_time": "2021-07-27T11:13:18.565Z"
   },
   {
    "duration": 5,
    "start_time": "2021-07-27T11:13:52.237Z"
   },
   {
    "duration": 858,
    "start_time": "2021-07-27T11:13:58.311Z"
   },
   {
    "duration": 6,
    "start_time": "2021-07-27T11:15:04.780Z"
   },
   {
    "duration": 1187,
    "start_time": "2021-07-27T11:15:10.189Z"
   },
   {
    "duration": 19,
    "start_time": "2021-07-27T11:36:37.730Z"
   },
   {
    "duration": 811,
    "start_time": "2021-07-28T11:37:15.635Z"
   },
   {
    "duration": 117,
    "start_time": "2021-07-28T11:37:16.449Z"
   },
   {
    "duration": 6,
    "start_time": "2021-07-28T11:37:16.569Z"
   },
   {
    "duration": 30,
    "start_time": "2021-07-28T11:37:16.577Z"
   },
   {
    "duration": 113,
    "start_time": "2021-07-28T11:37:16.610Z"
   },
   {
    "duration": 13,
    "start_time": "2021-07-28T11:37:16.725Z"
   },
   {
    "duration": 1333,
    "start_time": "2021-07-28T11:37:16.740Z"
   },
   {
    "duration": 35,
    "start_time": "2021-07-28T11:37:18.075Z"
   },
   {
    "duration": 13,
    "start_time": "2021-07-28T11:37:18.114Z"
   },
   {
    "duration": 12,
    "start_time": "2021-07-28T11:39:51.347Z"
   },
   {
    "duration": 13,
    "start_time": "2021-07-28T11:39:59.322Z"
   },
   {
    "duration": 31,
    "start_time": "2021-07-28T11:40:10.090Z"
   },
   {
    "duration": 21,
    "start_time": "2021-07-28T11:40:55.015Z"
   },
   {
    "duration": 15,
    "start_time": "2021-07-28T11:41:03.522Z"
   },
   {
    "duration": 23,
    "start_time": "2021-07-28T11:41:47.595Z"
   },
   {
    "duration": 610,
    "start_time": "2021-07-28T11:44:30.329Z"
   },
   {
    "duration": 20,
    "start_time": "2021-07-28T11:44:41.789Z"
   },
   {
    "duration": 13,
    "start_time": "2021-07-28T11:44:45.922Z"
   },
   {
    "duration": 11,
    "start_time": "2021-07-28T11:44:50.546Z"
   },
   {
    "duration": 11,
    "start_time": "2021-07-28T11:45:43.026Z"
   },
   {
    "duration": 456,
    "start_time": "2021-07-28T11:46:50.121Z"
   },
   {
    "duration": 419,
    "start_time": "2021-07-28T11:46:57.241Z"
   },
   {
    "duration": 503,
    "start_time": "2021-07-28T11:47:02.897Z"
   },
   {
    "duration": 804,
    "start_time": "2021-07-28T11:47:24.770Z"
   },
   {
    "duration": 22,
    "start_time": "2021-07-28T11:47:47.380Z"
   },
   {
    "duration": 16,
    "start_time": "2021-07-28T11:47:54.396Z"
   },
   {
    "duration": 12,
    "start_time": "2021-07-28T11:48:06.067Z"
   },
   {
    "duration": 15,
    "start_time": "2021-07-28T11:48:12.312Z"
   },
   {
    "duration": 12,
    "start_time": "2021-07-28T11:48:21.369Z"
   },
   {
    "duration": 12,
    "start_time": "2021-07-29T03:07:22.534Z"
   },
   {
    "duration": 777,
    "start_time": "2021-07-29T03:57:21.822Z"
   },
   {
    "duration": 24,
    "start_time": "2021-07-29T03:58:03.406Z"
   },
   {
    "duration": 7,
    "start_time": "2021-07-29T03:58:14.630Z"
   },
   {
    "duration": 136,
    "start_time": "2021-07-29T03:58:59.606Z"
   },
   {
    "duration": 518,
    "start_time": "2021-07-29T05:07:48.517Z"
   },
   {
    "duration": 400,
    "start_time": "2021-07-29T05:07:59.468Z"
   },
   {
    "duration": 20,
    "start_time": "2021-07-29T05:08:34.419Z"
   },
   {
    "duration": 466,
    "start_time": "2021-07-29T05:09:43.277Z"
   },
   {
    "duration": 14,
    "start_time": "2021-07-29T05:12:42.716Z"
   },
   {
    "duration": 19,
    "start_time": "2021-07-29T05:12:57.817Z"
   },
   {
    "duration": 22,
    "start_time": "2021-07-29T05:14:01.119Z"
   },
   {
    "duration": 19,
    "start_time": "2021-07-29T05:14:13.838Z"
   },
   {
    "duration": 12,
    "start_time": "2021-07-29T05:14:22.370Z"
   },
   {
    "duration": 11,
    "start_time": "2021-07-29T05:14:29.685Z"
   },
   {
    "duration": 13,
    "start_time": "2021-07-29T05:18:38.680Z"
   },
   {
    "duration": 19,
    "start_time": "2021-07-29T05:18:52.566Z"
   },
   {
    "duration": 10,
    "start_time": "2021-07-29T05:19:23.135Z"
   },
   {
    "duration": 11,
    "start_time": "2021-07-29T05:19:25.528Z"
   },
   {
    "duration": 149,
    "start_time": "2021-07-29T05:20:33.759Z"
   },
   {
    "duration": 13,
    "start_time": "2021-07-29T05:20:44.038Z"
   },
   {
    "duration": 417,
    "start_time": "2021-07-29T05:21:19.455Z"
   },
   {
    "duration": 15,
    "start_time": "2021-07-29T05:21:48.959Z"
   },
   {
    "duration": 1384,
    "start_time": "2021-07-29T05:22:49.276Z"
   },
   {
    "duration": 112,
    "start_time": "2021-07-29T05:22:50.663Z"
   },
   {
    "duration": 4,
    "start_time": "2021-07-29T05:22:50.779Z"
   },
   {
    "duration": 23,
    "start_time": "2021-07-29T05:22:50.786Z"
   },
   {
    "duration": 103,
    "start_time": "2021-07-29T05:22:50.811Z"
   },
   {
    "duration": 24,
    "start_time": "2021-07-29T05:22:50.916Z"
   },
   {
    "duration": 1307,
    "start_time": "2021-07-29T05:22:50.942Z"
   },
   {
    "duration": 18,
    "start_time": "2021-07-29T05:22:52.252Z"
   },
   {
    "duration": 23,
    "start_time": "2021-07-29T05:22:52.274Z"
   },
   {
    "duration": 23,
    "start_time": "2021-07-29T05:22:52.300Z"
   },
   {
    "duration": 24,
    "start_time": "2021-07-29T05:37:11.305Z"
   },
   {
    "duration": 13,
    "start_time": "2021-07-29T05:37:22.930Z"
   },
   {
    "duration": 25,
    "start_time": "2021-07-29T05:37:31.937Z"
   },
   {
    "duration": 13,
    "start_time": "2021-07-29T05:37:40.146Z"
   },
   {
    "duration": 10,
    "start_time": "2021-07-29T05:37:52.481Z"
   },
   {
    "duration": 690,
    "start_time": "2021-07-29T05:38:32.810Z"
   },
   {
    "duration": 497,
    "start_time": "2021-07-29T05:38:40.106Z"
   },
   {
    "duration": 12,
    "start_time": "2021-07-29T05:38:48.198Z"
   },
   {
    "duration": 21,
    "start_time": "2021-07-29T05:39:11.553Z"
   },
   {
    "duration": 30,
    "start_time": "2021-07-29T05:39:26.178Z"
   },
   {
    "duration": 21,
    "start_time": "2021-07-29T05:39:52.369Z"
   },
   {
    "duration": 968,
    "start_time": "2021-07-29T05:40:08.584Z"
   },
   {
    "duration": 22,
    "start_time": "2021-07-29T05:41:37.785Z"
   },
   {
    "duration": 21,
    "start_time": "2021-07-29T05:41:52.392Z"
   },
   {
    "duration": 22,
    "start_time": "2021-07-29T06:47:14.128Z"
   },
   {
    "duration": 21,
    "start_time": "2021-07-29T06:47:22.863Z"
   },
   {
    "duration": 490,
    "start_time": "2021-07-29T08:45:50.434Z"
   },
   {
    "duration": 16,
    "start_time": "2021-07-29T08:46:05.123Z"
   },
   {
    "duration": 14,
    "start_time": "2021-07-29T08:52:57.737Z"
   },
   {
    "duration": 15,
    "start_time": "2021-07-29T08:52:59.176Z"
   },
   {
    "duration": 15,
    "start_time": "2021-07-29T08:53:00.152Z"
   },
   {
    "duration": 15,
    "start_time": "2021-07-29T08:53:01.113Z"
   },
   {
    "duration": 12,
    "start_time": "2021-07-29T10:01:04.061Z"
   },
   {
    "duration": 1312,
    "start_time": "2021-07-29T10:03:13.749Z"
   },
   {
    "duration": 111,
    "start_time": "2021-07-29T10:03:15.064Z"
   },
   {
    "duration": 4,
    "start_time": "2021-07-29T10:03:15.178Z"
   },
   {
    "duration": 9,
    "start_time": "2021-07-29T10:03:15.185Z"
   },
   {
    "duration": 112,
    "start_time": "2021-07-29T10:03:15.196Z"
   },
   {
    "duration": 21,
    "start_time": "2021-07-29T10:03:15.311Z"
   },
   {
    "duration": 1212,
    "start_time": "2021-07-29T10:03:15.335Z"
   },
   {
    "duration": 11,
    "start_time": "2021-07-29T10:03:16.551Z"
   },
   {
    "duration": 30,
    "start_time": "2021-07-29T10:03:16.564Z"
   },
   {
    "duration": 20,
    "start_time": "2021-07-29T10:39:50.607Z"
   },
   {
    "duration": 5,
    "start_time": "2021-07-29T10:46:21.232Z"
   },
   {
    "duration": 1390,
    "start_time": "2021-07-29T10:46:27.679Z"
   },
   {
    "duration": 6,
    "start_time": "2021-07-29T10:46:47.168Z"
   },
   {
    "duration": 1244,
    "start_time": "2021-07-29T10:46:50.119Z"
   },
   {
    "duration": 19,
    "start_time": "2021-07-29T10:50:04.294Z"
   },
   {
    "duration": 15,
    "start_time": "2021-07-29T10:52:42.133Z"
   },
   {
    "duration": 12,
    "start_time": "2021-07-29T10:52:44.085Z"
   },
   {
    "duration": 11,
    "start_time": "2021-07-29T10:52:47.933Z"
   },
   {
    "duration": 12,
    "start_time": "2021-07-29T10:53:01.005Z"
   },
   {
    "duration": 8,
    "start_time": "2021-07-29T10:55:13.197Z"
   },
   {
    "duration": 565,
    "start_time": "2021-07-29T10:55:28.494Z"
   },
   {
    "duration": 1024,
    "start_time": "2021-07-29T10:55:36.029Z"
   },
   {
    "duration": 540,
    "start_time": "2021-07-29T10:55:57.693Z"
   },
   {
    "duration": 18,
    "start_time": "2021-07-29T10:56:22.798Z"
   },
   {
    "duration": 9,
    "start_time": "2021-07-29T10:56:40.277Z"
   },
   {
    "duration": 430,
    "start_time": "2021-07-29T10:57:03.213Z"
   },
   {
    "duration": 9,
    "start_time": "2021-07-29T10:57:59.870Z"
   },
   {
    "duration": 14,
    "start_time": "2021-07-29T10:58:24.911Z"
   },
   {
    "duration": 13215,
    "start_time": "2021-07-29T11:00:00.367Z"
   },
   {
    "duration": 15,
    "start_time": "2021-07-29T11:00:21.885Z"
   },
   {
    "duration": 19,
    "start_time": "2021-07-29T11:02:44.900Z"
   },
   {
    "duration": 19,
    "start_time": "2021-07-29T11:02:49.315Z"
   },
   {
    "duration": 429,
    "start_time": "2021-07-29T11:03:18.341Z"
   },
   {
    "duration": 436,
    "start_time": "2021-07-29T11:03:23.275Z"
   },
   {
    "duration": 20,
    "start_time": "2021-07-29T11:03:27.069Z"
   },
   {
    "duration": 414,
    "start_time": "2021-07-29T11:03:57.310Z"
   },
   {
    "duration": 428,
    "start_time": "2021-07-29T11:04:19.172Z"
   },
   {
    "duration": 549,
    "start_time": "2021-07-29T11:04:32.245Z"
   },
   {
    "duration": 153,
    "start_time": "2021-07-29T11:06:42.932Z"
   },
   {
    "duration": 136,
    "start_time": "2021-07-29T11:06:57.980Z"
   },
   {
    "duration": 390,
    "start_time": "2021-07-29T11:07:03.380Z"
   },
   {
    "duration": 630,
    "start_time": "2021-07-29T11:07:55.876Z"
   },
   {
    "duration": 386,
    "start_time": "2021-07-29T11:09:17.781Z"
   },
   {
    "duration": 18,
    "start_time": "2021-07-29T11:24:05.426Z"
   },
   {
    "duration": 20,
    "start_time": "2021-07-29T11:25:13.730Z"
   },
   {
    "duration": 59,
    "start_time": "2021-07-30T07:56:06.306Z"
   },
   {
    "duration": 2317,
    "start_time": "2021-08-03T14:07:58.941Z"
   },
   {
    "duration": 101,
    "start_time": "2021-08-03T14:08:01.263Z"
   },
   {
    "duration": 5,
    "start_time": "2021-08-03T14:08:36.549Z"
   },
   {
    "duration": 560,
    "start_time": "2021-08-03T14:08:37.451Z"
   },
   {
    "duration": 9,
    "start_time": "2021-08-03T14:08:38.953Z"
   },
   {
    "duration": 1279,
    "start_time": "2021-08-03T14:08:39.101Z"
   },
   {
    "duration": 19,
    "start_time": "2021-08-03T14:08:40.759Z"
   },
   {
    "duration": 6,
    "start_time": "2021-08-03T14:08:41.287Z"
   },
   {
    "duration": 12,
    "start_time": "2021-08-03T14:08:41.695Z"
   },
   {
    "duration": 17,
    "start_time": "2021-08-03T14:08:42.603Z"
   },
   {
    "duration": 1049,
    "start_time": "2021-08-03T14:08:43.265Z"
   },
   {
    "duration": 5,
    "start_time": "2021-08-03T14:09:30.295Z"
   },
   {
    "duration": 5,
    "start_time": "2021-08-03T14:09:35.373Z"
   },
   {
    "duration": 89,
    "start_time": "2021-08-03T14:09:41.379Z"
   },
   {
    "duration": 4,
    "start_time": "2021-08-03T14:11:31.172Z"
   },
   {
    "duration": 1296,
    "start_time": "2021-08-03T14:11:31.859Z"
   },
   {
    "duration": 12,
    "start_time": "2021-08-03T14:11:33.162Z"
   },
   {
    "duration": 6,
    "start_time": "2021-08-03T14:11:34.571Z"
   },
   {
    "duration": 11,
    "start_time": "2021-08-03T14:11:35.380Z"
   },
   {
    "duration": 14,
    "start_time": "2021-08-03T14:11:37.803Z"
   },
   {
    "duration": 526,
    "start_time": "2021-08-03T14:11:40.005Z"
   },
   {
    "duration": 34,
    "start_time": "2021-08-03T14:12:37.519Z"
   },
   {
    "duration": 2606,
    "start_time": "2021-08-03T14:13:02.411Z"
   },
   {
    "duration": 8598,
    "start_time": "2021-08-03T14:13:42.203Z"
   },
   {
    "duration": 113,
    "start_time": "2021-08-03T14:14:06.171Z"
   },
   {
    "duration": 4,
    "start_time": "2021-08-03T14:14:09.049Z"
   },
   {
    "duration": 5,
    "start_time": "2021-08-03T14:14:09.251Z"
   },
   {
    "duration": 76,
    "start_time": "2021-08-03T14:14:09.428Z"
   },
   {
    "duration": 8,
    "start_time": "2021-08-03T14:14:09.870Z"
   },
   {
    "duration": 1285,
    "start_time": "2021-08-03T14:14:10.657Z"
   },
   {
    "duration": 27,
    "start_time": "2021-08-03T14:14:11.944Z"
   },
   {
    "duration": 9,
    "start_time": "2021-08-03T14:14:11.974Z"
   },
   {
    "duration": 12,
    "start_time": "2021-08-03T14:14:12.163Z"
   },
   {
    "duration": 11,
    "start_time": "2021-08-03T14:14:14.333Z"
   },
   {
    "duration": 548,
    "start_time": "2021-08-03T14:14:16.394Z"
   },
   {
    "duration": 31,
    "start_time": "2021-08-03T14:14:20.573Z"
   },
   {
    "duration": 4241,
    "start_time": "2021-08-03T14:14:28.427Z"
   },
   {
    "duration": 691,
    "start_time": "2021-08-03T14:17:01.430Z"
   },
   {
    "duration": 32,
    "start_time": "2021-08-03T14:17:06.550Z"
   }
  ],
  "kernelspec": {
   "display_name": "Python 3",
   "language": "python",
   "name": "python3"
  },
  "language_info": {
   "codemirror_mode": {
    "name": "ipython",
    "version": 3
   },
   "file_extension": ".py",
   "mimetype": "text/x-python",
   "name": "python",
   "nbconvert_exporter": "python",
   "pygments_lexer": "ipython3",
   "version": "3.8.8"
  },
  "toc": {
   "base_numbering": 1,
   "nav_menu": {},
   "number_sections": true,
   "sideBar": true,
   "skip_h1_title": true,
   "title_cell": "Table of Contents",
   "title_sidebar": "Contents",
   "toc_cell": false,
   "toc_position": {},
   "toc_section_display": true,
   "toc_window_display": false
  }
 },
 "nbformat": 4,
 "nbformat_minor": 2
}
